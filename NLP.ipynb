{
 "cells": [
  {
   "cell_type": "markdown",
   "metadata": {},
   "source": [
    "# Librerias necesarias\n",
    "\n",
    "En esta parte del proyecto ponemos en práctica lo aprendido sobre procesamiento de lenguaje natural (NLP por sus siglas en inglés)."
   ]
  },
  {
   "cell_type": "code",
   "execution_count": 1,
   "metadata": {},
   "outputs": [],
   "source": [
    "import pandas as pd\n",
    "import numpy as np\n",
    "import nltk\n",
    "import seaborn as sns\n",
    "import matplotlib.pyplot as plt\n",
    "from wordcloud import WordCloud\n",
    "from nltk.corpus import stopwords\n",
    "from nltk.tokenize import WhitespaceTokenizer\n",
    "from nltk.util import ngrams"
   ]
  },
  {
   "cell_type": "markdown",
   "metadata": {},
   "source": [
    "# Lectura de Datos\n",
    "\n",
    "Una vez que importamos los módulos necesarios para nuestro análisis, procedemos a leer el `DataFrame` que resultó del proyecto del módulo anterior. Este `DataFrame` ya se encuentra limpio, sin embargo, para hacer el análisis sobre el campo de `senas_particulares` de nuestro dataset tendremos que hacer un pulido de los registros en esta columna."
   ]
  },
  {
   "cell_type": "code",
   "execution_count": 2,
   "metadata": {},
   "outputs": [
    {
     "data": {
      "text/html": [
       "<div>\n",
       "<style scoped>\n",
       "    .dataframe tbody tr th:only-of-type {\n",
       "        vertical-align: middle;\n",
       "    }\n",
       "\n",
       "    .dataframe tbody tr th {\n",
       "        vertical-align: top;\n",
       "    }\n",
       "\n",
       "    .dataframe thead th {\n",
       "        text-align: right;\n",
       "    }\n",
       "</style>\n",
       "<table border=\"1\" class=\"dataframe\">\n",
       "  <thead>\n",
       "    <tr style=\"text-align: right;\">\n",
       "      <th></th>\n",
       "      <th>anio</th>\n",
       "      <th>fecha</th>\n",
       "      <th>hora</th>\n",
       "      <th>dias_desaparecido</th>\n",
       "      <th>entidad</th>\n",
       "      <th>municipio</th>\n",
       "      <th>localidad</th>\n",
       "      <th>coordenadas</th>\n",
       "      <th>nacionalidad</th>\n",
       "      <th>sexo</th>\n",
       "      <th>edad</th>\n",
       "      <th>estatura</th>\n",
       "      <th>complexion</th>\n",
       "      <th>senas_particulares</th>\n",
       "      <th>discapacidad</th>\n",
       "      <th>dependecia_origen</th>\n",
       "    </tr>\n",
       "  </thead>\n",
       "  <tbody>\n",
       "    <tr>\n",
       "      <th>0</th>\n",
       "      <td>2012</td>\n",
       "      <td>2012-03-18</td>\n",
       "      <td>05:00:00</td>\n",
       "      <td>2234</td>\n",
       "      <td>Sonora</td>\n",
       "      <td>Navojoa</td>\n",
       "      <td>Navojoa</td>\n",
       "      <td>27.069053, -109.439423</td>\n",
       "      <td>Mexicana</td>\n",
       "      <td>Mujer</td>\n",
       "      <td>7</td>\n",
       "      <td>1.1</td>\n",
       "      <td>Delgada</td>\n",
       "      <td>Tiene Una Cicatriz En La Rodilla Izquierda Por...</td>\n",
       "      <td>Ninguno</td>\n",
       "      <td>FGE - Sonora</td>\n",
       "    </tr>\n",
       "    <tr>\n",
       "      <th>1</th>\n",
       "      <td>2007</td>\n",
       "      <td>2007-02-05</td>\n",
       "      <td>02:00:26</td>\n",
       "      <td>4102</td>\n",
       "      <td>Estado De Mexico</td>\n",
       "      <td>Valle De Bravo</td>\n",
       "      <td>Valle De Bravo</td>\n",
       "      <td>19.16368, -100.134684</td>\n",
       "      <td>Mexicana</td>\n",
       "      <td>Mujer</td>\n",
       "      <td>4</td>\n",
       "      <td>1.1</td>\n",
       "      <td>Delgada</td>\n",
       "      <td>No Especificado</td>\n",
       "      <td>Ninguno</td>\n",
       "      <td>FGJ - Estado De Mexico</td>\n",
       "    </tr>\n",
       "    <tr>\n",
       "      <th>2</th>\n",
       "      <td>2009</td>\n",
       "      <td>2009-03-14</td>\n",
       "      <td>08:30:54</td>\n",
       "      <td>3334</td>\n",
       "      <td>Estado De Mexico</td>\n",
       "      <td>Chalco</td>\n",
       "      <td>Chalco</td>\n",
       "      <td>19.266337, -98.8978</td>\n",
       "      <td>Mexicana</td>\n",
       "      <td>Hombre</td>\n",
       "      <td>6</td>\n",
       "      <td>1.1</td>\n",
       "      <td>Delgada</td>\n",
       "      <td>Manchas, Parte Superior De Pierna Derecha, Cic...</td>\n",
       "      <td>Ninguno</td>\n",
       "      <td>FGJ - Estado De Mexico</td>\n",
       "    </tr>\n",
       "    <tr>\n",
       "      <th>3</th>\n",
       "      <td>2006</td>\n",
       "      <td>2006-12-23</td>\n",
       "      <td>08:00:28</td>\n",
       "      <td>4146</td>\n",
       "      <td>Estado De Mexico</td>\n",
       "      <td>Tlalnepantla De Baz</td>\n",
       "      <td>Tlalnepantla De Baz</td>\n",
       "      <td>19.547512, -99.193851</td>\n",
       "      <td>Mexicana</td>\n",
       "      <td>Hombre</td>\n",
       "      <td>10</td>\n",
       "      <td>1.1</td>\n",
       "      <td>Delgada</td>\n",
       "      <td>Lunares, A La Altura De La Cinturaforma De Man...</td>\n",
       "      <td>Ninguno</td>\n",
       "      <td>FGJ - Estado De Mexico</td>\n",
       "    </tr>\n",
       "    <tr>\n",
       "      <th>4</th>\n",
       "      <td>2008</td>\n",
       "      <td>2008-01-11</td>\n",
       "      <td>12:00:17</td>\n",
       "      <td>3762</td>\n",
       "      <td>Estado De Mexico</td>\n",
       "      <td>Toluca</td>\n",
       "      <td>Toluca</td>\n",
       "      <td>18.078, -91.6552</td>\n",
       "      <td>Mexicana</td>\n",
       "      <td>Hombre</td>\n",
       "      <td>4</td>\n",
       "      <td>1.1</td>\n",
       "      <td>Delgada</td>\n",
       "      <td>No Especificado</td>\n",
       "      <td>Ninguno</td>\n",
       "      <td>FGJ - Estado De Mexico</td>\n",
       "    </tr>\n",
       "  </tbody>\n",
       "</table>\n",
       "</div>"
      ],
      "text/plain": [
       "   anio       fecha      hora  dias_desaparecido           entidad  \\\n",
       "0  2012  2012-03-18  05:00:00               2234            Sonora   \n",
       "1  2007  2007-02-05  02:00:26               4102  Estado De Mexico   \n",
       "2  2009  2009-03-14  08:30:54               3334  Estado De Mexico   \n",
       "3  2006  2006-12-23  08:00:28               4146  Estado De Mexico   \n",
       "4  2008  2008-01-11  12:00:17               3762  Estado De Mexico   \n",
       "\n",
       "             municipio            localidad             coordenadas  \\\n",
       "0              Navojoa              Navojoa  27.069053, -109.439423   \n",
       "1       Valle De Bravo       Valle De Bravo   19.16368, -100.134684   \n",
       "2               Chalco               Chalco     19.266337, -98.8978   \n",
       "3  Tlalnepantla De Baz  Tlalnepantla De Baz   19.547512, -99.193851   \n",
       "4               Toluca               Toluca        18.078, -91.6552   \n",
       "\n",
       "  nacionalidad    sexo  edad  estatura complexion  \\\n",
       "0     Mexicana   Mujer     7       1.1    Delgada   \n",
       "1     Mexicana   Mujer     4       1.1    Delgada   \n",
       "2     Mexicana  Hombre     6       1.1    Delgada   \n",
       "3     Mexicana  Hombre    10       1.1    Delgada   \n",
       "4     Mexicana  Hombre     4       1.1    Delgada   \n",
       "\n",
       "                                  senas_particulares discapacidad  \\\n",
       "0  Tiene Una Cicatriz En La Rodilla Izquierda Por...      Ninguno   \n",
       "1                                    No Especificado      Ninguno   \n",
       "2  Manchas, Parte Superior De Pierna Derecha, Cic...      Ninguno   \n",
       "3  Lunares, A La Altura De La Cinturaforma De Man...      Ninguno   \n",
       "4                                    No Especificado      Ninguno   \n",
       "\n",
       "        dependecia_origen  \n",
       "0            FGE - Sonora  \n",
       "1  FGJ - Estado De Mexico  \n",
       "2  FGJ - Estado De Mexico  \n",
       "3  FGJ - Estado De Mexico  \n",
       "4  FGJ - Estado De Mexico  "
      ]
     },
     "execution_count": 2,
     "metadata": {},
     "output_type": "execute_result"
    }
   ],
   "source": [
    "df = pd.read_csv('https://raw.githubusercontent.com/KevinRC55/Proyecto-de-Python-BEDU/main/RNPEDFC_Final.csv', encoding='ISO-8859-1')\n",
    "df.head()"
   ]
  },
  {
   "cell_type": "markdown",
   "metadata": {},
   "source": [
    "Como se observa de las instrucciones anteriores, nuestra variable `senas_particulares` es apta para realizar un análisis utilizando lo aprendido sobre procesamiento del lenguaje natural con `nltk`."
   ]
  },
  {
   "cell_type": "code",
   "execution_count": 3,
   "metadata": {},
   "outputs": [
    {
     "data": {
      "text/plain": [
       "0        Tiene Una Cicatriz En La Rodilla Izquierda Por...\n",
       "1                                          No Especificado\n",
       "2        Manchas, Parte Superior De Pierna Derecha, Cic...\n",
       "3        Lunares, A La Altura De La Cinturaforma De Man...\n",
       "4                                          No Especificado\n",
       "                               ...                        \n",
       "35896    Lunar En La Mejilla Y Tatuaje En El Cuello En ...\n",
       "35897    El Ojo Izquierdo Tiene Un Enfermedad Como Tic,...\n",
       "35898                                      No Especificado\n",
       "35899    Tatuaje En El Brazo Izquierdo Con La Imagen De...\n",
       "35900                                      No Especificado\n",
       "Name: senas_particulares, Length: 35901, dtype: object"
      ]
     },
     "execution_count": 3,
     "metadata": {},
     "output_type": "execute_result"
    }
   ],
   "source": [
    "df['senas_particulares']"
   ]
  },
  {
   "cell_type": "markdown",
   "metadata": {},
   "source": [
    "# Uso de patrones RegEx para limpiar datos\n",
    "\n"
   ]
  },
  {
   "cell_type": "markdown",
   "metadata": {},
   "source": [
    "De las instrucciones anteriores podemos observar que los registros con un valor de 'No Especificado' no nos serán particularmente útiles para estudiar nuestra variable. Es con este motivo que generamos un `DataFrame` sin los registros que poseen este valor como observación."
   ]
  },
  {
   "cell_type": "code",
   "execution_count": 4,
   "metadata": {},
   "outputs": [
    {
     "data": {
      "text/html": [
       "<div>\n",
       "<style scoped>\n",
       "    .dataframe tbody tr th:only-of-type {\n",
       "        vertical-align: middle;\n",
       "    }\n",
       "\n",
       "    .dataframe tbody tr th {\n",
       "        vertical-align: top;\n",
       "    }\n",
       "\n",
       "    .dataframe thead th {\n",
       "        text-align: right;\n",
       "    }\n",
       "</style>\n",
       "<table border=\"1\" class=\"dataframe\">\n",
       "  <thead>\n",
       "    <tr style=\"text-align: right;\">\n",
       "      <th></th>\n",
       "      <th>anio</th>\n",
       "      <th>fecha</th>\n",
       "      <th>hora</th>\n",
       "      <th>dias_desaparecido</th>\n",
       "      <th>entidad</th>\n",
       "      <th>municipio</th>\n",
       "      <th>localidad</th>\n",
       "      <th>coordenadas</th>\n",
       "      <th>nacionalidad</th>\n",
       "      <th>sexo</th>\n",
       "      <th>edad</th>\n",
       "      <th>estatura</th>\n",
       "      <th>complexion</th>\n",
       "      <th>senas_particulares</th>\n",
       "      <th>discapacidad</th>\n",
       "      <th>dependecia_origen</th>\n",
       "    </tr>\n",
       "  </thead>\n",
       "  <tbody>\n",
       "    <tr>\n",
       "      <th>0</th>\n",
       "      <td>2012</td>\n",
       "      <td>2012-03-18</td>\n",
       "      <td>05:00:00</td>\n",
       "      <td>2234</td>\n",
       "      <td>Sonora</td>\n",
       "      <td>Navojoa</td>\n",
       "      <td>Navojoa</td>\n",
       "      <td>27.069053, -109.439423</td>\n",
       "      <td>Mexicana</td>\n",
       "      <td>Mujer</td>\n",
       "      <td>7</td>\n",
       "      <td>1.10</td>\n",
       "      <td>Delgada</td>\n",
       "      <td>Tiene Una Cicatriz En La Rodilla Izquierda Por...</td>\n",
       "      <td>Ninguno</td>\n",
       "      <td>FGE - Sonora</td>\n",
       "    </tr>\n",
       "    <tr>\n",
       "      <th>2</th>\n",
       "      <td>2009</td>\n",
       "      <td>2009-03-14</td>\n",
       "      <td>08:30:54</td>\n",
       "      <td>3334</td>\n",
       "      <td>Estado De Mexico</td>\n",
       "      <td>Chalco</td>\n",
       "      <td>Chalco</td>\n",
       "      <td>19.266337, -98.8978</td>\n",
       "      <td>Mexicana</td>\n",
       "      <td>Hombre</td>\n",
       "      <td>6</td>\n",
       "      <td>1.10</td>\n",
       "      <td>Delgada</td>\n",
       "      <td>Manchas, Parte Superior De Pierna Derecha, Cic...</td>\n",
       "      <td>Ninguno</td>\n",
       "      <td>FGJ - Estado De Mexico</td>\n",
       "    </tr>\n",
       "    <tr>\n",
       "      <th>3</th>\n",
       "      <td>2006</td>\n",
       "      <td>2006-12-23</td>\n",
       "      <td>08:00:28</td>\n",
       "      <td>4146</td>\n",
       "      <td>Estado De Mexico</td>\n",
       "      <td>Tlalnepantla De Baz</td>\n",
       "      <td>Tlalnepantla De Baz</td>\n",
       "      <td>19.547512, -99.193851</td>\n",
       "      <td>Mexicana</td>\n",
       "      <td>Hombre</td>\n",
       "      <td>10</td>\n",
       "      <td>1.10</td>\n",
       "      <td>Delgada</td>\n",
       "      <td>Lunares, A La Altura De La Cinturaforma De Man...</td>\n",
       "      <td>Ninguno</td>\n",
       "      <td>FGJ - Estado De Mexico</td>\n",
       "    </tr>\n",
       "    <tr>\n",
       "      <th>7</th>\n",
       "      <td>2011</td>\n",
       "      <td>2011-06-13</td>\n",
       "      <td>01:00:11</td>\n",
       "      <td>2513</td>\n",
       "      <td>Estado De Mexico</td>\n",
       "      <td>Amecameca</td>\n",
       "      <td>Amecameca</td>\n",
       "      <td>19.128693, -98.764657</td>\n",
       "      <td>Mexicana</td>\n",
       "      <td>Mujer</td>\n",
       "      <td>7</td>\n",
       "      <td>1.15</td>\n",
       "      <td>Robusta</td>\n",
       "      <td>Manchas, En El Tobilloderecha Causada Porquema...</td>\n",
       "      <td>Ninguno</td>\n",
       "      <td>FGJ - Estado De Mexico</td>\n",
       "    </tr>\n",
       "    <tr>\n",
       "      <th>8</th>\n",
       "      <td>2010</td>\n",
       "      <td>2010-04-24</td>\n",
       "      <td>01:00:47</td>\n",
       "      <td>2928</td>\n",
       "      <td>Estado De Mexico</td>\n",
       "      <td>Teoloyucan</td>\n",
       "      <td>Teoloyucan</td>\n",
       "      <td>19.751582, -99.171598</td>\n",
       "      <td>Mexicana</td>\n",
       "      <td>Hombre</td>\n",
       "      <td>6</td>\n",
       "      <td>1.15</td>\n",
       "      <td>Delgada</td>\n",
       "      <td>Cicatrices, En La Caravaricela Pocas</td>\n",
       "      <td>Ninguno</td>\n",
       "      <td>FGJ - Estado De Mexico</td>\n",
       "    </tr>\n",
       "    <tr>\n",
       "      <th>...</th>\n",
       "      <td>...</td>\n",
       "      <td>...</td>\n",
       "      <td>...</td>\n",
       "      <td>...</td>\n",
       "      <td>...</td>\n",
       "      <td>...</td>\n",
       "      <td>...</td>\n",
       "      <td>...</td>\n",
       "      <td>...</td>\n",
       "      <td>...</td>\n",
       "      <td>...</td>\n",
       "      <td>...</td>\n",
       "      <td>...</td>\n",
       "      <td>...</td>\n",
       "      <td>...</td>\n",
       "      <td>...</td>\n",
       "    </tr>\n",
       "    <tr>\n",
       "      <th>35892</th>\n",
       "      <td>2018</td>\n",
       "      <td>2018-04-22</td>\n",
       "      <td>11:30:00</td>\n",
       "      <td>8</td>\n",
       "      <td>Puebla</td>\n",
       "      <td>Puebla</td>\n",
       "      <td>Puebla</td>\n",
       "      <td>19.051201, -98.212116</td>\n",
       "      <td>Mexicana</td>\n",
       "      <td>Mujer</td>\n",
       "      <td>18</td>\n",
       "      <td>1.52</td>\n",
       "      <td>Delgada</td>\n",
       "      <td>Perforacion En La Lengua Y Mancha Blanca En Me...</td>\n",
       "      <td>Ninguno</td>\n",
       "      <td>FGE - Puebla</td>\n",
       "    </tr>\n",
       "    <tr>\n",
       "      <th>35895</th>\n",
       "      <td>2018</td>\n",
       "      <td>2018-04-15</td>\n",
       "      <td>06:30:00</td>\n",
       "      <td>15</td>\n",
       "      <td>Colima</td>\n",
       "      <td>Colima</td>\n",
       "      <td>Colima</td>\n",
       "      <td>19.242918, -103.709341</td>\n",
       "      <td>Mexicana</td>\n",
       "      <td>Hombre</td>\n",
       "      <td>57</td>\n",
       "      <td>1.59</td>\n",
       "      <td>Robusta</td>\n",
       "      <td>Tiene Una Cicatriz En La Parte Baja De Su Abdo...</td>\n",
       "      <td>Ninguno</td>\n",
       "      <td>PGJ - Colima</td>\n",
       "    </tr>\n",
       "    <tr>\n",
       "      <th>35896</th>\n",
       "      <td>2018</td>\n",
       "      <td>2018-04-26</td>\n",
       "      <td>08:00:00</td>\n",
       "      <td>4</td>\n",
       "      <td>Puebla</td>\n",
       "      <td>Puebla</td>\n",
       "      <td>Puebla</td>\n",
       "      <td>19.051201, -98.212116</td>\n",
       "      <td>Mexicana</td>\n",
       "      <td>Hombre</td>\n",
       "      <td>22</td>\n",
       "      <td>1.60</td>\n",
       "      <td>Delgada</td>\n",
       "      <td>Lunar En La Mejilla Y Tatuaje En El Cuello En ...</td>\n",
       "      <td>Ninguno</td>\n",
       "      <td>FGE - Puebla</td>\n",
       "    </tr>\n",
       "    <tr>\n",
       "      <th>35897</th>\n",
       "      <td>2018</td>\n",
       "      <td>2018-01-08</td>\n",
       "      <td>11:00:00</td>\n",
       "      <td>112</td>\n",
       "      <td>Colima</td>\n",
       "      <td>Villa De Alvarez</td>\n",
       "      <td>Villa De Alvarez</td>\n",
       "      <td>19.25, -103.73333</td>\n",
       "      <td>Mexicana</td>\n",
       "      <td>Mujer</td>\n",
       "      <td>27</td>\n",
       "      <td>1.70</td>\n",
       "      <td>Robusta</td>\n",
       "      <td>El Ojo Izquierdo Tiene Un Enfermedad Como Tic,...</td>\n",
       "      <td>Ninguno</td>\n",
       "      <td>PGJ - Colima</td>\n",
       "    </tr>\n",
       "    <tr>\n",
       "      <th>35899</th>\n",
       "      <td>2017</td>\n",
       "      <td>2017-08-22</td>\n",
       "      <td>04:00:00</td>\n",
       "      <td>251</td>\n",
       "      <td>Colima</td>\n",
       "      <td>Villa De Alvarez</td>\n",
       "      <td>Villa De Alvarez</td>\n",
       "      <td>19.25, -103.73333</td>\n",
       "      <td>Mexicana</td>\n",
       "      <td>Hombre</td>\n",
       "      <td>41</td>\n",
       "      <td>1.76</td>\n",
       "      <td>Robusta</td>\n",
       "      <td>Tatuaje En El Brazo Izquierdo Con La Imagen De...</td>\n",
       "      <td>Ninguno</td>\n",
       "      <td>PGJ - Colima</td>\n",
       "    </tr>\n",
       "  </tbody>\n",
       "</table>\n",
       "<p>17211 rows × 16 columns</p>\n",
       "</div>"
      ],
      "text/plain": [
       "       anio       fecha      hora  dias_desaparecido           entidad  \\\n",
       "0      2012  2012-03-18  05:00:00               2234            Sonora   \n",
       "2      2009  2009-03-14  08:30:54               3334  Estado De Mexico   \n",
       "3      2006  2006-12-23  08:00:28               4146  Estado De Mexico   \n",
       "7      2011  2011-06-13  01:00:11               2513  Estado De Mexico   \n",
       "8      2010  2010-04-24  01:00:47               2928  Estado De Mexico   \n",
       "...     ...         ...       ...                ...               ...   \n",
       "35892  2018  2018-04-22  11:30:00                  8            Puebla   \n",
       "35895  2018  2018-04-15  06:30:00                 15            Colima   \n",
       "35896  2018  2018-04-26  08:00:00                  4            Puebla   \n",
       "35897  2018  2018-01-08  11:00:00                112            Colima   \n",
       "35899  2017  2017-08-22  04:00:00                251            Colima   \n",
       "\n",
       "                 municipio            localidad             coordenadas  \\\n",
       "0                  Navojoa              Navojoa  27.069053, -109.439423   \n",
       "2                   Chalco               Chalco     19.266337, -98.8978   \n",
       "3      Tlalnepantla De Baz  Tlalnepantla De Baz   19.547512, -99.193851   \n",
       "7                Amecameca            Amecameca   19.128693, -98.764657   \n",
       "8               Teoloyucan           Teoloyucan   19.751582, -99.171598   \n",
       "...                    ...                  ...                     ...   \n",
       "35892               Puebla               Puebla   19.051201, -98.212116   \n",
       "35895               Colima               Colima  19.242918, -103.709341   \n",
       "35896               Puebla               Puebla   19.051201, -98.212116   \n",
       "35897     Villa De Alvarez     Villa De Alvarez       19.25, -103.73333   \n",
       "35899     Villa De Alvarez     Villa De Alvarez       19.25, -103.73333   \n",
       "\n",
       "      nacionalidad    sexo  edad  estatura complexion  \\\n",
       "0         Mexicana   Mujer     7      1.10    Delgada   \n",
       "2         Mexicana  Hombre     6      1.10    Delgada   \n",
       "3         Mexicana  Hombre    10      1.10    Delgada   \n",
       "7         Mexicana   Mujer     7      1.15    Robusta   \n",
       "8         Mexicana  Hombre     6      1.15    Delgada   \n",
       "...            ...     ...   ...       ...        ...   \n",
       "35892     Mexicana   Mujer    18      1.52    Delgada   \n",
       "35895     Mexicana  Hombre    57      1.59    Robusta   \n",
       "35896     Mexicana  Hombre    22      1.60    Delgada   \n",
       "35897     Mexicana   Mujer    27      1.70    Robusta   \n",
       "35899     Mexicana  Hombre    41      1.76    Robusta   \n",
       "\n",
       "                                      senas_particulares discapacidad  \\\n",
       "0      Tiene Una Cicatriz En La Rodilla Izquierda Por...      Ninguno   \n",
       "2      Manchas, Parte Superior De Pierna Derecha, Cic...      Ninguno   \n",
       "3      Lunares, A La Altura De La Cinturaforma De Man...      Ninguno   \n",
       "7      Manchas, En El Tobilloderecha Causada Porquema...      Ninguno   \n",
       "8                   Cicatrices, En La Caravaricela Pocas      Ninguno   \n",
       "...                                                  ...          ...   \n",
       "35892  Perforacion En La Lengua Y Mancha Blanca En Me...      Ninguno   \n",
       "35895  Tiene Una Cicatriz En La Parte Baja De Su Abdo...      Ninguno   \n",
       "35896  Lunar En La Mejilla Y Tatuaje En El Cuello En ...      Ninguno   \n",
       "35897  El Ojo Izquierdo Tiene Un Enfermedad Como Tic,...      Ninguno   \n",
       "35899  Tatuaje En El Brazo Izquierdo Con La Imagen De...      Ninguno   \n",
       "\n",
       "            dependecia_origen  \n",
       "0                FGE - Sonora  \n",
       "2      FGJ - Estado De Mexico  \n",
       "3      FGJ - Estado De Mexico  \n",
       "7      FGJ - Estado De Mexico  \n",
       "8      FGJ - Estado De Mexico  \n",
       "...                       ...  \n",
       "35892            FGE - Puebla  \n",
       "35895            PGJ - Colima  \n",
       "35896            FGE - Puebla  \n",
       "35897            PGJ - Colima  \n",
       "35899            PGJ - Colima  \n",
       "\n",
       "[17211 rows x 16 columns]"
      ]
     },
     "execution_count": 4,
     "metadata": {},
     "output_type": "execute_result"
    }
   ],
   "source": [
    "senas_part_df = df.loc[df['senas_particulares'] !='No Especificado']\n",
    "senas_part_df"
   ]
  },
  {
   "cell_type": "markdown",
   "metadata": {},
   "source": [
    "En tanto que en esta parte del proyecto nos centramos en el estudio de la variable `senas_particulares`, prescindimos de momento del dataframe en favor de trabajar exclusivamente con la columna."
   ]
  },
  {
   "cell_type": "code",
   "execution_count": 5,
   "metadata": {},
   "outputs": [
    {
     "data": {
      "text/plain": [
       "0        Tiene Una Cicatriz En La Rodilla Izquierda Por...\n",
       "2        Manchas, Parte Superior De Pierna Derecha, Cic...\n",
       "3        Lunares, A La Altura De La Cinturaforma De Man...\n",
       "7        Manchas, En El Tobilloderecha Causada Porquema...\n",
       "8                     Cicatrices, En La Caravaricela Pocas\n",
       "                               ...                        \n",
       "35892    Perforacion En La Lengua Y Mancha Blanca En Me...\n",
       "35895    Tiene Una Cicatriz En La Parte Baja De Su Abdo...\n",
       "35896    Lunar En La Mejilla Y Tatuaje En El Cuello En ...\n",
       "35897    El Ojo Izquierdo Tiene Un Enfermedad Como Tic,...\n",
       "35899    Tatuaje En El Brazo Izquierdo Con La Imagen De...\n",
       "Name: senas_particulares, Length: 17211, dtype: object"
      ]
     },
     "execution_count": 5,
     "metadata": {},
     "output_type": "execute_result"
    }
   ],
   "source": [
    "senas_part_series = senas_part_df['senas_particulares']\n",
    "senas_part_series"
   ]
  },
  {
   "cell_type": "markdown",
   "metadata": {},
   "source": [
    "Estandarizamos los registros en `senas_part_series` pasando todos los caracteres a minúsculas, quitando los _trailing characters_, y quitando caracteres que no sean letras ni espacios."
   ]
  },
  {
   "cell_type": "code",
   "execution_count": 6,
   "metadata": {},
   "outputs": [
    {
     "data": {
      "text/plain": [
       "0        tiene una cicatriz en la rodilla izquierda por...\n",
       "2        manchas parte superior de pierna derecha cicat...\n",
       "3        lunares a la altura de la cinturaforma de manc...\n",
       "7        manchas en el tobilloderecha causada porquemad...\n",
       "8                      cicatrices en la caravaricela pocas\n",
       "                               ...                        \n",
       "35892    perforacion en la lengua y mancha blanca en me...\n",
       "35895    tiene una cicatriz en la parte baja de su abdo...\n",
       "35896    lunar en la mejilla y tatuaje en el cuello en ...\n",
       "35897    el ojo izquierdo tiene un enfermedad como tic ...\n",
       "35899    tatuaje en el brazo izquierdo con la imagen de...\n",
       "Name: senas_particulares, Length: 17211, dtype: object"
      ]
     },
     "execution_count": 6,
     "metadata": {},
     "output_type": "execute_result"
    }
   ],
   "source": [
    "# Estandarizando a todo lower case\n",
    "senas_part_series = senas_part_series.str.lower()\n",
    "\n",
    "# Quitando los trailing characters\n",
    "senas_part_series = senas_part_series.str.strip()\n",
    "\n",
    "# Quitando los \\n, \\t, \\r\n",
    "#senas_part_series = senas_part_series.str.replace(r'\\t+|\\n+|\\r+', ' ', regex=True)\n",
    "\n",
    "# Quitando los caracteres que no son letras ni espacios\n",
    "senas_part_series = senas_part_series.str.replace('[^\\w\\s]', '', regex=True)\n",
    "\n",
    "# Quitando comas\n",
    "#sena_part_series = senas_part_series.str.replace(',', '')\n",
    "\n",
    "# Como los datos ya estan libres de NAs, no es necesario hacer ese procesamnto\n",
    "\n",
    "#senas_part_series[senas_part_seriess.str.contains(',')]\n",
    "\n",
    "senas_part_series"
   ]
  },
  {
   "cell_type": "markdown",
   "metadata": {},
   "source": [
    "# Análisis estadístico de los datos\n",
    "\n",
    "Nos interesa conocer cuáles son las características más comunes que comparten las personas desaparecidas, por lo que primero tokenizamos las palabras pues es requisito para construir un objeto `FreqDist` y también es esencial para el análisis de contextos."
   ]
  },
  {
   "cell_type": "code",
   "execution_count": 7,
   "metadata": {},
   "outputs": [
    {
     "data": {
      "text/plain": [
       "['tiene',\n",
       " 'una',\n",
       " 'cicatriz',\n",
       " 'en',\n",
       " 'la',\n",
       " 'rodilla',\n",
       " 'izquierda',\n",
       " 'por',\n",
       " 'una',\n",
       " 'caida',\n",
       " 'tipo',\n",
       " 'raspon',\n",
       " 'manchas',\n",
       " 'parte',\n",
       " 'superior',\n",
       " 'de',\n",
       " 'pierna',\n",
       " 'derecha',\n",
       " 'cicatrices',\n",
       " 'en',\n",
       " 'ceja',\n",
       " 'izquierda',\n",
       " 'y',\n",
       " 'una',\n",
       " 'mas',\n",
       " 'en',\n",
       " 'el',\n",
       " 'lado',\n",
       " 'izquie',\n",
       " 'lunares',\n",
       " 'a',\n",
       " 'la',\n",
       " 'altura',\n",
       " 'de',\n",
       " 'la',\n",
       " 'cinturaforma',\n",
       " 'de',\n",
       " 'mancha',\n",
       " 'cicatrices',\n",
       " 'a',\n",
       " 'un',\n",
       " 'lado',\n",
       " 'ojo',\n",
       " 'derecho',\n",
       " 'manchas',\n",
       " 'en',\n",
       " 'el',\n",
       " 'tobilloderecha',\n",
       " 'causada',\n",
       " 'porquemadura',\n",
       " 'de',\n",
       " 'bicileta',\n",
       " 'quemaduras',\n",
       " 'cicatrices',\n",
       " 'en',\n",
       " 'la',\n",
       " 'cej',\n",
       " 'cicatrices',\n",
       " 'en',\n",
       " 'la',\n",
       " 'caravaricela',\n",
       " 'pocas',\n",
       " 'lunares',\n",
       " 'en',\n",
       " 'cuello',\n",
       " 'en',\n",
       " 'indice',\n",
       " 'izq',\n",
       " 'y',\n",
       " 'arco',\n",
       " 'del',\n",
       " 'pie',\n",
       " 'izquierdo',\n",
       " 'en',\n",
       " 'la',\n",
       " 'pierna',\n",
       " 'izquierda',\n",
       " 'ya',\n",
       " 'que',\n",
       " 'se',\n",
       " 'le',\n",
       " 'puso',\n",
       " 'una',\n",
       " 'placa',\n",
       " 'en',\n",
       " 'el',\n",
       " 'femur',\n",
       " 'con',\n",
       " 'corte',\n",
       " 'de',\n",
       " 'volcan',\n",
       " 'cicatrices',\n",
       " 'pestañas',\n",
       " 'rizadas',\n",
       " 'en',\n",
       " 'unos',\n",
       " 'de',\n",
       " 'sus',\n",
       " 'brazos',\n",
       " 'tiene',\n",
       " 'un',\n",
       " 'tatuaje',\n",
       " 'en',\n",
       " 'unos',\n",
       " 'de',\n",
       " 'sus',\n",
       " 'brazos',\n",
       " 'las',\n",
       " 'cuales',\n",
       " 'son',\n",
       " 'unas',\n",
       " 'letras',\n",
       " 'que',\n",
       " 'dicen',\n",
       " 'brandon',\n",
       " 'jonathan',\n",
       " 'cuenta',\n",
       " 'con',\n",
       " 'mancha',\n",
       " 'yo',\n",
       " 'lunar',\n",
       " 'en',\n",
       " 'unos',\n",
       " 'de',\n",
       " 'los',\n",
       " 'codos',\n",
       " 'no',\n",
       " 'usa',\n",
       " 'bigote',\n",
       " 'pero',\n",
       " 'su',\n",
       " 'una',\n",
       " 'barba',\n",
       " 'tiene',\n",
       " 'dos',\n",
       " 'tatuajes',\n",
       " 'en',\n",
       " 'el',\n",
       " 'pecho',\n",
       " 'del',\n",
       " 'lado',\n",
       " 'derecho',\n",
       " 'el',\n",
       " 'nombre',\n",
       " 'de',\n",
       " 'miriam',\n",
       " 'y',\n",
       " 'del',\n",
       " 'lado',\n",
       " 'izquierdo',\n",
       " 'el',\n",
       " 'nombre',\n",
       " 'de',\n",
       " 'juan',\n",
       " 'david',\n",
       " 'en',\n",
       " 'el',\n",
       " 'brazo',\n",
       " 'del',\n",
       " 'lado',\n",
       " 'derecho',\n",
       " 'una',\n",
       " 'cicatriz',\n",
       " 'de',\n",
       " '5',\n",
       " 'a',\n",
       " '8',\n",
       " 'cmts',\n",
       " 'a',\n",
       " 'lo',\n",
       " 'largo',\n",
       " 'del',\n",
       " 'brazo',\n",
       " 'bigote',\n",
       " 'escaso',\n",
       " 'tatuaje',\n",
       " 'en',\n",
       " 'forma',\n",
       " 'de',\n",
       " 'cruz',\n",
       " 'en',\n",
       " 'el',\n",
       " 'brazo',\n",
       " 'izquierdo',\n",
       " 'y',\n",
       " 'varias',\n",
       " 'ciatrices',\n",
       " 'en',\n",
       " 'la',\n",
       " 'cabeza',\n",
       " 'tatuaje',\n",
       " 'en',\n",
       " 'brazo',\n",
       " 'derecho',\n",
       " 'con',\n",
       " 'la',\n",
       " 'figura',\n",
       " 'de',\n",
       " 'una',\n",
       " 'persona',\n",
       " 'del',\n",
       " 'sexo',\n",
       " 'masculino',\n",
       " 'de',\n",
       " 'emiliano',\n",
       " 'zapata',\n",
       " 'cicatriz',\n",
       " 'en',\n",
       " 'mano',\n",
       " 'derecha',\n",
       " 'tatuajes',\n",
       " 'uno',\n",
       " 'en',\n",
       " 'un',\n",
       " 'brazo',\n",
       " 'otro',\n",
       " 'a',\n",
       " 'la',\n",
       " 'altura',\n",
       " 'de',\n",
       " 'las',\n",
       " 'sentaderas',\n",
       " 'por',\n",
       " 'la',\n",
       " 'parte',\n",
       " 'de',\n",
       " 'la',\n",
       " 'rabadulla',\n",
       " 'en',\n",
       " 'forma',\n",
       " 'de',\n",
       " 'flores',\n",
       " 'cicatrices',\n",
       " 'en',\n",
       " 'el',\n",
       " 'abdomen',\n",
       " 'por',\n",
       " 'tres',\n",
       " 'partos',\n",
       " 'que',\n",
       " 'tuvo',\n",
       " 'uno',\n",
       " 'de',\n",
       " 'figura',\n",
       " 'de',\n",
       " 'un',\n",
       " 'hongo',\n",
       " 'y',\n",
       " 'otro',\n",
       " 'en',\n",
       " 'una',\n",
       " 'de',\n",
       " 'sus',\n",
       " 'manos',\n",
       " 'no',\n",
       " 'recuerda',\n",
       " 'con',\n",
       " 'exactitud',\n",
       " 'en',\n",
       " 'cual',\n",
       " 'de',\n",
       " 'sus',\n",
       " 'manos',\n",
       " 'con',\n",
       " 'el',\n",
       " 'nombre',\n",
       " 'de',\n",
       " 'ramon',\n",
       " 'con',\n",
       " 'barba',\n",
       " 'tiene',\n",
       " 'en',\n",
       " 'uno',\n",
       " 'de',\n",
       " 'sus',\n",
       " 'pechos',\n",
       " 'una',\n",
       " 'o',\n",
       " 'dos',\n",
       " 'iniciales',\n",
       " 'tatuadas',\n",
       " 'en',\n",
       " 'su',\n",
       " 'piel',\n",
       " 'cicatriz',\n",
       " 'en',\n",
       " 'ceja',\n",
       " 'izquierda',\n",
       " 'sin',\n",
       " 'barba',\n",
       " 'poco',\n",
       " 'bigote',\n",
       " 'tiene',\n",
       " 'un',\n",
       " 'tatuaje',\n",
       " 'en',\n",
       " 'el',\n",
       " 'cuello',\n",
       " 'del',\n",
       " 'lado',\n",
       " 'izquierdo',\n",
       " 'con',\n",
       " 'la',\n",
       " 'figura',\n",
       " 'de',\n",
       " 'un',\n",
       " 'alacran',\n",
       " 'un',\n",
       " 'tatuaje',\n",
       " 'con',\n",
       " 'la',\n",
       " 'figura',\n",
       " 'de',\n",
       " 'un',\n",
       " 'payaso',\n",
       " 'en',\n",
       " 'una',\n",
       " 'de',\n",
       " 'sus',\n",
       " 'manos',\n",
       " 'y',\n",
       " 'en',\n",
       " 'todo',\n",
       " 'el',\n",
       " 'cuerpo',\n",
       " 'tiene',\n",
       " 'pero',\n",
       " 'no',\n",
       " 'lo',\n",
       " 'recuerda',\n",
       " 'rodilla',\n",
       " 'izquierda',\n",
       " 'tiene',\n",
       " 'una',\n",
       " 'operacion',\n",
       " 'usa',\n",
       " 'bigote',\n",
       " 'mancha',\n",
       " 'en',\n",
       " 'el',\n",
       " 'rostro',\n",
       " 'como',\n",
       " 'paño',\n",
       " 'lunar',\n",
       " 'en',\n",
       " 'el',\n",
       " 'menton',\n",
       " 'tatuaje',\n",
       " 'con',\n",
       " 'la',\n",
       " 'leyenda',\n",
       " 'andrid',\n",
       " 'y',\n",
       " 'la',\n",
       " 'imagen',\n",
       " 'de',\n",
       " 'la',\n",
       " 'virgen',\n",
       " 'de',\n",
       " 'guadalupe',\n",
       " 'cicatriz',\n",
       " 'de',\n",
       " 'hernia',\n",
       " 'en',\n",
       " 'una',\n",
       " 'pierna',\n",
       " 'no',\n",
       " 'recuerdan',\n",
       " 'que',\n",
       " 'lado',\n",
       " 'tiene',\n",
       " 'un',\n",
       " 'lunar',\n",
       " 'atras',\n",
       " 'del',\n",
       " 'cuello',\n",
       " 'y',\n",
       " 'un',\n",
       " 'grano',\n",
       " 'en',\n",
       " 'el',\n",
       " 'hombro',\n",
       " 'derecho',\n",
       " 'pecas',\n",
       " 'en',\n",
       " 'la',\n",
       " 'cara',\n",
       " 'tiene',\n",
       " 'un',\n",
       " 'lunar',\n",
       " 'arriba',\n",
       " 'del',\n",
       " 'labio',\n",
       " 'superior',\n",
       " 'del',\n",
       " 'lado',\n",
       " 'derecho',\n",
       " 'cicatriz',\n",
       " 'en',\n",
       " 'el',\n",
       " 'brazo',\n",
       " 'izquierdo',\n",
       " 'en',\n",
       " 'forma',\n",
       " 'de',\n",
       " 'u',\n",
       " 'cerca',\n",
       " 'del',\n",
       " 'codo',\n",
       " 'y',\n",
       " 'un',\n",
       " 'lunar',\n",
       " 'en',\n",
       " 'la',\n",
       " 'nalga',\n",
       " 'izquierda',\n",
       " 'cicatriz',\n",
       " 'en',\n",
       " 'ceja',\n",
       " 'izquierda',\n",
       " 'cicatriz',\n",
       " 'lineal',\n",
       " 'en',\n",
       " 'pierna',\n",
       " 'derecha',\n",
       " 'cicatriz',\n",
       " 'de',\n",
       " 'un',\n",
       " 'centimetro',\n",
       " 'en',\n",
       " 'labio',\n",
       " 'superior',\n",
       " 'derecho',\n",
       " 'acne',\n",
       " 'en',\n",
       " 'la',\n",
       " 'cara',\n",
       " 'tatuaje',\n",
       " 'en',\n",
       " 'el',\n",
       " 'antebrazo',\n",
       " 'izquierdo',\n",
       " 'tatuaje',\n",
       " 'en',\n",
       " 'la',\n",
       " 'espalda',\n",
       " 'herida',\n",
       " 'en',\n",
       " 'el',\n",
       " 'dedo',\n",
       " 'pulgar',\n",
       " 'izquierdo',\n",
       " 'tiene',\n",
       " 'lunar',\n",
       " 'en',\n",
       " 'el',\n",
       " 'cuello',\n",
       " 'tiene',\n",
       " 'el',\n",
       " 'lobulo',\n",
       " 'en',\n",
       " 'forma',\n",
       " 'de',\n",
       " 'corazon',\n",
       " 'padece',\n",
       " 'alzheimer',\n",
       " 'presenta',\n",
       " 'una',\n",
       " 'cicatriz',\n",
       " 'en',\n",
       " 'la',\n",
       " 'sien',\n",
       " 'del',\n",
       " 'lado',\n",
       " 'izquierdo',\n",
       " 'no',\n",
       " 'tiene',\n",
       " 'el',\n",
       " 'ojo',\n",
       " 'izquierdo',\n",
       " 'tiene',\n",
       " 'una',\n",
       " 'cicatriz',\n",
       " 'en',\n",
       " 'la',\n",
       " 'ceja',\n",
       " 'derecha',\n",
       " 'tiene',\n",
       " 'una',\n",
       " 'cicatriz',\n",
       " 'en',\n",
       " 'la',\n",
       " 'muñeca',\n",
       " 'izquierda',\n",
       " 'no',\n",
       " 'tiene',\n",
       " 'dos',\n",
       " 'dientes',\n",
       " 'en',\n",
       " 'la',\n",
       " 'parte',\n",
       " 'superior',\n",
       " 'de',\n",
       " 'su',\n",
       " 'dentadura',\n",
       " 'janet',\n",
       " 'tiene',\n",
       " 'un',\n",
       " 'lunar',\n",
       " 'color',\n",
       " 'cafe',\n",
       " 'en',\n",
       " 'la',\n",
       " 'cien',\n",
       " 'izquierda',\n",
       " 'miriam',\n",
       " 'presenta',\n",
       " 'un',\n",
       " 'lunar',\n",
       " 'en',\n",
       " 'pomulo',\n",
       " 'izquierdo',\n",
       " 'cicatriz',\n",
       " 'en',\n",
       " 'la',\n",
       " 'frente',\n",
       " 'del',\n",
       " 'lado',\n",
       " 'derecho',\n",
       " 'a',\n",
       " 'la',\n",
       " 'altura',\n",
       " 'de',\n",
       " 'la',\n",
       " 'ceja',\n",
       " 'cicatriz',\n",
       " 'en',\n",
       " 'la',\n",
       " 'frente',\n",
       " 'de',\n",
       " 'varisela',\n",
       " 'cicatriz',\n",
       " 'en',\n",
       " 'menton',\n",
       " 'cicatriz',\n",
       " 'que',\n",
       " 'atraviesa',\n",
       " 'la',\n",
       " 'ceja',\n",
       " 'derecha',\n",
       " 'una',\n",
       " 'perforacion',\n",
       " 'en',\n",
       " 'la',\n",
       " 'oreja',\n",
       " 'izquierda',\n",
       " 'lunar',\n",
       " 'en',\n",
       " 'el',\n",
       " 'menton',\n",
       " 'de',\n",
       " 'lado',\n",
       " 'izquierdo',\n",
       " 'y',\n",
       " 'otra',\n",
       " 'en',\n",
       " 'el',\n",
       " 'pecho',\n",
       " 'de',\n",
       " '10',\n",
       " 'cm',\n",
       " 'aprox',\n",
       " 'perforacion',\n",
       " 'en',\n",
       " 'la',\n",
       " 'oreja',\n",
       " 'izquierda',\n",
       " 'cicatriz',\n",
       " 'en',\n",
       " 'el',\n",
       " 'naciente',\n",
       " 'de',\n",
       " 'cabello',\n",
       " 'de',\n",
       " '3',\n",
       " 'cm',\n",
       " 'de',\n",
       " 'largo',\n",
       " 'y',\n",
       " 'medio',\n",
       " 'cm',\n",
       " 'de',\n",
       " 'ancho',\n",
       " 'quemadura',\n",
       " 'reciente',\n",
       " 'en',\n",
       " 'mano',\n",
       " 'derecha',\n",
       " 'cicatriz',\n",
       " 'a',\n",
       " 'la',\n",
       " 'altura',\n",
       " 'del',\n",
       " 'ombligo',\n",
       " 'cicatriz',\n",
       " 'en',\n",
       " 'la',\n",
       " 'cabeza',\n",
       " 'de',\n",
       " 'lado',\n",
       " 'derecho',\n",
       " 'cicatriz',\n",
       " 'en',\n",
       " 'ceja',\n",
       " 'derecha',\n",
       " 'y',\n",
       " 'lunar',\n",
       " 'en',\n",
       " 'mejilla',\n",
       " 'derecha',\n",
       " 'renguea',\n",
       " 'del',\n",
       " 'pie',\n",
       " 'derecho',\n",
       " 'tiene',\n",
       " 'un',\n",
       " 'piercing',\n",
       " 'en',\n",
       " 'el',\n",
       " 'obligo',\n",
       " 'una',\n",
       " 'cicatriz',\n",
       " 'en',\n",
       " 'la',\n",
       " 'muñeca',\n",
       " 'sin',\n",
       " 'saber',\n",
       " 'en',\n",
       " 'cual',\n",
       " 'y',\n",
       " 'le',\n",
       " 'falta',\n",
       " 'un',\n",
       " 'pedazo',\n",
       " 'del',\n",
       " 'dedo',\n",
       " 'indice',\n",
       " 'derecho',\n",
       " 'tiene',\n",
       " 'una',\n",
       " 'cicatriz',\n",
       " 'en',\n",
       " 'la',\n",
       " 'parte',\n",
       " 'interior',\n",
       " 'de',\n",
       " 'una',\n",
       " 'de',\n",
       " 'sus',\n",
       " 'piernas',\n",
       " 'cicatriz',\n",
       " 'en',\n",
       " 'seja',\n",
       " 'izquierda',\n",
       " 'señas',\n",
       " 'vicibles',\n",
       " 'tatuaje',\n",
       " 'en',\n",
       " 'una',\n",
       " 'mano',\n",
       " 'tiene',\n",
       " 'dentadura',\n",
       " 'nueva',\n",
       " 'en',\n",
       " 'la',\n",
       " 'partede',\n",
       " 'arriba',\n",
       " 'tatuaje',\n",
       " 'dragòn',\n",
       " 'en',\n",
       " 'hombro',\n",
       " 'derecho',\n",
       " 'tatuajes',\n",
       " 'en',\n",
       " 'forma',\n",
       " 'de',\n",
       " 'alacran',\n",
       " 'en',\n",
       " 'la',\n",
       " 'mano',\n",
       " 'derecha',\n",
       " 'de',\n",
       " 'seis',\n",
       " 'centimentros',\n",
       " 'un',\n",
       " 'corazon',\n",
       " 'con',\n",
       " 'una',\n",
       " 'cruz',\n",
       " 'en',\n",
       " 'mano',\n",
       " 'derecha',\n",
       " 'y',\n",
       " 'un',\n",
       " 'soldado',\n",
       " 'con',\n",
       " 'una',\n",
       " 'calavera',\n",
       " 'que',\n",
       " 'dice',\n",
       " 'beto',\n",
       " 'en',\n",
       " 'brazo',\n",
       " 'izquierdo',\n",
       " 'un',\n",
       " 'dragon',\n",
       " 'usa',\n",
       " 'bigote',\n",
       " 'recortado',\n",
       " 'tiene',\n",
       " 'calvicie',\n",
       " 'tiene',\n",
       " 'pecas',\n",
       " 'en',\n",
       " 'la',\n",
       " 'cara',\n",
       " 'tiene',\n",
       " 'un',\n",
       " 'lunar',\n",
       " 'en',\n",
       " 'la',\n",
       " 'frente',\n",
       " 'arriba',\n",
       " 'de',\n",
       " 'la',\n",
       " 'ceja',\n",
       " 'derecha',\n",
       " 'y',\n",
       " 'un',\n",
       " 'lunar',\n",
       " 'arriba',\n",
       " 'del',\n",
       " 'labio',\n",
       " 'superior',\n",
       " 'braquets',\n",
       " 'en',\n",
       " 'los',\n",
       " 'dientes',\n",
       " 'una',\n",
       " 'mancha',\n",
       " 'tipo',\n",
       " 'lunar',\n",
       " 'de',\n",
       " 'color',\n",
       " 'rojo',\n",
       " 'en',\n",
       " 'su',\n",
       " 'parte',\n",
       " 'anterior',\n",
       " 'cicatriz',\n",
       " 'en',\n",
       " 'la',\n",
       " 'frente',\n",
       " 'tiene',\n",
       " 'una',\n",
       " 'cicatriz',\n",
       " 'en',\n",
       " 'la',\n",
       " 'region',\n",
       " 'frontal',\n",
       " 'del',\n",
       " 'lado',\n",
       " 'izquierdo',\n",
       " 'tiene',\n",
       " 'una',\n",
       " 'cicatriz',\n",
       " 'en',\n",
       " 'el',\n",
       " 'brazo',\n",
       " 'derecho',\n",
       " 'como',\n",
       " 'quemadura',\n",
       " 'lunar',\n",
       " 'en',\n",
       " 'la',\n",
       " 'mano',\n",
       " 'izquierda',\n",
       " 'y',\n",
       " 'otro',\n",
       " 'en',\n",
       " 'el',\n",
       " 'estomago',\n",
       " 'color',\n",
       " 'cafe',\n",
       " 'lunar',\n",
       " 'chico',\n",
       " 'junto',\n",
       " 'al',\n",
       " 'labio',\n",
       " 'paño',\n",
       " 'en',\n",
       " 'la',\n",
       " 'cara',\n",
       " 'mantenedor',\n",
       " 'de',\n",
       " 'metal',\n",
       " 'en',\n",
       " 'el',\n",
       " 'diente',\n",
       " 'superior',\n",
       " 'y',\n",
       " 'le',\n",
       " 'fantan',\n",
       " 'dos',\n",
       " 'dientes',\n",
       " 'de',\n",
       " 'frente',\n",
       " 'de',\n",
       " 'la',\n",
       " 'parte',\n",
       " 'de',\n",
       " 'abajo',\n",
       " 'tiene',\n",
       " 'lunares',\n",
       " 'como',\n",
       " 'manchas',\n",
       " 'de',\n",
       " 'color',\n",
       " 'cafe',\n",
       " 'en',\n",
       " 'el',\n",
       " 'vientre',\n",
       " 'y',\n",
       " 'tiene',\n",
       " 'una',\n",
       " 'cicatriz',\n",
       " 'en',\n",
       " 'la',\n",
       " 'comisura',\n",
       " 'del',\n",
       " 'labio',\n",
       " 'superior',\n",
       " 'tiene',\n",
       " 'vitiligio',\n",
       " 'en',\n",
       " 'todas',\n",
       " 'sus',\n",
       " 'coyunturas',\n",
       " 'y',\n",
       " 'en',\n",
       " 'los',\n",
       " 'dos',\n",
       " 'lados',\n",
       " 'de',\n",
       " 'sus',\n",
       " 'orejas',\n",
       " 'y',\n",
       " 'en',\n",
       " 'la',\n",
       " 'espalda',\n",
       " 'baja',\n",
       " 'lunar',\n",
       " 'arriba',\n",
       " 'de',\n",
       " 'ceja',\n",
       " 'izquierda',\n",
       " 'cicatrices',\n",
       " 'lunar',\n",
       " 'no',\n",
       " 'especificadoa',\n",
       " 'veces',\n",
       " 'se',\n",
       " 'le',\n",
       " 'va',\n",
       " 'el',\n",
       " 'avion',\n",
       " 'le',\n",
       " 'falta',\n",
       " 'un',\n",
       " 'dedo',\n",
       " 'en',\n",
       " 'la',\n",
       " 'mano',\n",
       " 'izquierda',\n",
       " 'tiene',\n",
       " 'dificultad',\n",
       " 'para',\n",
       " 'ver',\n",
       " 'tatuaje',\n",
       " 'en',\n",
       " 'el',\n",
       " 'cuello',\n",
       " 'con',\n",
       " 'el',\n",
       " 'nombre',\n",
       " 'isabel',\n",
       " 'perforaciones',\n",
       " 'no',\n",
       " 'especificadas',\n",
       " 'en',\n",
       " 'ambos',\n",
       " 'brazos',\n",
       " 'con',\n",
       " 'la',\n",
       " 'leyenda',\n",
       " 'sanchez',\n",
       " 'calaveras',\n",
       " 'en',\n",
       " 'el',\n",
       " 'pecho',\n",
       " 'otro',\n",
       " 'en',\n",
       " 'forna',\n",
       " 'de',\n",
       " 'perro',\n",
       " 'cicatrices',\n",
       " 'perforacion',\n",
       " 'para',\n",
       " 'arete',\n",
       " 'en',\n",
       " 'ambas',\n",
       " 'orejas',\n",
       " 'cicatriz',\n",
       " 'en',\n",
       " 'el',\n",
       " 'gluteo',\n",
       " 'izquierdo',\n",
       " 'de',\n",
       " 'aproximadamente',\n",
       " '3cm',\n",
       " 'dedo',\n",
       " 'pulgar',\n",
       " 'mano',\n",
       " 'derecha',\n",
       " 'mas',\n",
       " 'grande',\n",
       " 'que',\n",
       " 'el',\n",
       " 'de',\n",
       " 'la',\n",
       " 'mano',\n",
       " 'izquierda',\n",
       " 'en',\n",
       " 'pierna',\n",
       " 'con',\n",
       " 'el',\n",
       " 'nombre',\n",
       " 'de',\n",
       " 'mayra',\n",
       " 'brazo',\n",
       " 'izquierdo',\n",
       " 'el',\n",
       " 'nombre',\n",
       " 'de',\n",
       " 'elva',\n",
       " 'dentadura',\n",
       " 'postiza',\n",
       " 'pzas',\n",
       " 'frontal',\n",
       " 'inf',\n",
       " 'y',\n",
       " 'colmillos',\n",
       " 'con',\n",
       " 'casquillos',\n",
       " 'en',\n",
       " 'un',\n",
       " 'brazo',\n",
       " 'dice',\n",
       " 'perdon',\n",
       " 'madrecita',\n",
       " 'y',\n",
       " 'otro',\n",
       " 'en',\n",
       " 'la',\n",
       " 'parte',\n",
       " 'superior',\n",
       " 'de',\n",
       " 'los',\n",
       " 'dedos',\n",
       " 'dice',\n",
       " 'mati',\n",
       " 'cada',\n",
       " 'letra',\n",
       " 'en',\n",
       " 'un',\n",
       " 'dedo',\n",
       " 'cabello',\n",
       " 'chino',\n",
       " 'rapo',\n",
       " 'con',\n",
       " 'cabello',\n",
       " 'al',\n",
       " 'frente',\n",
       " 'con',\n",
       " 'chinos',\n",
       " 'nariz',\n",
       " 'ctabique',\n",
       " 'fracturado',\n",
       " 'kgtatuaje',\n",
       " 'en',\n",
       " ...]"
      ]
     },
     "execution_count": 7,
     "metadata": {},
     "output_type": "execute_result"
    }
   ],
   "source": [
    "tokens = senas_part_series.apply(\n",
    "    nltk.word_tokenize, \n",
    "    language='spanish'\n",
    ")\n",
    "\n",
    "palabras = tokens.sum()\n",
    "palabras"
   ]
  },
  {
   "cell_type": "markdown",
   "metadata": {},
   "source": [
    "Ya con nuestra lista de palabras podemos hacer el análisis estadístico de estas."
   ]
  },
  {
   "cell_type": "code",
   "execution_count": 8,
   "metadata": {},
   "outputs": [
    {
     "name": "stdout",
     "output_type": "stream",
     "text": [
      "<FreqDist with 11084 samples and 321469 outcomes>\n"
     ]
    }
   ],
   "source": [
    "freq_dist = nltk.FreqDist(palabras)\n",
    "print(freq_dist)"
   ]
  },
  {
   "cell_type": "markdown",
   "metadata": {},
   "source": [
    "De lo anterior, podemos observar que contamos con 11084 muestras.\n",
    "Es importante notar que muchas de estas muestras no toman gran relevancia en el análisis pues son lo que se denominan _stop words_, las cuales no deberían aportar mucho a la semántica."
   ]
  },
  {
   "cell_type": "markdown",
   "metadata": {},
   "source": [
    "Como se observa en el resultado de la siguiente instrucción, tan solo en las 50 palabras más comunes se encuentran bastantes _stop words_."
   ]
  },
  {
   "cell_type": "code",
   "execution_count": 9,
   "metadata": {},
   "outputs": [
    {
     "data": {
      "text/plain": [
       "['en',\n",
       " 'de',\n",
       " 'la',\n",
       " 'el',\n",
       " 'y',\n",
       " 'una',\n",
       " 'cicatriz',\n",
       " 'un',\n",
       " 'tiene',\n",
       " 'con',\n",
       " 'derecho',\n",
       " 'tatuaje',\n",
       " 'izquierdo',\n",
       " 'del',\n",
       " 'lado',\n",
       " 'brazo',\n",
       " 'lunar',\n",
       " 'derecha',\n",
       " 'izquierda',\n",
       " 'espalda',\n",
       " 'que',\n",
       " 'a',\n",
       " 'forma',\n",
       " 'su',\n",
       " 'parte',\n",
       " 'nombre',\n",
       " 'mano',\n",
       " 'los',\n",
       " 'por',\n",
       " 'pecho',\n",
       " 'tatuajes',\n",
       " 'color',\n",
       " 'leyenda',\n",
       " 'dos',\n",
       " 'pierna',\n",
       " 'cicatrices',\n",
       " 'no',\n",
       " 'ceja',\n",
       " 'las',\n",
       " 'como',\n",
       " 'hombro',\n",
       " 'centimetros',\n",
       " 'cuenta',\n",
       " 'otro',\n",
       " 'aproximadamente',\n",
       " 'frente',\n",
       " 'cara',\n",
       " 'uno',\n",
       " 'superior',\n",
       " 'altura']"
      ]
     },
     "execution_count": 9,
     "metadata": {},
     "output_type": "execute_result"
    }
   ],
   "source": [
    "comunes = [itm[0] for itm in freq_dist.most_common()]\n",
    "comunes[:50]"
   ]
  },
  {
   "cell_type": "markdown",
   "metadata": {},
   "source": [
    "Las _stop words_ encontradas en nuestra lista de palabras son las siguientes:"
   ]
  },
  {
   "cell_type": "code",
   "execution_count": 10,
   "metadata": {},
   "outputs": [
    {
     "data": {
      "text/plain": [
       "['en',\n",
       " 'de',\n",
       " 'la',\n",
       " 'el',\n",
       " 'y',\n",
       " 'una',\n",
       " 'un',\n",
       " 'tiene',\n",
       " 'con',\n",
       " 'del',\n",
       " 'que',\n",
       " 'a',\n",
       " 'su',\n",
       " 'los',\n",
       " 'por']"
      ]
     },
     "execution_count": 10,
     "metadata": {},
     "output_type": "execute_result"
    }
   ],
   "source": [
    "esp_stopw = stopwords.words('spanish')\n",
    "palabras_stopw = [w for w in comunes if w in esp_stopw]\n",
    "palabras_stopw[:15]"
   ]
  },
  {
   "cell_type": "markdown",
   "metadata": {},
   "source": [
    "Tenemos un total de 131 _stop words_ distintas en nuestro corpus."
   ]
  },
  {
   "cell_type": "code",
   "execution_count": 11,
   "metadata": {},
   "outputs": [
    {
     "data": {
      "text/plain": [
       "131"
      ]
     },
     "execution_count": 11,
     "metadata": {},
     "output_type": "execute_result"
    }
   ],
   "source": [
    "len(palabras_stopw)"
   ]
  },
  {
   "cell_type": "markdown",
   "metadata": {},
   "source": [
    "Solo para alimentar la curiosidad, visualizamos la distribución de estas stop words en un histograma. En tanto que estaremos graficando datos de formas análogas, definimos una función `plot_freq_n_comunes` que automatice el proceso."
   ]
  },
  {
   "cell_type": "code",
   "execution_count": 12,
   "metadata": {},
   "outputs": [
    {
     "data": {
      "image/png": "[encoded data removed]",
      "text/plain": [
       "<Figure size 720x1080 with 1 Axes>"
      ]
     },
     "metadata": {
      "needs_background": "light"
     },
     "output_type": "display_data"
    }
   ],
   "source": [
    "freq_dist_palabras_stopw = [tupl for tupl in freq_dist.most_common() if tupl[0] in esp_stopw]\n",
    "\n",
    "\n",
    "def plot_freq_n_comunes(data, title=\"\"):\n",
    "    X = np.array(\n",
    "        list(\n",
    "            map(\n",
    "                lambda x: list(x), data\n",
    "            )\n",
    "        )\n",
    "    )\n",
    "\n",
    "    fig = plt.figure(figsize=(10,15))\n",
    "    ax = fig.add_subplot()\n",
    "\n",
    "    sns.barplot(y=X[:, 0], x=X[:, 1].astype('int'), ax=ax, palette='RdYlBu')\n",
    "    ax.set_title(title, pad=10)\n",
    "    ax.set_xlabel('Count')\n",
    "    ax.tick_params(axis='x', rotation=80)\n",
    "\n",
    "plot_freq_n_comunes(\n",
    "    freq_dist_palabras_stopw[0:50],\n",
    "    \"Frecuencia de las 50 stop words más comunes\"\n",
    ")"
   ]
  },
  {
   "cell_type": "markdown",
   "metadata": {},
   "source": [
    "Ya que exploramos un poco la distribución de las stop words dentro de nuestros datos, procedemos a filtrarlos de nuestra lista de palabras para procesar el texto que realmente nos importa estudiar."
   ]
  },
  {
   "cell_type": "code",
   "execution_count": 13,
   "metadata": {},
   "outputs": [
    {
     "data": {
      "text/plain": [
       "171918"
      ]
     },
     "execution_count": 13,
     "metadata": {},
     "output_type": "execute_result"
    }
   ],
   "source": [
    "# lista de palabras sin stop words\n",
    "palabras_no_stopw = [token for token in palabras if token not in esp_stopw]\n",
    "\n",
    "len(palabras_no_stopw)"
   ]
  },
  {
   "cell_type": "markdown",
   "metadata": {},
   "source": [
    "En total, sin las stop words contamos con 171918 palabras para analizar.\n",
    "\n",
    "Contabilizando el número de palabras que nos quedan tras quitar las stop words:"
   ]
  },
  {
   "cell_type": "code",
   "execution_count": 14,
   "metadata": {},
   "outputs": [
    {
     "name": "stdout",
     "output_type": "stream",
     "text": [
      "Tras quitar las stopwords queda el 53.479% de palabras.\n"
     ]
    }
   ],
   "source": [
    "# Quitando las stopwords queda el 50%:\n",
    "\n",
    "s = f'{100*(len(palabras_no_stopw) / len(palabras)):.3f}%'\n",
    "\n",
    "print(f'Tras quitar las stopwords queda el {s} de palabras.')"
   ]
  },
  {
   "cell_type": "markdown",
   "metadata": {},
   "source": [
    "Como nos interesa hacer un análisis estadístico de las palabras, creamos un objeto `FreqDist` con esta lista obtenida."
   ]
  },
  {
   "cell_type": "code",
   "execution_count": 15,
   "metadata": {},
   "outputs": [
    {
     "data": {
      "text/plain": [
       "[('cicatriz', 7859),\n",
       " ('derecho', 5968),\n",
       " ('tatuaje', 5750),\n",
       " ('izquierdo', 5355),\n",
       " ('lado', 4311),\n",
       " ('brazo', 3837),\n",
       " ('lunar', 3173),\n",
       " ('derecha', 2945),\n",
       " ('izquierda', 2483),\n",
       " ('espalda', 2320),\n",
       " ('forma', 1998),\n",
       " ('parte', 1793),\n",
       " ('nombre', 1737),\n",
       " ('mano', 1737),\n",
       " ('pecho', 1642),\n",
       " ('tatuajes', 1626),\n",
       " ('color', 1491),\n",
       " ('leyenda', 1460),\n",
       " ('dos', 1404),\n",
       " ('pierna', 1376),\n",
       " ('cicatrices', 1332),\n",
       " ('ceja', 1283),\n",
       " ('hombro', 1170),\n",
       " ('centimetros', 1157),\n",
       " ('cuenta', 1119),\n",
       " ('aproximadamente', 1088),\n",
       " ('frente', 1041),\n",
       " ('cara', 1016),\n",
       " ('superior', 949),\n",
       " ('altura', 944)]"
      ]
     },
     "execution_count": 15,
     "metadata": {},
     "output_type": "execute_result"
    }
   ],
   "source": [
    "freq_dist_palabras_no_stopw = nltk.FreqDist(palabras_no_stopw)\n",
    "comunes = freq_dist_palabras_no_stopw.most_common()\n",
    "comunes[:30]"
   ]
  },
  {
   "cell_type": "markdown",
   "metadata": {},
   "source": [
    "Calculamos los porcentajes de aparición de las palabras más frecuentes:"
   ]
  },
  {
   "cell_type": "code",
   "execution_count": 21,
   "metadata": {},
   "outputs": [
    {
     "name": "stdout",
     "output_type": "stream",
     "text": [
      "0. Porcentaje de aparicion de cicatriz:4.571%\n",
      "1. Porcentaje de aparicion de derecho:3.471%\n",
      "2. Porcentaje de aparicion de tatuaje:3.345%\n",
      "3. Porcentaje de aparicion de izquierdo:3.115%\n",
      "4. Porcentaje de aparicion de lado:2.508%\n",
      "5. Porcentaje de aparicion de brazo:2.232%\n",
      "6. Porcentaje de aparicion de lunar:1.846%\n",
      "7. Porcentaje de aparicion de derecha:1.713%\n",
      "8. Porcentaje de aparicion de izquierda:1.444%\n",
      "9. Porcentaje de aparicion de espalda:1.349%\n",
      "10. Porcentaje de aparicion de forma:1.162%\n",
      "11. Porcentaje de aparicion de parte:1.043%\n",
      "12. Porcentaje de aparicion de nombre:1.010%\n",
      "13. Porcentaje de aparicion de mano:1.010%\n",
      "14. Porcentaje de aparicion de pecho:0.955%\n",
      "15. Porcentaje de aparicion de tatuajes:0.946%\n",
      "16. Porcentaje de aparicion de color:0.867%\n",
      "17. Porcentaje de aparicion de leyenda:0.849%\n",
      "18. Porcentaje de aparicion de dos:0.817%\n",
      "19. Porcentaje de aparicion de pierna:0.800%\n",
      "20. Porcentaje de aparicion de cicatrices:0.775%\n",
      "21. Porcentaje de aparicion de ceja:0.746%\n",
      "22. Porcentaje de aparicion de hombro:0.681%\n",
      "23. Porcentaje de aparicion de centimetros:0.673%\n",
      "24. Porcentaje de aparicion de cuenta:0.651%\n",
      "25. Porcentaje de aparicion de aproximadamente:0.633%\n",
      "26. Porcentaje de aparicion de frente:0.606%\n",
      "27. Porcentaje de aparicion de cara:0.591%\n",
      "28. Porcentaje de aparicion de superior:0.552%\n",
      "29. Porcentaje de aparicion de altura:0.549%\n",
      "30. Porcentaje de aparicion de figura:0.542%\n",
      "31. Porcentaje de aparicion de cuello:0.536%\n",
      "32. Porcentaje de aparicion de antebrazo:0.514%\n",
      "33. Porcentaje de aparicion de imagen:0.511%\n",
      "34. Porcentaje de aparicion de presenta:0.489%\n",
      "35. Porcentaje de aparicion de nariz:0.459%\n",
      "36. Porcentaje de aparicion de abdomen:0.447%\n",
      "37. Porcentaje de aparicion de labio:0.446%\n",
      "38. Porcentaje de aparicion de cabeza:0.432%\n",
      "39. Porcentaje de aparicion de mejilla:0.428%\n",
      "Total acumulado: 46.312%\n"
     ]
    }
   ],
   "source": [
    "tot = len(palabras_no_stopw)\n",
    "suma = 0\n",
    "i = 0\n",
    "\n",
    "for tpl in comunes[:40]:\n",
    "    tmp = 100*freq_dist_palabras_no_stopw[tpl[0]]\n",
    "    suma = suma + (tmp / tot)\n",
    "    print(\n",
    "        f'{i}. Porcentaje de aparicion de {tpl[0]}:{(tmp / tot):.3f}%'\n",
    "    )\n",
    "    i+=1\n",
    "print(f'Total acumulado: {suma:.3f}%')\n"
   ]
  },
  {
   "cell_type": "markdown",
   "metadata": {},
   "source": [
    "De forma gráfica esta distribución se aprecia en la siguiente figura (aunque se encuentre acotada a los primeros 40):"
   ]
  },
  {
   "cell_type": "code",
   "execution_count": 17,
   "metadata": {},
   "outputs": [
    {
     "data": {
      "image/png": "[encoded data removed]",
      "text/plain": [
       "<Figure size 432x288 with 1 Axes>"
      ]
     },
     "metadata": {
      "needs_background": "light"
     },
     "output_type": "display_data"
    },
    {
     "data": {
      "text/plain": [
       "<AxesSubplot: xlabel='Samples', ylabel='Cumulative Counts'>"
      ]
     },
     "execution_count": 17,
     "metadata": {},
     "output_type": "execute_result"
    }
   ],
   "source": [
    "freq_dist_palabras_no_stopw.plot(40,cumulative=True)"
   ]
  },
  {
   "cell_type": "markdown",
   "metadata": {},
   "source": [
    "Visualizamos los datos de forma gráfica"
   ]
  },
  {
   "cell_type": "code",
   "execution_count": 18,
   "metadata": {},
   "outputs": [
    {
     "data": {
      "image/png": "[encoded data removed]",
      "text/plain": [
       "<Figure size 720x1080 with 1 Axes>"
      ]
     },
     "metadata": {
      "needs_background": "light"
     },
     "output_type": "display_data"
    }
   ],
   "source": [
    "# Frecuencia de las palabras más comunes.\n",
    "\n",
    "plot_freq_n_comunes(\n",
    "    freq_dist_palabras_no_stopw.most_common()[0:50],\n",
    "    \"Frecuencia de las 50 palabras más comunes\")"
   ]
  },
  {
   "cell_type": "markdown",
   "metadata": {},
   "source": [
    "Una forma bastante intuitiva de visualizar la distribución es mediante una nube de palabras. Nótese que coincide con las observaciones hechas anteriormente."
   ]
  },
  {
   "cell_type": "code",
   "execution_count": 19,
   "metadata": {},
   "outputs": [
    {
     "ename": "NameError",
     "evalue": "name 'palabras_no_outliers' is not defined",
     "output_type": "error",
     "traceback": [
      "\u001b[0;31m---------------------------------------------------------------------------\u001b[0m",
      "\u001b[0;31mNameError\u001b[0m                                 Traceback (most recent call last)",
      "\u001b[1;32m/home/nicky/Working Directory/Proyecto-F3-BEDU/Proyecto-_Fase3_Python/NLP.ipynb Cell 40\u001b[0m in \u001b[0;36m<cell line: 3>\u001b[0;34m()\u001b[0m\n\u001b[1;32m      <a href='vscode-notebook-cell:/home/nicky/Working%20Directory/Proyecto-F3-BEDU/Proyecto-_Fase3_Python/NLP.ipynb#Y110sZmlsZQ%3D%3D?line=0'>1</a>\u001b[0m \u001b[39m# nube de palabras\u001b[39;00m\n\u001b[0;32m----> <a href='vscode-notebook-cell:/home/nicky/Working%20Directory/Proyecto-F3-BEDU/Proyecto-_Fase3_Python/NLP.ipynb#Y110sZmlsZQ%3D%3D?line=2'>3</a>\u001b[0m nube \u001b[39m=\u001b[39m WordCloud(width\u001b[39m=\u001b[39m\u001b[39m1080\u001b[39m, height\u001b[39m=\u001b[39m\u001b[39m920\u001b[39m, max_font_size\u001b[39m=\u001b[39m\u001b[39m100\u001b[39m, background_color\u001b[39m=\u001b[39m\u001b[39m'\u001b[39m\u001b[39mblack\u001b[39m\u001b[39m'\u001b[39m)\u001b[39m.\u001b[39mgenerate(\u001b[39m'\u001b[39m\u001b[39m \u001b[39m\u001b[39m'\u001b[39m\u001b[39m.\u001b[39mjoin(palabras_no_outliers))\n\u001b[1;32m      <a href='vscode-notebook-cell:/home/nicky/Working%20Directory/Proyecto-F3-BEDU/Proyecto-_Fase3_Python/NLP.ipynb#Y110sZmlsZQ%3D%3D?line=4'>5</a>\u001b[0m plt\u001b[39m.\u001b[39mfigure(figsize\u001b[39m=\u001b[39m(\u001b[39m20\u001b[39m,\u001b[39m20\u001b[39m))\n\u001b[1;32m      <a href='vscode-notebook-cell:/home/nicky/Working%20Directory/Proyecto-F3-BEDU/Proyecto-_Fase3_Python/NLP.ipynb#Y110sZmlsZQ%3D%3D?line=5'>6</a>\u001b[0m plt\u001b[39m.\u001b[39mimshow(nube, interpolation\u001b[39m=\u001b[39m\u001b[39m'\u001b[39m\u001b[39mbilinear\u001b[39m\u001b[39m'\u001b[39m)\n",
      "\u001b[0;31mNameError\u001b[0m: name 'palabras_no_outliers' is not defined"
     ]
    }
   ],
   "source": [
    "# nube de palabras\n",
    "\n",
    "nube = WordCloud(width=1080, height=920, max_font_size=100, background_color='black').generate(' '.join(palabras_no_outliers))\n",
    "\n",
    "plt.figure(figsize=(20,20))\n",
    "plt.imshow(nube, interpolation='bilinear')\n",
    "plt.axis('off')\n",
    "plt.show()"
   ]
  },
  {
   "cell_type": "markdown",
   "metadata": {},
   "source": [
    "Finalmente, podemos graficar la distribución de los datos con un histograma."
   ]
  },
  {
   "cell_type": "code",
   "execution_count": null,
   "metadata": {},
   "outputs": [
    {
     "data": {
      "text/plain": [
       "<AxesSubplot: ylabel='Count'>"
      ]
     },
     "execution_count": 28,
     "metadata": {},
     "output_type": "execute_result"
    },
    {
     "data": {
      "image/png": "[encoded data removed]",
      "text/plain": [
       "<Figure size 432x288 with 1 Axes>"
      ]
     },
     "metadata": {
      "needs_background": "light"
     },
     "output_type": "display_data"
    }
   ],
   "source": [
    "# histograma de la frecuencia de longitudes de palabras y oraciones\n",
    "# Los outliers no permiten estudiar bien el comportamiento de la distribución\n",
    "\n",
    "sns.histplot(data=[len(s) for s in palabras_no_stopw])"
   ]
  },
  {
   "cell_type": "markdown",
   "metadata": {},
   "source": [
    "Podemos investigar cuáles son las palabras que aparecen un 0.001%, es decir aquellas que ocurren sólo una vez. En la siguiente instrucción solo mostramos 50."
   ]
  },
  {
   "cell_type": "code",
   "execution_count": null,
   "metadata": {},
   "outputs": [
    {
     "name": "stdout",
     "output_type": "stream",
     "text": [
      "6664\n"
     ]
    },
    {
     "data": {
      "text/plain": [
       "['cinturaforma',\n",
       " 'tobilloderecha',\n",
       " 'porquemadura',\n",
       " 'bicileta',\n",
       " 'caravaricela',\n",
       " 'rizadas',\n",
       " 'sentaderas',\n",
       " 'rabadulla',\n",
       " 'andrid',\n",
       " 'naciente',\n",
       " 'seja',\n",
       " 'partede',\n",
       " 'mantenedor',\n",
       " 'coyunturas',\n",
       " 'especificadoa',\n",
       " 'forna',\n",
       " 'elva',\n",
       " 'pzas',\n",
       " 'mati',\n",
       " 'ctabique',\n",
       " 'kgtatuaje',\n",
       " 'tarahumara',\n",
       " 'mestiza',\n",
       " 'acomodado',\n",
       " 'derechodientes',\n",
       " 'sagre',\n",
       " 'elyalma',\n",
       " 'ubarba',\n",
       " 'duna',\n",
       " 'iej',\n",
       " 'bigoteojos',\n",
       " 'lono',\n",
       " 'zafiro',\n",
       " 'cabrera',\n",
       " 'quemaron',\n",
       " 'edmundo',\n",
       " 'macadentadura',\n",
       " 'mestizopantalon',\n",
       " 'cruzado',\n",
       " 'lunano',\n",
       " 'pst',\n",
       " 'vala',\n",
       " 'redondocicatriz',\n",
       " 'nedro',\n",
       " 'palaomas',\n",
       " 'facturo',\n",
       " 'ladeandose',\n",
       " 'pequenas',\n",
       " 'heridad',\n",
       " 'lao']"
      ]
     },
     "execution_count": 22,
     "metadata": {},
     "output_type": "execute_result"
    }
   ],
   "source": [
    "print(len(freq_dist_palabras_no_stopw.hapaxes()))\n",
    "freq_dist_palabras_no_stopw.hapaxes()[:50]"
   ]
  },
  {
   "cell_type": "markdown",
   "metadata": {},
   "source": [
    "Tenemos un total de 6664 palabras con ocurrencia única. Muchas de estas palabras ocurren una vez por faltas de ortografía."
   ]
  },
  {
   "cell_type": "markdown",
   "metadata": {},
   "source": [
    "También hay palabras con un exceso de longitud. Quitando estas palabras podemos mejorar el histograma obtenido antes."
   ]
  },
  {
   "cell_type": "code",
   "execution_count": null,
   "metadata": {},
   "outputs": [
    {
     "data": {
      "text/plain": [
       "<AxesSubplot: ylabel='Count'>"
      ]
     },
     "execution_count": 29,
     "metadata": {},
     "output_type": "execute_result"
    },
    {
     "data": {
      "image/png": "[encoded data removed]",
      "text/plain": [
       "<Figure size 432x288 with 1 Axes>"
      ]
     },
     "metadata": {
      "needs_background": "light"
     },
     "output_type": "display_data"
    }
   ],
   "source": [
    "# Quitamos las palabras con más de 23 letas\n",
    "# De acuerdo con la RAE, la palabra más larga en español tiene 23 letas.\n",
    "\n",
    "palabras_no_outliers = [w for w in palabras_no_stopw if len(w) < 23]\n",
    "\n",
    "# graficando el histograma:\n",
    "\n",
    "sns.histplot(data=[len(s) for s in palabras_no_outliers], bins=16)\n",
    "\n",
    "# La distribución es aproximadamente normal salvo outliers."
   ]
  },
  {
   "cell_type": "markdown",
   "metadata": {},
   "source": [
    "Podemos observar una lista con las 40 palabras más comunes salvo stop words. La más común es cicatriz, seguida de derecho y tatuaje. Será interesante estudiar bajo qué contextos aparecen estas tres palabras. Para esto, generamos un objeto Text que nos permita estudiar justamente esto."
   ]
  },
  {
   "cell_type": "markdown",
   "metadata": {},
   "source": [
    "# Exploración de contextos con el objeto Text\n",
    "\n",
    "Una vez que ya conocemos mejor cuáles son las características más comunes que comparten las personas desaparecidas, procedemos a hacer un análisis de contexto para entender un poco mejor qué otras relaciones poseen estas características con otras, de modo que nos permita caracterizar mejor los valores típicos.\n",
    "\n",
    "Del análisis estadístico anterior, podemos ver que palabras de interés son:"
   ]
  },
  {
   "cell_type": "code",
   "execution_count": null,
   "metadata": {},
   "outputs": [
    {
     "data": {
      "text/plain": [
       "['cicatriz', 'derecho', 'tatuaje', 'izquierdo', 'lado']"
      ]
     },
     "execution_count": 38,
     "metadata": {},
     "output_type": "execute_result"
    }
   ],
   "source": [
    "comunes_contexto = [tpl[0] for tpl in comunes[0:5]]\n",
    "comunes_contexto"
   ]
  },
  {
   "cell_type": "markdown",
   "metadata": {},
   "source": [
    "Generamos un objeto Text que nos permita estudiar los contextos de interés para obtener información sobre el contexto de nuestras 5 palabras más frecuentes."
   ]
  },
  {
   "cell_type": "code",
   "execution_count": null,
   "metadata": {},
   "outputs": [],
   "source": [
    "text_obj = nltk.Text(palabras)"
   ]
  },
  {
   "cell_type": "markdown",
   "metadata": {},
   "source": [
    "Investiguemos la riqueza léxica:"
   ]
  },
  {
   "cell_type": "code",
   "execution_count": null,
   "metadata": {},
   "outputs": [
    {
     "name": "stdout",
     "output_type": "stream",
     "text": [
      "Porcentaje de riqueza léxica: 3.448%\n"
     ]
    }
   ],
   "source": [
    "# Riqueza lexica\n",
    "\n",
    "print(f'Porcentaje de riqueza léxica: {100*len(set(text_obj))/len(text_obj):.3f}%')"
   ]
  },
  {
   "cell_type": "markdown",
   "metadata": {},
   "source": [
    "Por lo tanto, podemos concluir que las descripciones que se encuentran en nuestros registros no son muy ricas."
   ]
  },
  {
   "cell_type": "markdown",
   "metadata": {},
   "source": [
    "Obtenemos ademas las colocaciones"
   ]
  },
  {
   "cell_type": "code",
   "execution_count": null,
   "metadata": {},
   "outputs": [
    {
     "name": "stdout",
     "output_type": "stream",
     "text": [
      "una cicatriz; del lado; lado derecho; lado izquierdo; cuenta con;\n",
      "brazo derecho; brazo izquierdo; mano derecha; tiene una; santa muerte;\n",
      "pierna derecha; mano izquierda; seña particular; color negro; que\n",
      "dice; asi como; color cafe; ceja izquierda; parte superior; ceja\n",
      "derecha\n"
     ]
    }
   ],
   "source": [
    "text_obj.collocations()"
   ]
  },
  {
   "cell_type": "markdown",
   "metadata": {},
   "source": [
    "De las cuales rescatamos bajo qué contextos en común aparecen en particular las palabras _color_ y _cafe_/_negro_"
   ]
  },
  {
   "cell_type": "code",
   "execution_count": null,
   "metadata": {},
   "outputs": [
    {
     "name": "stdout",
     "output_type": "stream",
     "text": [
      "de_oscuro de_oscura o_tatuaje\n"
     ]
    }
   ],
   "source": [
    "text_obj.common_contexts(['color', 'cafe'])"
   ]
  },
  {
   "cell_type": "code",
   "execution_count": null,
   "metadata": {},
   "outputs": [
    {
     "name": "stdout",
     "output_type": "stream",
     "text": [
      "de_en con_y con_de y_uno\n"
     ]
    }
   ],
   "source": [
    "text_obj.common_contexts(['color', 'negro'])"
   ]
  },
  {
   "cell_type": "markdown",
   "metadata": {},
   "source": [
    "Analizamos el contexto de cicatriz mediante las funciones `concordance`, y `similar` de las palabras:\n",
    "\n",
    "* cicatriz \n",
    "* derecho, \n",
    "* tatuaje, \n",
    "* izquierdo, \n",
    "* lado"
   ]
  },
  {
   "cell_type": "markdown",
   "metadata": {},
   "source": [
    "### Contexto de cicatriz"
   ]
  },
  {
   "cell_type": "code",
   "execution_count": null,
   "metadata": {},
   "outputs": [
    {
     "name": "stdout",
     "output_type": "stream",
     "text": [
      "Displaying 25 of 7859 matches:\n",
      "tiene una cicatriz en la rodilla izquierda por una ca\n",
      "d en el brazo del lado derecho una cicatriz de 5 a 8 cmts a lo largo del brazo\n",
      " sexo masculino de emiliano zapata cicatriz en mano derecha tatuajes uno en un\n",
      " dos iniciales tatuadas en su piel cicatriz en ceja izquierda sin barba poco b\n",
      "a imagen de la virgen de guadalupe cicatriz de hernia en una pierna no recuerd\n",
      "el labio superior del lado derecho cicatriz en el brazo izquierdo en forma de \n",
      "o y un lunar en la nalga izquierda cicatriz en ceja izquierda cicatriz lineal \n",
      "quierda cicatriz en ceja izquierda cicatriz lineal en pierna derecha cicatriz \n",
      " cicatriz lineal en pierna derecha cicatriz de un centimetro en labio superior\n",
      "azon padece alzheimer presenta una cicatriz en la sien del lado izquierdo no t\n",
      "o tiene el ojo izquierdo tiene una cicatriz en la ceja derecha tiene una cicat\n",
      "atriz en la ceja derecha tiene una cicatriz en la muñeca izquierda no tiene do\n",
      "senta un lunar en pomulo izquierdo cicatriz en la frente del lado derecho a la\n",
      "ado derecho a la altura de la ceja cicatriz en la frente de varisela cicatriz \n",
      " cicatriz en la frente de varisela cicatriz en menton cicatriz que atraviesa l\n",
      "nte de varisela cicatriz en menton cicatriz que atraviesa la ceja derecha una \n",
      " perforacion en la oreja izquierda cicatriz en el naciente de cabello de 3 cm \n",
      "quemadura reciente en mano derecha cicatriz a la altura del ombligo cicatriz e\n",
      "a cicatriz a la altura del ombligo cicatriz en la cabeza de lado derecho cicat\n",
      "atriz en la cabeza de lado derecho cicatriz en ceja derecha y lunar en mejilla\n",
      "tiene un piercing en el obligo una cicatriz en la muñeca sin saber en cual y l\n",
      " del dedo indice derecho tiene una cicatriz en la parte interior de una de sus\n",
      "rte interior de una de sus piernas cicatriz en seja izquierda señas vicibles t\n",
      "de color rojo en su parte anterior cicatriz en la frente tiene una cicatriz en\n",
      "or cicatriz en la frente tiene una cicatriz en la region frontal del lado izqu\n"
     ]
    }
   ],
   "source": [
    "text_obj.concordance(comunes_contexto[0])"
   ]
  },
  {
   "cell_type": "markdown",
   "metadata": {},
   "source": [
    "Podemos observar que el 4-grama que comienza por cicatriz suele incluir la ubicación de dicha cicatriz. Aparentemente el texto detrás de cicatriz no provee mayor información sobre esta."
   ]
  },
  {
   "cell_type": "markdown",
   "metadata": {},
   "source": [
    "También, cicatriz suele estar en el mismo contexto que tatuaje, tatuajes, lunar, lunares, perforación, mancha y demás, como se observa en el resultado de la siguiente instrucción."
   ]
  },
  {
   "cell_type": "code",
   "execution_count": null,
   "metadata": {},
   "outputs": [
    {
     "name": "stdout",
     "output_type": "stream",
     "text": [
      "tatuaje y lunar cicatrices tatuajes perforacion tiene de otro lunares\n",
      "mancha uno una en manchas verruga grande operacion arriba pecas\n"
     ]
    }
   ],
   "source": [
    "text_obj.similar(comunes_contexto[0])"
   ]
  },
  {
   "cell_type": "markdown",
   "metadata": {},
   "source": [
    "### Contexto de derecho"
   ]
  },
  {
   "cell_type": "code",
   "execution_count": null,
   "metadata": {},
   "outputs": [
    {
     "name": "stdout",
     "output_type": "stream",
     "text": [
      "Displaying 25 of 5968 matches:\n",
      " de mancha cicatrices a un lado ojo derecho manchas en el tobilloderecha causad\n",
      "e dos tatuajes en el pecho del lado derecho el nombre de miriam y del lado izqu\n",
      " de juan david en el brazo del lado derecho una cicatriz de 5 a 8 cmts a lo lar\n",
      "rices en la cabeza tatuaje en brazo derecho con la figura de una persona del se\n",
      " del cuello y un grano en el hombro derecho pecas en la cara tiene un lunar arr\n",
      " arriba del labio superior del lado derecho cicatriz en el brazo izquierdo en f\n",
      " de un centimetro en labio superior derecho acne en la cara tatuaje en el anteb\n",
      "erdo cicatriz en la frente del lado derecho a la altura de la ceja cicatriz en \n",
      "bligo cicatriz en la cabeza de lado derecho cicatriz en ceja derecha y lunar en\n",
      " en mejilla derecha renguea del pie derecho tiene un piercing en el obligo una \n",
      " le falta un pedazo del dedo indice derecho tiene una cicatriz en la parte inte\n",
      "ede arriba tatuaje dragòn en hombro derecho tatuajes en forma de alacran en la \n",
      "erdo tiene una cicatriz en el brazo derecho como quemadura lunar en la mano izq\n",
      "fracturado kgtatuaje en el chamorro derecho que dice clara en el pecho del lado\n",
      "que dice clara en el pecho del lado derecho que dice chuy y en el lado izquierd\n",
      "a media espalda tatuaje en el brazo derecho con la leyenda elyalma en el brazo \n",
      "gote tatuaje y cicatris en el brazo derecho en forma de ubarba tiene un tatuaje\n",
      "mbien tiene un tatuaje en el hombro derecho de duna mujer con sombrero y cabell\n",
      "les iej y otro tatuaje en el hombro derecho de una flor con espinas rasgos indi\n",
      "en el abdomen de letras en el brazo derecho en uno de los brazos q dice zafiro \n",
      " alta pero se lo quemaron en hombro derecho en forma de calavera uno en el cuel\n",
      "santa muerte en la espalda del lado derecho de la cara y en un hombro tiene un \n",
      "ar grande nedro cicatriz en el lado derecho de la cabeza lunar en el cuello cic\n",
      "su diente frontal cicatriz en brazo derecho exactamente donde tenemos la vacuna\n",
      "uierdo con la leyenda patricia y el derecho otro con dos palaomas y la leyenda \n"
     ]
    }
   ],
   "source": [
    "text_obj.concordance(comunes_contexto[1])"
   ]
  },
  {
   "cell_type": "markdown",
   "metadata": {},
   "source": [
    "A diferencia de cicatriz, derecho si viene acompañada de más información relevante de ambos lados."
   ]
  },
  {
   "cell_type": "markdown",
   "metadata": {},
   "source": [
    "Además, esta palabra como es de esperarse aparece en los contextos semejantes a la palabra _izquierda_ y sus variaciones, al igual que partes del cuerpo."
   ]
  },
  {
   "cell_type": "code",
   "execution_count": null,
   "metadata": {},
   "outputs": [
    {
     "name": "stdout",
     "output_type": "stream",
     "text": [
      "izquierdo y tiene de izquierda tatuaje en cicatriz con derecha izq\n",
      "otro lunar un trae cuello una superior pecho abdomen\n"
     ]
    }
   ],
   "source": [
    "text_obj.similar(comunes_contexto[1])"
   ]
  },
  {
   "cell_type": "markdown",
   "metadata": {},
   "source": [
    "### Contexto de tatuaje"
   ]
  },
  {
   "cell_type": "code",
   "execution_count": null,
   "metadata": {},
   "outputs": [
    {
     "name": "stdout",
     "output_type": "stream",
     "text": [
      "Displaying 25 of 5750 matches:\n",
      "adas en unos de sus brazos tiene un tatuaje en unos de sus brazos las cuales so\n",
      " a lo largo del brazo bigote escaso tatuaje en forma de cruz en el brazo izquie\n",
      "rdo y varias ciatrices en la cabeza tatuaje en brazo derecho con la figura de u\n",
      "erda sin barba poco bigote tiene un tatuaje en el cuello del lado izquierdo con\n",
      "erdo con la figura de un alacran un tatuaje con la figura de un payaso en una d\n",
      "rostro como paño lunar en el menton tatuaje con la leyenda andrid y la imagen d\n",
      "io superior derecho acne en la cara tatuaje en el antebrazo izquierdo tatuaje e\n",
      "a tatuaje en el antebrazo izquierdo tatuaje en la espalda herida en el dedo pul\n",
      "iz en seja izquierda señas vicibles tatuaje en una mano tiene dentadura nueva e\n",
      "entadura nueva en la partede arriba tatuaje dragòn en hombro derecho tatuajes e\n",
      "izquierda tiene dificultad para ver tatuaje en el cuello con el nombre isabel p\n",
      "ciones de largo hasta media espalda tatuaje en el brazo derecho con la leyenda \n",
      "rosa en el brazo izquierdo tiene un tatuaje de dos caritas atras en la espalda \n",
      "erdo en forma de lagrima usa bigote tatuaje y cicatris en el brazo derecho en f\n",
      "derecho en forma de ubarba tiene un tatuaje en la espalda de la virgen asi tamb\n",
      "a de la virgen asi tambien tiene un tatuaje en el hombro derecho de duna mujer \n",
      "brero y cabello largo debajo de ese tatuaje tiene el hombre de manuela quemadur\n",
      "faltaban dos dientes de enfrente un tatuaje en el antebrazo izquierdo de unas i\n",
      "uierdo de unas iniciales iej y otro tatuaje en el hombro derecho de una flor co\n",
      "a frente y oreja izquierda tenia un tatuaje en la espalda alta pero se lo quema\n",
      " 12 cms aprox en el brazo izquierdo tatuaje en forma de lamopara de genio en ho\n",
      "ajes en la espalda con geroglificos tatuaje brazo izquierdo de una cabeza de un\n",
      "zquierdo de una cabeza de un aguila tatuaje abajo del cuello con la leyenda fat\n",
      "o izq y una cicatriz en la garganta tatuaje en la parte izq de la espalda una f\n",
      "r mordida de caballo en el estomago tatuaje en ambos brazos en uno dos caras en\n"
     ]
    }
   ],
   "source": [
    "text_obj.concordance(comunes_contexto[2])"
   ]
  },
  {
   "cell_type": "markdown",
   "metadata": {},
   "source": [
    "La palabra tatuaje es un poco más volatil, en tanto que en muchos contextos viene acompañada de una breve descripción de este, en otros viene acompañada de su posición en el cuerpo, y otras ocasiones viene sola."
   ]
  },
  {
   "cell_type": "markdown",
   "metadata": {},
   "source": [
    "Las palabras que aparecen en contextos similares a _tatuaje_ son las que se observan como resultado de la siguiente celda. Obsérvese que tatuaje se encuentra en contextos semejantes a otros buenos distintivos de personas como lo son lunares, manchas y cicatrices."
   ]
  },
  {
   "cell_type": "code",
   "execution_count": null,
   "metadata": {},
   "outputs": [
    {
     "name": "stdout",
     "output_type": "stream",
     "text": [
      "cicatriz y lunar tatuajes cicatrices otro lunares uno perforacion\n",
      "tiene cuenta una de en manchas mancha izquierdo derecho grande como\n"
     ]
    }
   ],
   "source": [
    "text_obj.similar(comunes_contexto[2])"
   ]
  },
  {
   "cell_type": "markdown",
   "metadata": {},
   "source": [
    "### Contexto de izquierdo"
   ]
  },
  {
   "cell_type": "code",
   "execution_count": null,
   "metadata": {},
   "outputs": [
    {
     "name": "stdout",
     "output_type": "stream",
     "text": [
      "Displaying 25 of 5355 matches:\n",
      "uello en indice izq y arco del pie izquierdo en la pierna izquierda ya que se l\n",
      "cho el nombre de miriam y del lado izquierdo el nombre de juan david en el braz\n",
      "tuaje en forma de cruz en el brazo izquierdo y varias ciatrices en la cabeza ta\n",
      "e un tatuaje en el cuello del lado izquierdo con la figura de un alacran un tat\n",
      " lado derecho cicatriz en el brazo izquierdo en forma de u cerca del codo y un \n",
      "en la cara tatuaje en el antebrazo izquierdo tatuaje en la espalda herida en el\n",
      "a espalda herida en el dedo pulgar izquierdo tiene lunar en el cuello tiene el \n",
      "a una cicatriz en la sien del lado izquierdo no tiene el ojo izquierdo tiene un\n",
      "del lado izquierdo no tiene el ojo izquierdo tiene una cicatriz en la ceja dere\n",
      "miriam presenta un lunar en pomulo izquierdo cicatriz en la frente del lado der\n",
      "quierda lunar en el menton de lado izquierdo y otra en el pecho de 10 cm aprox \n",
      "na calavera que dice beto en brazo izquierdo un dragon usa bigote recortado tie\n",
      "triz en la region frontal del lado izquierdo tiene una cicatriz en el brazo der\n",
      "ambas orejas cicatriz en el gluteo izquierdo de aproximadamente 3cm dedo pulgar\n",
      "ierna con el nombre de mayra brazo izquierdo el nombre de elva dentadura postiz\n",
      "derecho que dice chuy y en el lado izquierdo tiene una charrita origen tarahuma\n",
      " acomodado un lunar debajo del ojo izquierdo con bigote dentadura al frente tie\n",
      "con la leyenda elyalma en el brazo izquierdo una pantera cabello teñido de rosa\n",
      "cabello teñido de rosa en el brazo izquierdo tiene un tatuaje de dos caritas at\n",
      "a nuca tiene un tatauaje en el ojo izquierdo en forma de lagrima usa bigote tat\n",
      "nfrente un tatuaje en el antebrazo izquierdo de unas iniciales iej y otro tatua\n",
      "riz en forma de hoyo abajo del ojo izquierdo sin dientes en la espalda y 4 en e\n",
      " manos con un rosario en el hombro izquierdo en el hombro izquierdo de unas ini\n",
      "n el hombro izquierdo en el hombro izquierdo de unas iniciales en el hombro izq\n",
      "rdo de unas iniciales en el hombro izquierdo de unas iniciales le faltan diente\n"
     ]
    }
   ],
   "source": [
    "text_obj.concordance(comunes_contexto[3])"
   ]
  },
  {
   "cell_type": "markdown",
   "metadata": {},
   "source": [
    "Al igual que la palabra _derecho_, la palabra _izquierdo_ viene acompañada de alguna seña característica de la persona extraviada. Es de esperarse que esta palabra aparezca en contextos similares a _derecho_, _tatuaje_ y _cicatriz_ o alguna parte del cuerpo."
   ]
  },
  {
   "cell_type": "code",
   "execution_count": null,
   "metadata": {},
   "outputs": [
    {
     "name": "stdout",
     "output_type": "stream",
     "text": [
      "derecho y tiene de tatuaje en cicatriz izquierda con izq trae otro una\n",
      "un cuello pecho derecha lunar estomago abdomen\n"
     ]
    }
   ],
   "source": [
    "text_obj.similar(comunes_contexto[3])"
   ]
  },
  {
   "cell_type": "markdown",
   "metadata": {},
   "source": [
    "### Contexto de lado"
   ]
  },
  {
   "cell_type": "code",
   "execution_count": null,
   "metadata": {},
   "outputs": [
    {
     "name": "stdout",
     "output_type": "stream",
     "text": [
      "Displaying 25 of 4311 matches:\n",
      "es en ceja izquierda y una mas en el lado izquie lunares a la altura de la cin\n",
      "nturaforma de mancha cicatrices a un lado ojo derecho manchas en el tobilloder\n",
      "a tiene dos tatuajes en el pecho del lado derecho el nombre de miriam y del la\n",
      "do derecho el nombre de miriam y del lado izquierdo el nombre de juan david en\n",
      "nombre de juan david en el brazo del lado derecho una cicatriz de 5 a 8 cmts a\n",
      "te tiene un tatuaje en el cuello del lado izquierdo con la figura de un alacra\n",
      "ernia en una pierna no recuerdan que lado tiene un lunar atras del cuello y un\n",
      " lunar arriba del labio superior del lado derecho cicatriz en el brazo izquier\n",
      "presenta una cicatriz en la sien del lado izquierdo no tiene el ojo izquierdo \n",
      " izquierdo cicatriz en la frente del lado derecho a la altura de la ceja cicat\n",
      "reja izquierda lunar en el menton de lado izquierdo y otra en el pecho de 10 c\n",
      "del ombligo cicatriz en la cabeza de lado derecho cicatriz en ceja derecha y l\n",
      "na cicatriz en la region frontal del lado izquierdo tiene una cicatriz en el b\n",
      "recho que dice clara en el pecho del lado derecho que dice chuy y en el lado i\n",
      "l lado derecho que dice chuy y en el lado izquierdo tiene una charrita origen \n",
      "ro cicatriz por herida de vala en el lado izquierdo del pecho placa metalica c\n",
      "de la santa muerte en la espalda del lado derecho de la cara y en un hombro ti\n",
      "un lunar grande nedro cicatriz en el lado derecho de la cabeza lunar en el cue\n",
      "n el cuello cicatriz en la frente al lado izquierdo como de unos 3 cms tambien\n",
      "atriz cicatriz en labio inferior del lado izquierdo bigote un poco largo tatua\n",
      "poco largo tatuajes dos lagrimas del lado derecho debajo del ojo un lunar gran\n",
      "del ojo un lunar grande en la pierna lado derecho se facturo el perone o no la\n",
      "madura en la espalda lunar lunar del lado derecho entre la nariz y la boca asi\n",
      "amalgamas falta un molar central del lado izquierdo cicatriz no tiene ojo dere\n",
      "a de lamopara de genio en hombro del lado izquierdo especie de mancha en el br\n"
     ]
    }
   ],
   "source": [
    "text_obj.concordance(comunes_contexto[4])"
   ]
  },
  {
   "cell_type": "markdown",
   "metadata": {},
   "source": [
    "Notemos que lado siempre aparece en un bigrama junto con izquierdo o derecho como es de esperarse. Esto lo podemos comprobar con los contextos comunes."
   ]
  },
  {
   "cell_type": "code",
   "execution_count": null,
   "metadata": {},
   "outputs": [
    {
     "name": "stdout",
     "output_type": "stream",
     "text": [
      "brazo_con lado_de lado_tiene brazo_tiene brazo_en lado_cicatriz lado_y\n",
      "lado_en lado_con lado_del brazo_y brazo_de lado_tatuaje brazo_un\n",
      "lado_una antebrazo_con brazo_una brazo_la brazo_cicatriz brazo_a\n"
     ]
    }
   ],
   "source": [
    "text_obj.common_contexts([comunes_contexto[3], 'izquierdo', 'derecho'])"
   ]
  },
  {
   "cell_type": "code",
   "execution_count": null,
   "metadata": {},
   "outputs": [
    {
     "name": "stdout",
     "output_type": "stream",
     "text": [
      "derecho y tiene de tatuaje en cicatriz izquierda con izq trae otro una\n",
      "un cuello pecho derecha lunar estomago abdomen\n"
     ]
    }
   ],
   "source": [
    "text_obj.similar(comunes_contexto[3])"
   ]
  },
  {
   "cell_type": "markdown",
   "metadata": {},
   "source": [
    "# Estudio de n-gramas\n",
    "\n",
    "Tras estudiar de forma individual a las palabras en la sección anterior, procedemos a estudiarlas en conjuntos de 2 y 3 palabras consecutivas."
   ]
  },
  {
   "cell_type": "markdown",
   "metadata": {},
   "source": [
    "Obtenemos los bigramas más comunes y su frecuencia"
   ]
  },
  {
   "cell_type": "code",
   "execution_count": null,
   "metadata": {},
   "outputs": [
    {
     "data": {
      "text/plain": [
       "FreqDist({('en', 'la'): 9034, ('en', 'el'): 8789, ('cicatriz', 'en'): 4747, ('de', 'la'): 3855, ('tatuaje', 'en'): 3652, ('una', 'cicatriz'): 2853, ('el', 'brazo'): 2150, ('con', 'la'): 2053, ('un', 'tatuaje'): 2004, ('del', 'lado'): 1971, ...})"
      ]
     },
     "execution_count": 53,
     "metadata": {},
     "output_type": "execute_result"
    }
   ],
   "source": [
    "# bigramas más comunes y su frecuencia\n",
    "\n",
    "freq_dist_bigramas = nltk.FreqDist(list(nltk.bigrams(text_obj)))\n",
    "freq_dist_bigramas"
   ]
  },
  {
   "cell_type": "markdown",
   "metadata": {},
   "source": [
    "Debido a que en las anteriores instrucciones consideramos también a las stop words para el análisis, y estas no agregan mucho a la semántica, volvemos a realizar el análisis de frecuencias pero ahora con el conjunto de palabras sin stop words."
   ]
  },
  {
   "cell_type": "code",
   "execution_count": null,
   "metadata": {},
   "outputs": [
    {
     "data": {
      "text/plain": [
       "FreqDist({('lado', 'derecho'): 1918, ('lado', 'izquierdo'): 1718, ('brazo', 'derecho'): 1619, ('brazo', 'izquierdo'): 1510, ('tatuaje', 'brazo'): 865, ('mano', 'derecha'): 747, ('pierna', 'derecha'): 658, ('mano', 'izquierda'): 657, ('derecho', 'cicatriz'): 588, ('izquierdo', 'cicatriz'): 512, ...})"
      ]
     },
     "execution_count": 54,
     "metadata": {},
     "output_type": "execute_result"
    }
   ],
   "source": [
    "# bigramas sin las stopw y su frecuencia.\n",
    "\n",
    "freq_dist_bigramas = nltk.FreqDist(\n",
    "    list(\n",
    "        nltk.bigrams(\n",
    "            nltk.Text(palabras_no_stopw)\n",
    "        )\n",
    "    )\n",
    ")\n",
    "\n",
    "freq_dist_bigramas"
   ]
  },
  {
   "cell_type": "markdown",
   "metadata": {},
   "source": [
    "En el resultado de la línea anterior corraboramos nuestra observación hecha antes sobre los contextos en los que aparecían las cinco palabras más comunes.\n",
    "\n",
    "Ahora graficamos la distribución de los bigramas."
   ]
  },
  {
   "cell_type": "code",
   "execution_count": null,
   "metadata": {},
   "outputs": [
    {
     "name": "stderr",
     "output_type": "stream",
     "text": [
      "/tmp/ipykernel_34173/2726476188.py:5: VisibleDeprecationWarning: Creating an ndarray from ragged nested sequences (which is a list-or-tuple of lists-or-tuples-or ndarrays with different lengths or shapes) is deprecated. If you meant to do this, you must specify 'dtype=object' when creating the ndarray.\n",
      "  X = np.array(\n"
     ]
    },
    {
     "data": {
      "image/png": "[encoded data removed]",
      "text/plain": [
       "<Figure size 720x1080 with 1 Axes>"
      ]
     },
     "metadata": {
      "needs_background": "light"
     },
     "output_type": "display_data"
    }
   ],
   "source": [
    "plot_freq_n_comunes(freq_dist_bigramas.most_common(50), 'Frecuencia de las 50 bigramas más comunes sin stop words')"
   ]
  },
  {
   "cell_type": "markdown",
   "metadata": {},
   "source": [
    "Con bigramas no obtenemos mucha información sobre rasgos caracteristicos que presentan los registros. Es por este motivo que consideramos trigramas."
   ]
  },
  {
   "cell_type": "code",
   "execution_count": null,
   "metadata": {},
   "outputs": [
    {
     "data": {
      "text/plain": [
       "FreqDist({('tatuaje', 'brazo', 'derecho'): 422, ('tatuaje', 'brazo', 'izquierdo'): 339, ('lado', 'derecho', 'cicatriz'): 249, ('cicatriz', 'ceja', 'izquierda'): 207, ('pecho', 'lado', 'izquierdo'): 206, ('lado', 'izquierdo', 'cicatriz'): 191, ('cicatriz', 'ceja', 'derecha'): 188, ('tatuaje', 'hombro', 'derecho'): 131, ('lado', 'derecho', 'tatuaje'): 128, ('cicatriz', 'brazo', 'izquierdo'): 126, ...})"
      ]
     },
     "execution_count": 56,
     "metadata": {},
     "output_type": "execute_result"
    }
   ],
   "source": [
    "# trigramas sin las stopw y su frecuencia.\n",
    "\n",
    "freq_dist_trigramas = nltk.FreqDist(\n",
    "    list(\n",
    "        ngrams(\n",
    "            nltk.Text(palabras_no_stopw), 3\n",
    "        )\n",
    "    )\n",
    ")\n",
    "\n",
    "freq_dist_trigramas"
   ]
  },
  {
   "cell_type": "code",
   "execution_count": null,
   "metadata": {},
   "outputs": [
    {
     "name": "stderr",
     "output_type": "stream",
     "text": [
      "/tmp/ipykernel_34173/2726476188.py:5: VisibleDeprecationWarning: Creating an ndarray from ragged nested sequences (which is a list-or-tuple of lists-or-tuples-or ndarrays with different lengths or shapes) is deprecated. If you meant to do this, you must specify 'dtype=object' when creating the ndarray.\n",
      "  X = np.array(\n"
     ]
    },
    {
     "data": {
      "image/png": "[encoded data removed]",
      "text/plain": [
       "<Figure size 720x1080 with 1 Axes>"
      ]
     },
     "metadata": {
      "needs_background": "light"
     },
     "output_type": "display_data"
    }
   ],
   "source": [
    "plot_freq_n_comunes(freq_dist_trigramas.most_common(50), 'Frecuencia de las 50 trigramas más comunes sin stop words')"
   ]
  },
  {
   "cell_type": "markdown",
   "metadata": {},
   "source": [
    "Claramente ahora obtenemos información más útil no solo sobre un rasgo característico del registro sino que también su posición."
   ]
  },
  {
   "cell_type": "markdown",
   "metadata": {},
   "source": [
    "# Análisis de sentimientos\n",
    "\n",
    "En tanto que nuestros datos son neutros en sentimiento al ser parte de una descripción, no hay nada que reportar en eso."
   ]
  },
  {
   "cell_type": "markdown",
   "metadata": {},
   "source": [
    "# Conclusiones preliminares\n",
    "\n",
    "Podemos concluir a partir del análisis realizado:\n",
    "\n",
    "* La riqueza léxica es baja, y por lo tanto las descripciones resultan un poco pobres. Muy probablemente esto se deba a que dichas descripciones deben ser concisas y breves.\n",
    "\n",
    "* El rasgo característico más frecuente fue cicatriz, seguida de tatuaje. Por lo tanto, muchos de los registros presentan cicatrices, tatuajes o ambos. De acuerdo con nuestro análisis de trigramas, los tatuajes suelen encontrarse en los brazos; y la cicatriz está presente con mayor fecuencia en la ceja.\n",
    "\n",
    "* Mediante procesamiento de los trigramas podemos obtener la posición de los rasgos particulares.\n"
   ]
  },
  {
   "cell_type": "code",
   "execution_count": null,
   "metadata": {},
   "outputs": [],
   "source": []
  }
 ],
 "metadata": {
  "kernelspec": {
   "display_name": "Python 3.9.12 ('base')",
   "language": "python",
   "name": "python3"
  },
  "language_info": {
   "codemirror_mode": {
    "name": "ipython",
    "version": 3
   },
   "file_extension": ".py",
   "mimetype": "text/x-python",
   "name": "python",
   "nbconvert_exporter": "python",
   "pygments_lexer": "ipython3",
   "version": "3.9.12"
  },
  "orig_nbformat": 4,
  "vscode": {
   "interpreter": {
    "hash": "71bccd470a001cbac11e4ce9d0720c14eb02235b943a4308ccee1741baf3d386"
   }
  }
 },
 "nbformat": 4,
 "nbformat_minor": 2
}
