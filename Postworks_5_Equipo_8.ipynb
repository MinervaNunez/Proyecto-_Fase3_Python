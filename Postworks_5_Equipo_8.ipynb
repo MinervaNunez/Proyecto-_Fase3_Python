{
  "nbformat": 4,
  "nbformat_minor": 0,
  "metadata": {
    "colab": {
      "provenance": [],
      "collapsed_sections": []
    },
    "kernelspec": {
      "name": "python3",
      "display_name": "Python 3"
    },
    "language_info": {
      "name": "python"
    }
  },
  "cells": [
    {
      "cell_type": "markdown",
      "source": [
        "# Postwork 5"
      ],
      "metadata": {
        "id": "a6v5f03A3LdV"
      }
    },
    {
      "cell_type": "markdown",
      "source": [
        "Leemos el dataset resultante del proyecto anterior para hacer un analisis de los valores estadisticos \"mas conocidos\" en México, pero aplicado a las personas desaparecidas"
      ],
      "metadata": {
        "id": "FPBF2s6rMJnv"
      }
    },
    {
      "cell_type": "code",
      "execution_count": 2,
      "metadata": {
        "id": "FRtPTtla3K9P"
      },
      "outputs": [],
      "source": [
        "import numpy as np\n",
        "import pandas as pd\n",
        "import matplotlib.pyplot as plt\n",
        "import seaborn as sns"
      ]
    },
    {
      "cell_type": "code",
      "source": [
        "df = pd.read_csv(\"https://raw.githubusercontent.com/chucho003/Proyecto-_Fase3_Python/main/RNPEDFC_Final.csv\", encoding='ISO-8859-1')\n",
        "df"
      ],
      "metadata": {
        "colab": {
          "base_uri": "https://localhost:8080/",
          "height": 817
        },
        "id": "ZdK3Wfny5CYV",
        "outputId": "cc237aa5-1f4e-4ad8-c4cc-55cda01ca032"
      },
      "execution_count": 3,
      "outputs": [
        {
          "output_type": "execute_result",
          "data": {
            "text/plain": [
              "       anio       fecha      hora  dias_desaparecido           entidad  \\\n",
              "0      2012  2012-03-18  05:00:00               2234            Sonora   \n",
              "1      2007  2007-02-05  02:00:26               4102  Estado De Mexico   \n",
              "2      2009  2009-03-14  08:30:54               3334  Estado De Mexico   \n",
              "3      2006  2006-12-23  08:00:28               4146  Estado De Mexico   \n",
              "4      2008  2008-01-11  12:00:17               3762  Estado De Mexico   \n",
              "...     ...         ...       ...                ...               ...   \n",
              "35896  2018  2018-04-26  08:00:00                  4            Puebla   \n",
              "35897  2018  2018-01-08  11:00:00                112            Colima   \n",
              "35898  2015  2015-02-02  07:00:00               1183            Puebla   \n",
              "35899  2017  2017-08-22  04:00:00                251            Colima   \n",
              "35900  2018  2018-04-11  02:00:00                 19        Nuevo Leon   \n",
              "\n",
              "                      municipio                 localidad  \\\n",
              "0                       Navojoa                   Navojoa   \n",
              "1                Valle De Bravo            Valle De Bravo   \n",
              "2                        Chalco                    Chalco   \n",
              "3           Tlalnepantla De Baz       Tlalnepantla De Baz   \n",
              "4                        Toluca                    Toluca   \n",
              "...                         ...                       ...   \n",
              "35896                    Puebla                    Puebla   \n",
              "35897          Villa De Alvarez          Villa De Alvarez   \n",
              "35898                     Chila      Chilas De Las Flores   \n",
              "35899          Villa De Alvarez          Villa De Alvarez   \n",
              "35900  San Nicolas De Los Garza  San Nicolas De Los Garza   \n",
              "\n",
              "                  coordenadas nacionalidad    sexo  edad  estatura complexion  \\\n",
              "0      27.069053, -109.439423     Mexicana   Mujer     7      1.10    Delgada   \n",
              "1       19.16368, -100.134684     Mexicana   Mujer     4      1.10    Delgada   \n",
              "2         19.266337, -98.8978     Mexicana  Hombre     6      1.10    Delgada   \n",
              "3       19.547512, -99.193851     Mexicana  Hombre    10      1.10    Delgada   \n",
              "4            18.078, -91.6552     Mexicana  Hombre     4      1.10    Delgada   \n",
              "...                       ...          ...     ...   ...       ...        ...   \n",
              "35896   19.051201, -98.212116     Mexicana  Hombre    22      1.60    Delgada   \n",
              "35897       19.25, -103.73333     Mexicana   Mujer    27      1.70    Robusta   \n",
              "35898   17.965896, -97.864616     Mexicana   Mujer    86      1.77    Mediana   \n",
              "35899       19.25, -103.73333     Mexicana  Hombre    41      1.76    Robusta   \n",
              "35900  25.738505, -100.280753     Mexicana   Mujer    14      1.60    Delgada   \n",
              "\n",
              "                                      senas_particulares discapacidad  \\\n",
              "0      Tiene Una Cicatriz En La Rodilla Izquierda Por...      Ninguno   \n",
              "1                                        No Especificado      Ninguno   \n",
              "2      Manchas, Parte Superior De Pierna Derecha, Cic...      Ninguno   \n",
              "3      Lunares, A La Altura De La Cinturaforma De Man...      Ninguno   \n",
              "4                                        No Especificado      Ninguno   \n",
              "...                                                  ...          ...   \n",
              "35896  Lunar En La Mejilla Y Tatuaje En El Cuello En ...      Ninguno   \n",
              "35897  El Ojo Izquierdo Tiene Un Enfermedad Como Tic,...      Ninguno   \n",
              "35898                                    No Especificado      Ninguno   \n",
              "35899  Tatuaje En El Brazo Izquierdo Con La Imagen De...      Ninguno   \n",
              "35900                                    No Especificado      Ninguno   \n",
              "\n",
              "            dependecia_origen  \n",
              "0                FGE - Sonora  \n",
              "1      FGJ - Estado De Mexico  \n",
              "2      FGJ - Estado De Mexico  \n",
              "3      FGJ - Estado De Mexico  \n",
              "4      FGJ - Estado De Mexico  \n",
              "...                       ...  \n",
              "35896            FGE - Puebla  \n",
              "35897            PGJ - Colima  \n",
              "35898            FGE - Puebla  \n",
              "35899            PGJ - Colima  \n",
              "35900        PGJ - Nuevo Leon  \n",
              "\n",
              "[35901 rows x 16 columns]"
            ],
            "text/html": [
              "\n",
              "  <div id=\"df-75e6256c-50c2-4bb6-a74e-0a90a40cc59c\">\n",
              "    <div class=\"colab-df-container\">\n",
              "      <div>\n",
              "<style scoped>\n",
              "    .dataframe tbody tr th:only-of-type {\n",
              "        vertical-align: middle;\n",
              "    }\n",
              "\n",
              "    .dataframe tbody tr th {\n",
              "        vertical-align: top;\n",
              "    }\n",
              "\n",
              "    .dataframe thead th {\n",
              "        text-align: right;\n",
              "    }\n",
              "</style>\n",
              "<table border=\"1\" class=\"dataframe\">\n",
              "  <thead>\n",
              "    <tr style=\"text-align: right;\">\n",
              "      <th></th>\n",
              "      <th>anio</th>\n",
              "      <th>fecha</th>\n",
              "      <th>hora</th>\n",
              "      <th>dias_desaparecido</th>\n",
              "      <th>entidad</th>\n",
              "      <th>municipio</th>\n",
              "      <th>localidad</th>\n",
              "      <th>coordenadas</th>\n",
              "      <th>nacionalidad</th>\n",
              "      <th>sexo</th>\n",
              "      <th>edad</th>\n",
              "      <th>estatura</th>\n",
              "      <th>complexion</th>\n",
              "      <th>senas_particulares</th>\n",
              "      <th>discapacidad</th>\n",
              "      <th>dependecia_origen</th>\n",
              "    </tr>\n",
              "  </thead>\n",
              "  <tbody>\n",
              "    <tr>\n",
              "      <th>0</th>\n",
              "      <td>2012</td>\n",
              "      <td>2012-03-18</td>\n",
              "      <td>05:00:00</td>\n",
              "      <td>2234</td>\n",
              "      <td>Sonora</td>\n",
              "      <td>Navojoa</td>\n",
              "      <td>Navojoa</td>\n",
              "      <td>27.069053, -109.439423</td>\n",
              "      <td>Mexicana</td>\n",
              "      <td>Mujer</td>\n",
              "      <td>7</td>\n",
              "      <td>1.10</td>\n",
              "      <td>Delgada</td>\n",
              "      <td>Tiene Una Cicatriz En La Rodilla Izquierda Por...</td>\n",
              "      <td>Ninguno</td>\n",
              "      <td>FGE - Sonora</td>\n",
              "    </tr>\n",
              "    <tr>\n",
              "      <th>1</th>\n",
              "      <td>2007</td>\n",
              "      <td>2007-02-05</td>\n",
              "      <td>02:00:26</td>\n",
              "      <td>4102</td>\n",
              "      <td>Estado De Mexico</td>\n",
              "      <td>Valle De Bravo</td>\n",
              "      <td>Valle De Bravo</td>\n",
              "      <td>19.16368, -100.134684</td>\n",
              "      <td>Mexicana</td>\n",
              "      <td>Mujer</td>\n",
              "      <td>4</td>\n",
              "      <td>1.10</td>\n",
              "      <td>Delgada</td>\n",
              "      <td>No Especificado</td>\n",
              "      <td>Ninguno</td>\n",
              "      <td>FGJ - Estado De Mexico</td>\n",
              "    </tr>\n",
              "    <tr>\n",
              "      <th>2</th>\n",
              "      <td>2009</td>\n",
              "      <td>2009-03-14</td>\n",
              "      <td>08:30:54</td>\n",
              "      <td>3334</td>\n",
              "      <td>Estado De Mexico</td>\n",
              "      <td>Chalco</td>\n",
              "      <td>Chalco</td>\n",
              "      <td>19.266337, -98.8978</td>\n",
              "      <td>Mexicana</td>\n",
              "      <td>Hombre</td>\n",
              "      <td>6</td>\n",
              "      <td>1.10</td>\n",
              "      <td>Delgada</td>\n",
              "      <td>Manchas, Parte Superior De Pierna Derecha, Cic...</td>\n",
              "      <td>Ninguno</td>\n",
              "      <td>FGJ - Estado De Mexico</td>\n",
              "    </tr>\n",
              "    <tr>\n",
              "      <th>3</th>\n",
              "      <td>2006</td>\n",
              "      <td>2006-12-23</td>\n",
              "      <td>08:00:28</td>\n",
              "      <td>4146</td>\n",
              "      <td>Estado De Mexico</td>\n",
              "      <td>Tlalnepantla De Baz</td>\n",
              "      <td>Tlalnepantla De Baz</td>\n",
              "      <td>19.547512, -99.193851</td>\n",
              "      <td>Mexicana</td>\n",
              "      <td>Hombre</td>\n",
              "      <td>10</td>\n",
              "      <td>1.10</td>\n",
              "      <td>Delgada</td>\n",
              "      <td>Lunares, A La Altura De La Cinturaforma De Man...</td>\n",
              "      <td>Ninguno</td>\n",
              "      <td>FGJ - Estado De Mexico</td>\n",
              "    </tr>\n",
              "    <tr>\n",
              "      <th>4</th>\n",
              "      <td>2008</td>\n",
              "      <td>2008-01-11</td>\n",
              "      <td>12:00:17</td>\n",
              "      <td>3762</td>\n",
              "      <td>Estado De Mexico</td>\n",
              "      <td>Toluca</td>\n",
              "      <td>Toluca</td>\n",
              "      <td>18.078, -91.6552</td>\n",
              "      <td>Mexicana</td>\n",
              "      <td>Hombre</td>\n",
              "      <td>4</td>\n",
              "      <td>1.10</td>\n",
              "      <td>Delgada</td>\n",
              "      <td>No Especificado</td>\n",
              "      <td>Ninguno</td>\n",
              "      <td>FGJ - Estado De Mexico</td>\n",
              "    </tr>\n",
              "    <tr>\n",
              "      <th>...</th>\n",
              "      <td>...</td>\n",
              "      <td>...</td>\n",
              "      <td>...</td>\n",
              "      <td>...</td>\n",
              "      <td>...</td>\n",
              "      <td>...</td>\n",
              "      <td>...</td>\n",
              "      <td>...</td>\n",
              "      <td>...</td>\n",
              "      <td>...</td>\n",
              "      <td>...</td>\n",
              "      <td>...</td>\n",
              "      <td>...</td>\n",
              "      <td>...</td>\n",
              "      <td>...</td>\n",
              "      <td>...</td>\n",
              "    </tr>\n",
              "    <tr>\n",
              "      <th>35896</th>\n",
              "      <td>2018</td>\n",
              "      <td>2018-04-26</td>\n",
              "      <td>08:00:00</td>\n",
              "      <td>4</td>\n",
              "      <td>Puebla</td>\n",
              "      <td>Puebla</td>\n",
              "      <td>Puebla</td>\n",
              "      <td>19.051201, -98.212116</td>\n",
              "      <td>Mexicana</td>\n",
              "      <td>Hombre</td>\n",
              "      <td>22</td>\n",
              "      <td>1.60</td>\n",
              "      <td>Delgada</td>\n",
              "      <td>Lunar En La Mejilla Y Tatuaje En El Cuello En ...</td>\n",
              "      <td>Ninguno</td>\n",
              "      <td>FGE - Puebla</td>\n",
              "    </tr>\n",
              "    <tr>\n",
              "      <th>35897</th>\n",
              "      <td>2018</td>\n",
              "      <td>2018-01-08</td>\n",
              "      <td>11:00:00</td>\n",
              "      <td>112</td>\n",
              "      <td>Colima</td>\n",
              "      <td>Villa De Alvarez</td>\n",
              "      <td>Villa De Alvarez</td>\n",
              "      <td>19.25, -103.73333</td>\n",
              "      <td>Mexicana</td>\n",
              "      <td>Mujer</td>\n",
              "      <td>27</td>\n",
              "      <td>1.70</td>\n",
              "      <td>Robusta</td>\n",
              "      <td>El Ojo Izquierdo Tiene Un Enfermedad Como Tic,...</td>\n",
              "      <td>Ninguno</td>\n",
              "      <td>PGJ - Colima</td>\n",
              "    </tr>\n",
              "    <tr>\n",
              "      <th>35898</th>\n",
              "      <td>2015</td>\n",
              "      <td>2015-02-02</td>\n",
              "      <td>07:00:00</td>\n",
              "      <td>1183</td>\n",
              "      <td>Puebla</td>\n",
              "      <td>Chila</td>\n",
              "      <td>Chilas De Las Flores</td>\n",
              "      <td>17.965896, -97.864616</td>\n",
              "      <td>Mexicana</td>\n",
              "      <td>Mujer</td>\n",
              "      <td>86</td>\n",
              "      <td>1.77</td>\n",
              "      <td>Mediana</td>\n",
              "      <td>No Especificado</td>\n",
              "      <td>Ninguno</td>\n",
              "      <td>FGE - Puebla</td>\n",
              "    </tr>\n",
              "    <tr>\n",
              "      <th>35899</th>\n",
              "      <td>2017</td>\n",
              "      <td>2017-08-22</td>\n",
              "      <td>04:00:00</td>\n",
              "      <td>251</td>\n",
              "      <td>Colima</td>\n",
              "      <td>Villa De Alvarez</td>\n",
              "      <td>Villa De Alvarez</td>\n",
              "      <td>19.25, -103.73333</td>\n",
              "      <td>Mexicana</td>\n",
              "      <td>Hombre</td>\n",
              "      <td>41</td>\n",
              "      <td>1.76</td>\n",
              "      <td>Robusta</td>\n",
              "      <td>Tatuaje En El Brazo Izquierdo Con La Imagen De...</td>\n",
              "      <td>Ninguno</td>\n",
              "      <td>PGJ - Colima</td>\n",
              "    </tr>\n",
              "    <tr>\n",
              "      <th>35900</th>\n",
              "      <td>2018</td>\n",
              "      <td>2018-04-11</td>\n",
              "      <td>02:00:00</td>\n",
              "      <td>19</td>\n",
              "      <td>Nuevo Leon</td>\n",
              "      <td>San Nicolas De Los Garza</td>\n",
              "      <td>San Nicolas De Los Garza</td>\n",
              "      <td>25.738505, -100.280753</td>\n",
              "      <td>Mexicana</td>\n",
              "      <td>Mujer</td>\n",
              "      <td>14</td>\n",
              "      <td>1.60</td>\n",
              "      <td>Delgada</td>\n",
              "      <td>No Especificado</td>\n",
              "      <td>Ninguno</td>\n",
              "      <td>PGJ - Nuevo Leon</td>\n",
              "    </tr>\n",
              "  </tbody>\n",
              "</table>\n",
              "<p>35901 rows × 16 columns</p>\n",
              "</div>\n",
              "      <button class=\"colab-df-convert\" onclick=\"convertToInteractive('df-75e6256c-50c2-4bb6-a74e-0a90a40cc59c')\"\n",
              "              title=\"Convert this dataframe to an interactive table.\"\n",
              "              style=\"display:none;\">\n",
              "        \n",
              "  <svg xmlns=\"http://www.w3.org/2000/svg\" height=\"24px\"viewBox=\"0 0 24 24\"\n",
              "       width=\"24px\">\n",
              "    <path d=\"M0 0h24v24H0V0z\" fill=\"none\"/>\n",
              "    <path d=\"M18.56 5.44l.94 2.06.94-2.06 2.06-.94-2.06-.94-.94-2.06-.94 2.06-2.06.94zm-11 1L8.5 8.5l.94-2.06 2.06-.94-2.06-.94L8.5 2.5l-.94 2.06-2.06.94zm10 10l.94 2.06.94-2.06 2.06-.94-2.06-.94-.94-2.06-.94 2.06-2.06.94z\"/><path d=\"M17.41 7.96l-1.37-1.37c-.4-.4-.92-.59-1.43-.59-.52 0-1.04.2-1.43.59L10.3 9.45l-7.72 7.72c-.78.78-.78 2.05 0 2.83L4 21.41c.39.39.9.59 1.41.59.51 0 1.02-.2 1.41-.59l7.78-7.78 2.81-2.81c.8-.78.8-2.07 0-2.86zM5.41 20L4 18.59l7.72-7.72 1.47 1.35L5.41 20z\"/>\n",
              "  </svg>\n",
              "      </button>\n",
              "      \n",
              "  <style>\n",
              "    .colab-df-container {\n",
              "      display:flex;\n",
              "      flex-wrap:wrap;\n",
              "      gap: 12px;\n",
              "    }\n",
              "\n",
              "    .colab-df-convert {\n",
              "      background-color: #E8F0FE;\n",
              "      border: none;\n",
              "      border-radius: 50%;\n",
              "      cursor: pointer;\n",
              "      display: none;\n",
              "      fill: #1967D2;\n",
              "      height: 32px;\n",
              "      padding: 0 0 0 0;\n",
              "      width: 32px;\n",
              "    }\n",
              "\n",
              "    .colab-df-convert:hover {\n",
              "      background-color: #E2EBFA;\n",
              "      box-shadow: 0px 1px 2px rgba(60, 64, 67, 0.3), 0px 1px 3px 1px rgba(60, 64, 67, 0.15);\n",
              "      fill: #174EA6;\n",
              "    }\n",
              "\n",
              "    [theme=dark] .colab-df-convert {\n",
              "      background-color: #3B4455;\n",
              "      fill: #D2E3FC;\n",
              "    }\n",
              "\n",
              "    [theme=dark] .colab-df-convert:hover {\n",
              "      background-color: #434B5C;\n",
              "      box-shadow: 0px 1px 3px 1px rgba(0, 0, 0, 0.15);\n",
              "      filter: drop-shadow(0px 1px 2px rgba(0, 0, 0, 0.3));\n",
              "      fill: #FFFFFF;\n",
              "    }\n",
              "  </style>\n",
              "\n",
              "      <script>\n",
              "        const buttonEl =\n",
              "          document.querySelector('#df-75e6256c-50c2-4bb6-a74e-0a90a40cc59c button.colab-df-convert');\n",
              "        buttonEl.style.display =\n",
              "          google.colab.kernel.accessAllowed ? 'block' : 'none';\n",
              "\n",
              "        async function convertToInteractive(key) {\n",
              "          const element = document.querySelector('#df-75e6256c-50c2-4bb6-a74e-0a90a40cc59c');\n",
              "          const dataTable =\n",
              "            await google.colab.kernel.invokeFunction('convertToInteractive',\n",
              "                                                     [key], {});\n",
              "          if (!dataTable) return;\n",
              "\n",
              "          const docLinkHtml = 'Like what you see? Visit the ' +\n",
              "            '<a target=\"_blank\" href=https://colab.research.google.com/notebooks/data_table.ipynb>data table notebook</a>'\n",
              "            + ' to learn more about interactive tables.';\n",
              "          element.innerHTML = '';\n",
              "          dataTable['output_type'] = 'display_data';\n",
              "          await google.colab.output.renderOutput(dataTable, element);\n",
              "          const docLink = document.createElement('div');\n",
              "          docLink.innerHTML = docLinkHtml;\n",
              "          element.appendChild(docLink);\n",
              "        }\n",
              "      </script>\n",
              "    </div>\n",
              "  </div>\n",
              "  "
            ]
          },
          "metadata": {},
          "execution_count": 3
        }
      ]
    },
    {
      "cell_type": "markdown",
      "source": [
        "Separamos nuestras variables categóricas y nuestras variables numéricas del dataset, para poder describir las variables numéricas más representantes de las personas desaparecidas en México."
      ],
      "metadata": {
        "id": "WwIkgDoOJ67B"
      }
    },
    {
      "cell_type": "code",
      "source": [
        "col_categoricas=[\"entidad\", \"municipio\", \"localidad\", \"nacionalidad\", \"sexo\", \"complexion\"]\n",
        "col_numericas=[\"dias_desaparecido\", \"edad\", \"estatura\"]\n",
        "desaparecido=[\"dias_desaperecido\"]\n",
        "df[col_numericas].describe().transpose()"
      ],
      "metadata": {
        "colab": {
          "base_uri": "https://localhost:8080/",
          "height": 143
        },
        "id": "G9PaiUj0N06i",
        "outputId": "4562c1e4-5ebd-48c7-b399-5e50d658df35"
      },
      "execution_count": 53,
      "outputs": [
        {
          "output_type": "execute_result",
          "data": {
            "text/plain": [
              "                     count         mean          std  min     25%      50%  \\\n",
              "dias_desaparecido  35901.0  1605.552269  1123.028395  1.0  647.00  1518.00   \n",
              "edad               35901.0    30.549929    14.370017  1.0   21.00    28.00   \n",
              "estatura           35901.0     1.639094     0.136044  0.3    1.62     1.64   \n",
              "\n",
              "                      75%       max  \n",
              "dias_desaparecido  2455.0  18166.00  \n",
              "edad                 38.0    103.00  \n",
              "estatura              1.7      2.04  "
            ],
            "text/html": [
              "\n",
              "  <div id=\"df-a288f35e-3896-4d81-99c3-db7da8f1cace\">\n",
              "    <div class=\"colab-df-container\">\n",
              "      <div>\n",
              "<style scoped>\n",
              "    .dataframe tbody tr th:only-of-type {\n",
              "        vertical-align: middle;\n",
              "    }\n",
              "\n",
              "    .dataframe tbody tr th {\n",
              "        vertical-align: top;\n",
              "    }\n",
              "\n",
              "    .dataframe thead th {\n",
              "        text-align: right;\n",
              "    }\n",
              "</style>\n",
              "<table border=\"1\" class=\"dataframe\">\n",
              "  <thead>\n",
              "    <tr style=\"text-align: right;\">\n",
              "      <th></th>\n",
              "      <th>count</th>\n",
              "      <th>mean</th>\n",
              "      <th>std</th>\n",
              "      <th>min</th>\n",
              "      <th>25%</th>\n",
              "      <th>50%</th>\n",
              "      <th>75%</th>\n",
              "      <th>max</th>\n",
              "    </tr>\n",
              "  </thead>\n",
              "  <tbody>\n",
              "    <tr>\n",
              "      <th>dias_desaparecido</th>\n",
              "      <td>35901.0</td>\n",
              "      <td>1605.552269</td>\n",
              "      <td>1123.028395</td>\n",
              "      <td>1.0</td>\n",
              "      <td>647.00</td>\n",
              "      <td>1518.00</td>\n",
              "      <td>2455.0</td>\n",
              "      <td>18166.00</td>\n",
              "    </tr>\n",
              "    <tr>\n",
              "      <th>edad</th>\n",
              "      <td>35901.0</td>\n",
              "      <td>30.549929</td>\n",
              "      <td>14.370017</td>\n",
              "      <td>1.0</td>\n",
              "      <td>21.00</td>\n",
              "      <td>28.00</td>\n",
              "      <td>38.0</td>\n",
              "      <td>103.00</td>\n",
              "    </tr>\n",
              "    <tr>\n",
              "      <th>estatura</th>\n",
              "      <td>35901.0</td>\n",
              "      <td>1.639094</td>\n",
              "      <td>0.136044</td>\n",
              "      <td>0.3</td>\n",
              "      <td>1.62</td>\n",
              "      <td>1.64</td>\n",
              "      <td>1.7</td>\n",
              "      <td>2.04</td>\n",
              "    </tr>\n",
              "  </tbody>\n",
              "</table>\n",
              "</div>\n",
              "      <button class=\"colab-df-convert\" onclick=\"convertToInteractive('df-a288f35e-3896-4d81-99c3-db7da8f1cace')\"\n",
              "              title=\"Convert this dataframe to an interactive table.\"\n",
              "              style=\"display:none;\">\n",
              "        \n",
              "  <svg xmlns=\"http://www.w3.org/2000/svg\" height=\"24px\"viewBox=\"0 0 24 24\"\n",
              "       width=\"24px\">\n",
              "    <path d=\"M0 0h24v24H0V0z\" fill=\"none\"/>\n",
              "    <path d=\"M18.56 5.44l.94 2.06.94-2.06 2.06-.94-2.06-.94-.94-2.06-.94 2.06-2.06.94zm-11 1L8.5 8.5l.94-2.06 2.06-.94-2.06-.94L8.5 2.5l-.94 2.06-2.06.94zm10 10l.94 2.06.94-2.06 2.06-.94-2.06-.94-.94-2.06-.94 2.06-2.06.94z\"/><path d=\"M17.41 7.96l-1.37-1.37c-.4-.4-.92-.59-1.43-.59-.52 0-1.04.2-1.43.59L10.3 9.45l-7.72 7.72c-.78.78-.78 2.05 0 2.83L4 21.41c.39.39.9.59 1.41.59.51 0 1.02-.2 1.41-.59l7.78-7.78 2.81-2.81c.8-.78.8-2.07 0-2.86zM5.41 20L4 18.59l7.72-7.72 1.47 1.35L5.41 20z\"/>\n",
              "  </svg>\n",
              "      </button>\n",
              "      \n",
              "  <style>\n",
              "    .colab-df-container {\n",
              "      display:flex;\n",
              "      flex-wrap:wrap;\n",
              "      gap: 12px;\n",
              "    }\n",
              "\n",
              "    .colab-df-convert {\n",
              "      background-color: #E8F0FE;\n",
              "      border: none;\n",
              "      border-radius: 50%;\n",
              "      cursor: pointer;\n",
              "      display: none;\n",
              "      fill: #1967D2;\n",
              "      height: 32px;\n",
              "      padding: 0 0 0 0;\n",
              "      width: 32px;\n",
              "    }\n",
              "\n",
              "    .colab-df-convert:hover {\n",
              "      background-color: #E2EBFA;\n",
              "      box-shadow: 0px 1px 2px rgba(60, 64, 67, 0.3), 0px 1px 3px 1px rgba(60, 64, 67, 0.15);\n",
              "      fill: #174EA6;\n",
              "    }\n",
              "\n",
              "    [theme=dark] .colab-df-convert {\n",
              "      background-color: #3B4455;\n",
              "      fill: #D2E3FC;\n",
              "    }\n",
              "\n",
              "    [theme=dark] .colab-df-convert:hover {\n",
              "      background-color: #434B5C;\n",
              "      box-shadow: 0px 1px 3px 1px rgba(0, 0, 0, 0.15);\n",
              "      filter: drop-shadow(0px 1px 2px rgba(0, 0, 0, 0.3));\n",
              "      fill: #FFFFFF;\n",
              "    }\n",
              "  </style>\n",
              "\n",
              "      <script>\n",
              "        const buttonEl =\n",
              "          document.querySelector('#df-a288f35e-3896-4d81-99c3-db7da8f1cace button.colab-df-convert');\n",
              "        buttonEl.style.display =\n",
              "          google.colab.kernel.accessAllowed ? 'block' : 'none';\n",
              "\n",
              "        async function convertToInteractive(key) {\n",
              "          const element = document.querySelector('#df-a288f35e-3896-4d81-99c3-db7da8f1cace');\n",
              "          const dataTable =\n",
              "            await google.colab.kernel.invokeFunction('convertToInteractive',\n",
              "                                                     [key], {});\n",
              "          if (!dataTable) return;\n",
              "\n",
              "          const docLinkHtml = 'Like what you see? Visit the ' +\n",
              "            '<a target=\"_blank\" href=https://colab.research.google.com/notebooks/data_table.ipynb>data table notebook</a>'\n",
              "            + ' to learn more about interactive tables.';\n",
              "          element.innerHTML = '';\n",
              "          dataTable['output_type'] = 'display_data';\n",
              "          await google.colab.output.renderOutput(dataTable, element);\n",
              "          const docLink = document.createElement('div');\n",
              "          docLink.innerHTML = docLinkHtml;\n",
              "          element.appendChild(docLink);\n",
              "        }\n",
              "      </script>\n",
              "    </div>\n",
              "  </div>\n",
              "  "
            ]
          },
          "metadata": {},
          "execution_count": 53
        }
      ]
    },
    {
      "cell_type": "markdown",
      "source": [
        "Con la descripción anterior se puede observa que el promedio de tiempo de las personas desaparecidas es de 4 años, la edad es de adultos jóvenes con 30 años de edad y una estatura de 1.63 metros."
      ],
      "metadata": {
        "id": "BXOAjnxZNFH9"
      }
    },
    {
      "cell_type": "markdown",
      "source": [
        "**¿En Mexico desaparecen mas o hombres o mujeres?**"
      ],
      "metadata": {
        "id": "07_WTDZGVcca"
      }
    },
    {
      "cell_type": "markdown",
      "source": [
        "Con respecto al aunmento de la violencia de género en la actualidad, se muestra que en el rango de tiempo del Dataset que comprende de 1968 a 2018 los sujetos masculinos son quienes desaparecieron mas "
      ],
      "metadata": {
        "id": "WTHTfig2KT8b"
      }
    },
    {
      "cell_type": "code",
      "source": [
        "counts=df[\"sexo\"].value_counts()\n",
        "sns.barplot(x=counts.index, y=counts)"
      ],
      "metadata": {
        "colab": {
          "base_uri": "https://localhost:8080/",
          "height": 283
        },
        "id": "DxaqHL2AStF7",
        "outputId": "2544fd8d-fe85-493f-83e0-2a6b65e22741"
      },
      "execution_count": 14,
      "outputs": [
        {
          "output_type": "execute_result",
          "data": {
            "text/plain": [
              "<matplotlib.axes._subplots.AxesSubplot at 0x7fe9d16c5690>"
            ]
          },
          "metadata": {},
          "execution_count": 14
        },
        {
          "output_type": "display_data",
          "data": {
            "text/plain": [
              "<Figure size 432x288 with 1 Axes>"
            ],
            "image/png": "[encoded data removed]"
          },
          "metadata": {
            "needs_background": "light"
          }
        }
      ]
    },
    {
      "cell_type": "markdown",
      "source": [
        "**¿Que tipo de complexión tienen las personas desaparecidas?**\n",
        "\n"
      ],
      "metadata": {
        "id": "_eERPqrraiYx"
      }
    },
    {
      "cell_type": "markdown",
      "source": [
        "Otro dato estadistico que resultó interesante con respecto a que  México es un pais de obesos, es que la mayoria de las personas desaparecidas tienen una complexión delgada  "
      ],
      "metadata": {
        "id": "NMfYNNFYLbmI"
      }
    },
    {
      "cell_type": "code",
      "source": [
        "counts2=df[\"complexion\"].value_counts()\n",
        "sns.barplot(x=counts2.index, y=counts2)"
      ],
      "metadata": {
        "colab": {
          "base_uri": "https://localhost:8080/",
          "height": 283
        },
        "id": "rEnx7-IEaNT0",
        "outputId": "8b8440dc-da43-42a1-e8bb-29eec30891fd"
      },
      "execution_count": 16,
      "outputs": [
        {
          "output_type": "execute_result",
          "data": {
            "text/plain": [
              "<matplotlib.axes._subplots.AxesSubplot at 0x7fe9d1696b50>"
            ]
          },
          "metadata": {},
          "execution_count": 16
        },
        {
          "output_type": "display_data",
          "data": {
            "text/plain": [
              "<Figure size 432x288 with 1 Axes>"
            ],
            "image/png": "[encoded data removed]"
          },
          "metadata": {
            "needs_background": "light"
          }
        }
      ]
    },
    {
      "cell_type": "markdown",
      "source": [
        "**La estatura promedio del mexicano**"
      ],
      "metadata": {
        "id": "7wqkNAWPyOEr"
      }
    },
    {
      "cell_type": "markdown",
      "source": [
        "por medio de bootstrapping comprobaremos la \"estatura promedio del mexicano\" en el set de datos de personas desaparecidas "
      ],
      "metadata": {
        "id": "SZ_1zK5AxdC2"
      }
    },
    {
      "cell_type": "code",
      "source": [
        "altura = df['estatura']\n",
        "\n",
        "medias = []\n",
        "\n",
        "for i in range(100_000):\n",
        "    sample = altura.sample(n=50, replace=True)\n",
        "    medias.append(sample.mean())\n",
        "    \n",
        "media_alturas = pd.Series(medias)\n",
        "\n",
        "sns.displot(media_alturas);"
      ],
      "metadata": {
        "colab": {
          "base_uri": "https://localhost:8080/",
          "height": 369
        },
        "id": "o3NlPC0UqpnO",
        "outputId": "59bc3dd2-094c-45b7-891e-ddf04414491d"
      },
      "execution_count": 41,
      "outputs": [
        {
          "output_type": "display_data",
          "data": {
            "text/plain": [
              "<Figure size 360x360 with 1 Axes>"
            ],
            "image/png": "[encoded data removed]"
          },
          "metadata": {
            "needs_background": "light"
          }
        }
      ]
    },
    {
      "cell_type": "code",
      "source": [
        "Kurtosis= {round(media_alturas.kurtosis(),95)}\n",
        "Kurtosis"
      ],
      "metadata": {
        "colab": {
          "base_uri": "https://localhost:8080/"
        },
        "id": "iULSIdcq5CuT",
        "outputId": "a82222a9-9e03-4d09-8b95-443e2ec33c0e"
      },
      "execution_count": 51,
      "outputs": [
        {
          "output_type": "execute_result",
          "data": {
            "text/plain": [
              "{0.44515521947474884}"
            ]
          },
          "metadata": {},
          "execution_count": 51
        }
      ]
    },
    {
      "cell_type": "markdown",
      "source": [
        "Efectivamente lo anterior nos demuestra que \"la estatura promedio\" del mexicano comprende alrededor de 1.65 m una curtosis positiva de 0.44."
      ],
      "metadata": {
        "id": "M8C3o3thPRrp"
      }
    },
    {
      "cell_type": "markdown",
      "source": [
        "**El error estandar de nuesto campo de estatura**"
      ],
      "metadata": {
        "id": "vETQOd3Qtjtb"
      }
    },
    {
      "cell_type": "code",
      "source": [
        "print(f'Error estandar: {media_alturas.std()}')"
      ],
      "metadata": {
        "colab": {
          "base_uri": "https://localhost:8080/"
        },
        "id": "c_tjBu-vtXmY",
        "outputId": "e1777227-f16d-4672-dac0-5307cc42d18b"
      },
      "execution_count": 42,
      "outputs": [
        {
          "output_type": "stream",
          "name": "stdout",
          "text": [
            "Error estandar: 0.019273847748855304\n"
          ]
        }
      ]
    },
    {
      "cell_type": "code",
      "source": [
        "print(f'Valor mínimo: {media_alturas.min()}')\n",
        "print(f'Valor máximo: {media_alturas.max()}')\n",
        "print(f'Rango: {media_alturas.max() - media_alturas.min()}')"
      ],
      "metadata": {
        "colab": {
          "base_uri": "https://localhost:8080/"
        },
        "id": "MOQvvG40tiIE",
        "outputId": "1994c99e-96c7-46ae-ab26-ff090fb307a5"
      },
      "execution_count": 43,
      "outputs": [
        {
          "output_type": "stream",
          "name": "stdout",
          "text": [
            "Valor mínimo: 1.516\n",
            "Valor máximo: 1.7012\n",
            "Rango: 0.18520000000000003\n"
          ]
        }
      ]
    },
    {
      "cell_type": "code",
      "source": [
        "sns.boxplot(x=media_alturas);"
      ],
      "metadata": {
        "colab": {
          "base_uri": "https://localhost:8080/",
          "height": 265
        },
        "id": "lyFTz4louEBE",
        "outputId": "98a10b36-4f90-4960-fdec-4caf6d4e2b38"
      },
      "execution_count": 44,
      "outputs": [
        {
          "output_type": "display_data",
          "data": {
            "text/plain": [
              "<Figure size 432x288 with 1 Axes>"
            ],
            "image/png": "[encoded data removed]"
          },
          "metadata": {
            "needs_background": "light"
          }
        }
      ]
    },
    {
      "cell_type": "markdown",
      "source": [
        "**Intervalo de confianza**"
      ],
      "metadata": {
        "id": "HU6LlOfrwlEs"
      }
    },
    {
      "cell_type": "markdown",
      "source": [
        "Utilizando un intervalo de confianza de 95 %"
      ],
      "metadata": {
        "id": "4abfRm97yVnn"
      }
    },
    {
      "cell_type": "code",
      "source": [
        "limite_inferior = media_alturas.quantile(0.025)\n",
        "limite_superior = media_alturas.quantile(0.975)"
      ],
      "metadata": {
        "id": "dj54W8XpvdYr"
      },
      "execution_count": 45,
      "outputs": []
    },
    {
      "cell_type": "code",
      "source": [
        "mean_of_intervals = ((altura.mean() - limite_inferior) + (limite_superior - altura.mean())) / 2\n",
        "\n",
        "print(f'Intervalo de 95% confianza de la media: {altura.mean()} +/- {mean_of_intervals}')"
      ],
      "metadata": {
        "colab": {
          "base_uri": "https://localhost:8080/"
        },
        "id": "S8i0Hr8Bv1B3",
        "outputId": "444f98bc-548f-4101-f0e4-5527b511ffb8"
      },
      "execution_count": 39,
      "outputs": [
        {
          "output_type": "stream",
          "name": "stdout",
          "text": [
            "Intervalo de 95% confianza de la media: 1.6390941756497033 +/- 0.03749999999999998\n"
          ]
        }
      ]
    },
    {
      "cell_type": "code",
      "source": [
        "sns.displot(media_alturas, kde=False)\n",
        "plt.axvline(limite_inferior)\n",
        "plt.axvline(limite_superior);\n",
        "\n",
        "\n"
      ],
      "metadata": {
        "colab": {
          "base_uri": "https://localhost:8080/",
          "height": 369
        },
        "id": "dfGmLUPlwZZb",
        "outputId": "072c6328-407a-44a3-d9a8-3e4d524106f6"
      },
      "execution_count": 46,
      "outputs": [
        {
          "output_type": "display_data",
          "data": {
            "text/plain": [
              "<Figure size 360x360 with 1 Axes>"
            ],
            "image/png": "[encoded data removed]"
          },
          "metadata": {
            "needs_background": "light"
          }
        }
      ]
    },
    {
      "cell_type": "markdown",
      "source": [
        "Con esto se comprobó que la mayoria de las estaturas de las personas desaparecidas si cae en en este nuevo intervalo"
      ],
      "metadata": {
        "id": "A6-dYEktaSSS"
      }
    }
  ]
}