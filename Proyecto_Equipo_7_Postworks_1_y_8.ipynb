{
  "nbformat": 4,
  "nbformat_minor": 0,
  "metadata": {
    "colab": {
      "provenance": [],
      "collapsed_sections": [],
      "authorship_tag": "ABX9TyOKboDiUBrF6sv3/6x5OFIm",
      "include_colab_link": true
    },
    "kernelspec": {
      "name": "python3",
      "display_name": "Python 3"
    },
    "language_info": {
      "name": "python"
    }
  },
  "cells": [
    {
      "cell_type": "markdown",
      "metadata": {
        "id": "view-in-github",
        "colab_type": "text"
      },
      "source": [
        "<a href=\"https://colab.research.google.com/github/MinervaNunez/Proyecto-_Fase3_Python/blob/rama-mateo/Proyecto_Equipo_7_Postworks_1_y_8.ipynb\" target=\"_parent\"><img src=\"https://colab.research.google.com/assets/colab-badge.svg\" alt=\"Open In Colab\"/></a>"
      ]
    },
    {
      "cell_type": "markdown",
      "source": [
        "# Estimados de Locación y Variabilidad"
      ],
      "metadata": {
        "id": "xriwF5y9p1N4"
      }
    },
    {
      "cell_type": "code",
      "execution_count": 125,
      "metadata": {
        "id": "HmMtG1wL3y3k"
      },
      "outputs": [],
      "source": [
        "####   ========== Estimados de Locación y Variabilidad ========== ####\n",
        "import pandas as pd\n",
        "from scipy import stats\n",
        "\n",
        "# Leemos el archivo con los datos procesados que se obtuvo del proyecto anterior\n",
        "raw = pd.read_csv('https://raw.githubusercontent.com/MinervaNunez/Proyecto-_Fase3_Python/rama-mateo/RNPEDFC_Final.csv', encoding='ISO-8859-1')\n",
        "\n",
        "# Guardamos los datos en formato CSV para leerlos con la librería pandas y crear un DataFrame\n",
        "raw.to_csv('RNPEDFC.csv', index=False, encoding='ISO-8859-1')\n",
        "df = pd.read_csv('RNPEDFC.csv', encoding='ISO-8859-1')"
      ]
    },
    {
      "cell_type": "code",
      "source": [
        "# Listamos los nombres de las columnas del DataFrame\n",
        "df.columns"
      ],
      "metadata": {
        "colab": {
          "base_uri": "https://localhost:8080/"
        },
        "id": "QALT_Iqw5lbD",
        "outputId": "79446b99-d695-4e80-e8ec-ce4d35aa3e80"
      },
      "execution_count": 126,
      "outputs": [
        {
          "output_type": "execute_result",
          "data": {
            "text/plain": [
              "Index(['anio', 'fecha', 'hora', 'dias_desaparecido', 'entidad', 'municipio',\n",
              "       'localidad', 'coordenadas', 'nacionalidad', 'sexo', 'edad', 'estatura',\n",
              "       'complexion', 'senas_particulares', 'discapacidad',\n",
              "       'dependecia_origen'],\n",
              "      dtype='object')"
            ]
          },
          "metadata": {},
          "execution_count": 126
        }
      ]
    },
    {
      "cell_type": "code",
      "source": [
        "# Mostramos los tipos de datos de las columnas del DataFrame\n",
        "df.dtypes"
      ],
      "metadata": {
        "colab": {
          "base_uri": "https://localhost:8080/"
        },
        "id": "he9dA1b25lyz",
        "outputId": "158bf8ad-7132-458a-8fcd-915c7ff2b603"
      },
      "execution_count": 127,
      "outputs": [
        {
          "output_type": "execute_result",
          "data": {
            "text/plain": [
              "anio                    int64\n",
              "fecha                  object\n",
              "hora                   object\n",
              "dias_desaparecido       int64\n",
              "entidad                object\n",
              "municipio              object\n",
              "localidad              object\n",
              "coordenadas            object\n",
              "nacionalidad           object\n",
              "sexo                   object\n",
              "edad                    int64\n",
              "estatura              float64\n",
              "complexion             object\n",
              "senas_particulares     object\n",
              "discapacidad           object\n",
              "dependecia_origen      object\n",
              "dtype: object"
            ]
          },
          "metadata": {},
          "execution_count": 127
        }
      ]
    },
    {
      "cell_type": "code",
      "source": [
        "# Identifica las columnas de tu dataset que tengan datos numéricos.\n",
        "# Se observa que las columnas: año, fecha, hora, dias_desaparecido, coordenadas, edad, estatura son de tipo numérico, \n",
        "# sin embargo pandas reconoce como númericas solo año, dias_desaparecido, edad y estatura."
      ],
      "metadata": {
        "id": "-UEX6Yhc6Ibw"
      },
      "execution_count": 128,
      "outputs": []
    },
    {
      "cell_type": "code",
      "source": [
        "# Convertimos la columna 'fecha' a tipo de datos datetime\n",
        "df['fecha']= pd.to_datetime(df['fecha'])"
      ],
      "metadata": {
        "id": "xJtYvxfl6aoW"
      },
      "execution_count": 129,
      "outputs": []
    },
    {
      "cell_type": "markdown",
      "source": [
        "# Calcular los estimados de locación\n",
        "*   Promedio\n",
        "*   Mediana\n",
        "*   Media Truncada"
      ],
      "metadata": {
        "id": "ghtIP07Z99bc"
      }
    },
    {
      "cell_type": "code",
      "source": [
        "# Calcular los estimados de locación\n",
        "# Promedio\n",
        "# Mediana\n",
        "# Media Truncada\n",
        "\n",
        "anios = df['anio']\n",
        "media = round(anios.mean())\n",
        "mediana = round(anios.median())\n",
        "media_truncada = round(stats.trim_mean(anios, 0.05))\n",
        "print(f'Del valor año: \\nEl promedio es {media}, \\nLa media truncada un 10% es {media_truncada} y \\nLa mediana es {mediana}')\n",
        "\n",
        "dias_desaparecido = df['dias_desaparecido']\n",
        "media = round(dias_desaparecido.mean())\n",
        "mediana = round(df['dias_desaparecido'].median())\n",
        "media_truncada = round(stats.trim_mean(df['dias_desaparecido'], 0.05))\n",
        "print(f'\\nDel valor Días Desaparecido: \\nEl promedio es {media}, \\nLa media truncada un 10%  es {media_truncada} y \\nLa mediana es {mediana}')\n",
        "\n",
        "edades = df['edad']\n",
        "media = round(edades.mean())\n",
        "mediana = round(edades.median())\n",
        "media_truncada = round(stats.trim_mean(edades, 0.05))\n",
        "print(f'\\nDel valor Edad: \\nEl promedio es {media}, \\nLa media truncada un 10%  es {media_truncada} y \\nLa mediana es {mediana}')\n",
        "\n",
        "estaturas = df['estatura']\n",
        "media = round(estaturas.mean(), 2)\n",
        "mediana = round(estaturas.median(), 2)\n",
        "media_truncada = round(stats.trim_mean(estaturas, 0.05), 2)\n",
        "print(f'\\nDel valor Estatura: \\nEl promedio es {media}, \\nLa media truncada un 10% es {media_truncada} y \\nLa mediana es {mediana}')\n",
        "       "
      ],
      "metadata": {
        "colab": {
          "base_uri": "https://localhost:8080/"
        },
        "id": "4TIzxGKA9uec",
        "outputId": "7ad5ce80-7f3b-481d-8ac1-2fc71994d380"
      },
      "execution_count": 130,
      "outputs": [
        {
          "output_type": "stream",
          "name": "stdout",
          "text": [
            "Del valor año: \n",
            "El promedio es 2013, \n",
            "La media truncada un 10% es 2014 y \n",
            "La mediana es 2014\n",
            "\n",
            "Del valor Días Desaparecido: \n",
            "El promedio es 1606, \n",
            "La media truncada un 10%  es 1553 y \n",
            "La mediana es 1518\n",
            "\n",
            "Del valor Edad: \n",
            "El promedio es 31, \n",
            "La media truncada un 10%  es 30 y \n",
            "La mediana es 28\n",
            "\n",
            "Del valor Estatura: \n",
            "El promedio es 1.64, \n",
            "La media truncada un 10% es 1.65 y \n",
            "La mediana es 1.64\n"
          ]
        }
      ]
    },
    {
      "cell_type": "markdown",
      "source": [
        "# Calcular los estimados de variabilidad\n",
        "\n",
        "*   Desviación estándar\n",
        "*   Rango\n",
        "*   Percentiles 25 y 75\n",
        "*   Rango intercuartil"
      ],
      "metadata": {
        "id": "5CxtfbEahOh3"
      }
    },
    {
      "cell_type": "code",
      "source": [
        "# Calcular los estimados de variabilidad\n",
        "# Desviación estándar\n",
        "# Rango\n",
        "# Percentiles 25 y 75 (por lo menos)\n",
        "# Rango intercuartil\n",
        "\n",
        "anios = df['anio']\n",
        "dias_desaparecido = df['dias_desaparecido']\n",
        "edades = df['edad']\n",
        "estaturas = df['estatura']\n",
        "\n",
        "desviacion_estandar = round(anios.std(), 2)\n",
        "rango = max(anios) - min(anios)\n",
        "percentil_0 = anios.quantile(0)\n",
        "percentil_10 = anios.quantile(0.1)\n",
        "percentil_25 = anios.quantile(0.25)\n",
        "percentil_50 = anios.quantile(0.5)\n",
        "percentil_75 = anios.quantile(0.75)\n",
        "rango_intercuartil = percentil_75 - percentil_25\n",
        "\n",
        "print(f'\\nLa desviación estandar del valor Año es: {desviacion_estandar}')\n",
        "print(f'El rango del valor Año es: {rango}')\n",
        "print(f'Percentil 0: {percentil_0}')\n",
        "print(f'Percentil 10: {percentil_10}')\n",
        "print(f'Percentil 25: {percentil_25}')\n",
        "print(f'Percentil 50: {percentil_50}')\n",
        "print(f'Percentil 75: {percentil_75}')\n",
        "print(f'El rango intercuartilíco del valor Año es: {rango_intercuartil}')\n",
        "\n",
        "desviacion_estandar = round(dias_desaparecido.std(), 2)\n",
        "rango = max(dias_desaparecido) - min(dias_desaparecido)\n",
        "percentil_0 = dias_desaparecido.quantile(0)\n",
        "percentil_10 = dias_desaparecido.quantile(0.1)\n",
        "percentil_25 = dias_desaparecido.quantile(0.25)\n",
        "percentil_50 = dias_desaparecido.quantile(0.5)\n",
        "percentil_75 = dias_desaparecido.quantile(0.75)\n",
        "rango_intercuartil = percentil_75 - percentil_25\n",
        "\n",
        "print(f'\\nLa desviación estandar del valor Días Desaparecido es: {desviacion_estandar}')\n",
        "print(f'El rango del valor Días Desaparecido es: {rango}')\n",
        "print(f'Percentil 0: {percentil_0}')\n",
        "print(f'Percentil 10: {percentil_10}')\n",
        "print(f'Percentil 25: {percentil_25}')\n",
        "print(f'Percentil 50: {percentil_50}')\n",
        "print(f'Percentil 75: {percentil_75}')\n",
        "print(f'El rango intercuartilíco del valor Días Desaparecido es: {rango_intercuartil}')\n",
        "\n",
        "desviacion_estandar = round(edades.std(), 2)\n",
        "rango = max(edades) - min(edades)\n",
        "percentil_0 = edades.quantile(0)\n",
        "percentil_10 = edades.quantile(0.1)\n",
        "percentil_25 = edades.quantile(0.25)\n",
        "percentil_50 = edades.quantile(0.5)\n",
        "percentil_75 = edades.quantile(0.75)\n",
        "rango_intercuartil = percentil_75 - percentil_25\n",
        "\n",
        "print(f'\\nLa desviación estandar del valor Edad es: {desviacion_estandar}')\n",
        "print(f'El rango del valor Edad es: {rango}')\n",
        "print(f'Percentil 0: {percentil_0}')\n",
        "print(f'Percentil 10: {percentil_10}')\n",
        "print(f'Percentil 25: {percentil_25}')\n",
        "print(f'Percentil 50: {percentil_50}')\n",
        "print(f'Percentil 75: {percentil_75}')\n",
        "print(f'El rango intercuartilíco del valor Edad es: {rango_intercuartil}')\n",
        "\n",
        "desviacion_estandar = round(estaturas.std(), 2)\n",
        "rango = max(estaturas) - min(estaturas)\n",
        "percentil_0 = estaturas.quantile(0)\n",
        "percentil_10 = estaturas.quantile(0.1)\n",
        "percentil_25 = estaturas.quantile(0.25)\n",
        "percentil_50 = estaturas.quantile(0.5)\n",
        "percentil_75 = estaturas.quantile(0.75)\n",
        "rango_intercuartil = percentil_75 - percentil_25\n",
        "\n",
        "print(f'\\nLa desviación estandar del valor Estatura es: {desviacion_estandar}')\n",
        "print(f'El rango del valor Estatura es: {rango}')\n",
        "print(f'Percentil 0: {percentil_0}')\n",
        "print(f'Percentil 10: {percentil_10}')\n",
        "print(f'Percentil 25: {percentil_25}')\n",
        "print(f'Percentil 50: {percentil_50}')\n",
        "print(f'Percentil 75: {percentil_75}')\n",
        "print(f'El rango intercuartilíco del valor Estatura es: {rango_intercuartil}')\n"
      ],
      "metadata": {
        "colab": {
          "base_uri": "https://localhost:8080/"
        },
        "id": "hP5mD8p2hYXa",
        "outputId": "80b6a39f-0fb6-43dc-cbce-cb240a85c0ab"
      },
      "execution_count": 131,
      "outputs": [
        {
          "output_type": "stream",
          "name": "stdout",
          "text": [
            "\n",
            "La desviación estandar del valor Año es: 3.08\n",
            "El rango del valor Año es: 50\n",
            "Percentil 0: 1968.0\n",
            "Percentil 10: 2010.0\n",
            "Percentil 25: 2011.0\n",
            "Percentil 50: 2014.0\n",
            "Percentil 75: 2016.0\n",
            "El rango intercuartilíco del valor Año es: 5.0\n",
            "\n",
            "La desviación estandar del valor Días Desaparecido es: 1123.03\n",
            "El rango del valor Días Desaparecido es: 18165\n",
            "Percentil 0: 1.0\n",
            "Percentil 10: 257.0\n",
            "Percentil 25: 647.0\n",
            "Percentil 50: 1518.0\n",
            "Percentil 75: 2455.0\n",
            "El rango intercuartilíco del valor Días Desaparecido es: 1808.0\n",
            "\n",
            "La desviación estandar del valor Edad es: 14.37\n",
            "El rango del valor Edad es: 102\n",
            "Percentil 0: 1.0\n",
            "Percentil 10: 15.0\n",
            "Percentil 25: 21.0\n",
            "Percentil 50: 28.0\n",
            "Percentil 75: 38.0\n",
            "El rango intercuartilíco del valor Edad es: 17.0\n",
            "\n",
            "La desviación estandar del valor Estatura es: 0.14\n",
            "El rango del valor Estatura es: 1.74\n",
            "Percentil 0: 0.3\n",
            "Percentil 10: 1.55\n",
            "Percentil 25: 1.62\n",
            "Percentil 50: 1.64\n",
            "Percentil 75: 1.7\n",
            "El rango intercuartilíco del valor Estatura es: 0.07999999999999985\n"
          ]
        }
      ]
    },
    {
      "cell_type": "markdown",
      "source": [
        "# Machine Learning, Clasificación Supervisada"
      ],
      "metadata": {
        "id": "LiWALzF6p8yV"
      }
    },
    {
      "cell_type": "code",
      "source": [
        "####   ========== Introducción a Machine Learning: Clasificación No Supervisada y Supervisada ========== ####\n",
        "from sklearn.linear_model import LogisticRegression\n",
        "from sklearn.model_selection import train_test_split"
      ],
      "metadata": {
        "id": "xOZmyNMMWN6i"
      },
      "execution_count": 132,
      "outputs": []
    },
    {
      "cell_type": "markdown",
      "source": [
        "Identificamos que en el conjunto de datos existe una variable dicotómica: sexo\n",
        "Vamos a buscar un modelo para predecir el género (sexo) de la persona a partir de variables independientes como entidad, edad, estatura y complexión.\n",
        "\n",
        "Sustituiremos los valores de las variables categóricas por números de un catálogo generado con los valores únicos de cada variable\n"
      ],
      "metadata": {
        "id": "R1Yw4ZGUXRFc"
      }
    },
    {
      "cell_type": "code",
      "source": [
        "# Identificar los valores posibles de la variable 'sexo'\n",
        "df['sexo'].unique()"
      ],
      "metadata": {
        "colab": {
          "base_uri": "https://localhost:8080/"
        },
        "id": "4ndne21EXpms",
        "outputId": "b51c1bbe-765b-404e-9e92-f47901160999"
      },
      "execution_count": 133,
      "outputs": [
        {
          "output_type": "execute_result",
          "data": {
            "text/plain": [
              "array(['Mujer', 'Hombre'], dtype=object)"
            ]
          },
          "metadata": {},
          "execution_count": 133
        }
      ]
    },
    {
      "cell_type": "code",
      "source": [
        "# Sustituir los valores dicotómicos Mujer, Hombre por un valor numérico 0 y 1 respectivamente\n",
        "df['sexo'] = df['sexo'].apply(lambda x: 0 if x == 'Mujer' else 1)\n",
        "df.head()"
      ],
      "metadata": {
        "colab": {
          "base_uri": "https://localhost:8080/",
          "height": 444
        },
        "id": "CU_U_yksXyv2",
        "outputId": "d1db68ce-3fdc-49f2-9cd7-2c209798b40f"
      },
      "execution_count": 134,
      "outputs": [
        {
          "output_type": "execute_result",
          "data": {
            "text/plain": [
              "   anio      fecha      hora  dias_desaparecido           entidad  \\\n",
              "0  2012 2012-03-18  05:00:00               2234            Sonora   \n",
              "1  2007 2007-02-05  02:00:26               4102  Estado De Mexico   \n",
              "2  2009 2009-03-14  08:30:54               3334  Estado De Mexico   \n",
              "3  2006 2006-12-23  08:00:28               4146  Estado De Mexico   \n",
              "4  2008 2008-01-11  12:00:17               3762  Estado De Mexico   \n",
              "\n",
              "             municipio            localidad             coordenadas  \\\n",
              "0              Navojoa              Navojoa  27.069053, -109.439423   \n",
              "1       Valle De Bravo       Valle De Bravo   19.16368, -100.134684   \n",
              "2               Chalco               Chalco     19.266337, -98.8978   \n",
              "3  Tlalnepantla De Baz  Tlalnepantla De Baz   19.547512, -99.193851   \n",
              "4               Toluca               Toluca        18.078, -91.6552   \n",
              "\n",
              "  nacionalidad  sexo  edad  estatura complexion  \\\n",
              "0     Mexicana     0     7       1.1    Delgada   \n",
              "1     Mexicana     0     4       1.1    Delgada   \n",
              "2     Mexicana     1     6       1.1    Delgada   \n",
              "3     Mexicana     1    10       1.1    Delgada   \n",
              "4     Mexicana     1     4       1.1    Delgada   \n",
              "\n",
              "                                  senas_particulares discapacidad  \\\n",
              "0  Tiene Una Cicatriz En La Rodilla Izquierda Por...      Ninguno   \n",
              "1                                    No Especificado      Ninguno   \n",
              "2  Manchas, Parte Superior De Pierna Derecha, Cic...      Ninguno   \n",
              "3  Lunares, A La Altura De La Cinturaforma De Man...      Ninguno   \n",
              "4                                    No Especificado      Ninguno   \n",
              "\n",
              "        dependecia_origen  \n",
              "0            FGE - Sonora  \n",
              "1  FGJ - Estado De Mexico  \n",
              "2  FGJ - Estado De Mexico  \n",
              "3  FGJ - Estado De Mexico  \n",
              "4  FGJ - Estado De Mexico  "
            ],
            "text/html": [
              "\n",
              "  <div id=\"df-52f36c6a-0376-4149-9503-c125e9f8b8f6\">\n",
              "    <div class=\"colab-df-container\">\n",
              "      <div>\n",
              "<style scoped>\n",
              "    .dataframe tbody tr th:only-of-type {\n",
              "        vertical-align: middle;\n",
              "    }\n",
              "\n",
              "    .dataframe tbody tr th {\n",
              "        vertical-align: top;\n",
              "    }\n",
              "\n",
              "    .dataframe thead th {\n",
              "        text-align: right;\n",
              "    }\n",
              "</style>\n",
              "<table border=\"1\" class=\"dataframe\">\n",
              "  <thead>\n",
              "    <tr style=\"text-align: right;\">\n",
              "      <th></th>\n",
              "      <th>anio</th>\n",
              "      <th>fecha</th>\n",
              "      <th>hora</th>\n",
              "      <th>dias_desaparecido</th>\n",
              "      <th>entidad</th>\n",
              "      <th>municipio</th>\n",
              "      <th>localidad</th>\n",
              "      <th>coordenadas</th>\n",
              "      <th>nacionalidad</th>\n",
              "      <th>sexo</th>\n",
              "      <th>edad</th>\n",
              "      <th>estatura</th>\n",
              "      <th>complexion</th>\n",
              "      <th>senas_particulares</th>\n",
              "      <th>discapacidad</th>\n",
              "      <th>dependecia_origen</th>\n",
              "    </tr>\n",
              "  </thead>\n",
              "  <tbody>\n",
              "    <tr>\n",
              "      <th>0</th>\n",
              "      <td>2012</td>\n",
              "      <td>2012-03-18</td>\n",
              "      <td>05:00:00</td>\n",
              "      <td>2234</td>\n",
              "      <td>Sonora</td>\n",
              "      <td>Navojoa</td>\n",
              "      <td>Navojoa</td>\n",
              "      <td>27.069053, -109.439423</td>\n",
              "      <td>Mexicana</td>\n",
              "      <td>0</td>\n",
              "      <td>7</td>\n",
              "      <td>1.1</td>\n",
              "      <td>Delgada</td>\n",
              "      <td>Tiene Una Cicatriz En La Rodilla Izquierda Por...</td>\n",
              "      <td>Ninguno</td>\n",
              "      <td>FGE - Sonora</td>\n",
              "    </tr>\n",
              "    <tr>\n",
              "      <th>1</th>\n",
              "      <td>2007</td>\n",
              "      <td>2007-02-05</td>\n",
              "      <td>02:00:26</td>\n",
              "      <td>4102</td>\n",
              "      <td>Estado De Mexico</td>\n",
              "      <td>Valle De Bravo</td>\n",
              "      <td>Valle De Bravo</td>\n",
              "      <td>19.16368, -100.134684</td>\n",
              "      <td>Mexicana</td>\n",
              "      <td>0</td>\n",
              "      <td>4</td>\n",
              "      <td>1.1</td>\n",
              "      <td>Delgada</td>\n",
              "      <td>No Especificado</td>\n",
              "      <td>Ninguno</td>\n",
              "      <td>FGJ - Estado De Mexico</td>\n",
              "    </tr>\n",
              "    <tr>\n",
              "      <th>2</th>\n",
              "      <td>2009</td>\n",
              "      <td>2009-03-14</td>\n",
              "      <td>08:30:54</td>\n",
              "      <td>3334</td>\n",
              "      <td>Estado De Mexico</td>\n",
              "      <td>Chalco</td>\n",
              "      <td>Chalco</td>\n",
              "      <td>19.266337, -98.8978</td>\n",
              "      <td>Mexicana</td>\n",
              "      <td>1</td>\n",
              "      <td>6</td>\n",
              "      <td>1.1</td>\n",
              "      <td>Delgada</td>\n",
              "      <td>Manchas, Parte Superior De Pierna Derecha, Cic...</td>\n",
              "      <td>Ninguno</td>\n",
              "      <td>FGJ - Estado De Mexico</td>\n",
              "    </tr>\n",
              "    <tr>\n",
              "      <th>3</th>\n",
              "      <td>2006</td>\n",
              "      <td>2006-12-23</td>\n",
              "      <td>08:00:28</td>\n",
              "      <td>4146</td>\n",
              "      <td>Estado De Mexico</td>\n",
              "      <td>Tlalnepantla De Baz</td>\n",
              "      <td>Tlalnepantla De Baz</td>\n",
              "      <td>19.547512, -99.193851</td>\n",
              "      <td>Mexicana</td>\n",
              "      <td>1</td>\n",
              "      <td>10</td>\n",
              "      <td>1.1</td>\n",
              "      <td>Delgada</td>\n",
              "      <td>Lunares, A La Altura De La Cinturaforma De Man...</td>\n",
              "      <td>Ninguno</td>\n",
              "      <td>FGJ - Estado De Mexico</td>\n",
              "    </tr>\n",
              "    <tr>\n",
              "      <th>4</th>\n",
              "      <td>2008</td>\n",
              "      <td>2008-01-11</td>\n",
              "      <td>12:00:17</td>\n",
              "      <td>3762</td>\n",
              "      <td>Estado De Mexico</td>\n",
              "      <td>Toluca</td>\n",
              "      <td>Toluca</td>\n",
              "      <td>18.078, -91.6552</td>\n",
              "      <td>Mexicana</td>\n",
              "      <td>1</td>\n",
              "      <td>4</td>\n",
              "      <td>1.1</td>\n",
              "      <td>Delgada</td>\n",
              "      <td>No Especificado</td>\n",
              "      <td>Ninguno</td>\n",
              "      <td>FGJ - Estado De Mexico</td>\n",
              "    </tr>\n",
              "  </tbody>\n",
              "</table>\n",
              "</div>\n",
              "      <button class=\"colab-df-convert\" onclick=\"convertToInteractive('df-52f36c6a-0376-4149-9503-c125e9f8b8f6')\"\n",
              "              title=\"Convert this dataframe to an interactive table.\"\n",
              "              style=\"display:none;\">\n",
              "        \n",
              "  <svg xmlns=\"http://www.w3.org/2000/svg\" height=\"24px\"viewBox=\"0 0 24 24\"\n",
              "       width=\"24px\">\n",
              "    <path d=\"M0 0h24v24H0V0z\" fill=\"none\"/>\n",
              "    <path d=\"M18.56 5.44l.94 2.06.94-2.06 2.06-.94-2.06-.94-.94-2.06-.94 2.06-2.06.94zm-11 1L8.5 8.5l.94-2.06 2.06-.94-2.06-.94L8.5 2.5l-.94 2.06-2.06.94zm10 10l.94 2.06.94-2.06 2.06-.94-2.06-.94-.94-2.06-.94 2.06-2.06.94z\"/><path d=\"M17.41 7.96l-1.37-1.37c-.4-.4-.92-.59-1.43-.59-.52 0-1.04.2-1.43.59L10.3 9.45l-7.72 7.72c-.78.78-.78 2.05 0 2.83L4 21.41c.39.39.9.59 1.41.59.51 0 1.02-.2 1.41-.59l7.78-7.78 2.81-2.81c.8-.78.8-2.07 0-2.86zM5.41 20L4 18.59l7.72-7.72 1.47 1.35L5.41 20z\"/>\n",
              "  </svg>\n",
              "      </button>\n",
              "      \n",
              "  <style>\n",
              "    .colab-df-container {\n",
              "      display:flex;\n",
              "      flex-wrap:wrap;\n",
              "      gap: 12px;\n",
              "    }\n",
              "\n",
              "    .colab-df-convert {\n",
              "      background-color: #E8F0FE;\n",
              "      border: none;\n",
              "      border-radius: 50%;\n",
              "      cursor: pointer;\n",
              "      display: none;\n",
              "      fill: #1967D2;\n",
              "      height: 32px;\n",
              "      padding: 0 0 0 0;\n",
              "      width: 32px;\n",
              "    }\n",
              "\n",
              "    .colab-df-convert:hover {\n",
              "      background-color: #E2EBFA;\n",
              "      box-shadow: 0px 1px 2px rgba(60, 64, 67, 0.3), 0px 1px 3px 1px rgba(60, 64, 67, 0.15);\n",
              "      fill: #174EA6;\n",
              "    }\n",
              "\n",
              "    [theme=dark] .colab-df-convert {\n",
              "      background-color: #3B4455;\n",
              "      fill: #D2E3FC;\n",
              "    }\n",
              "\n",
              "    [theme=dark] .colab-df-convert:hover {\n",
              "      background-color: #434B5C;\n",
              "      box-shadow: 0px 1px 3px 1px rgba(0, 0, 0, 0.15);\n",
              "      filter: drop-shadow(0px 1px 2px rgba(0, 0, 0, 0.3));\n",
              "      fill: #FFFFFF;\n",
              "    }\n",
              "  </style>\n",
              "\n",
              "      <script>\n",
              "        const buttonEl =\n",
              "          document.querySelector('#df-52f36c6a-0376-4149-9503-c125e9f8b8f6 button.colab-df-convert');\n",
              "        buttonEl.style.display =\n",
              "          google.colab.kernel.accessAllowed ? 'block' : 'none';\n",
              "\n",
              "        async function convertToInteractive(key) {\n",
              "          const element = document.querySelector('#df-52f36c6a-0376-4149-9503-c125e9f8b8f6');\n",
              "          const dataTable =\n",
              "            await google.colab.kernel.invokeFunction('convertToInteractive',\n",
              "                                                     [key], {});\n",
              "          if (!dataTable) return;\n",
              "\n",
              "          const docLinkHtml = 'Like what you see? Visit the ' +\n",
              "            '<a target=\"_blank\" href=https://colab.research.google.com/notebooks/data_table.ipynb>data table notebook</a>'\n",
              "            + ' to learn more about interactive tables.';\n",
              "          element.innerHTML = '';\n",
              "          dataTable['output_type'] = 'display_data';\n",
              "          await google.colab.output.renderOutput(dataTable, element);\n",
              "          const docLink = document.createElement('div');\n",
              "          docLink.innerHTML = docLinkHtml;\n",
              "          element.appendChild(docLink);\n",
              "        }\n",
              "      </script>\n",
              "    </div>\n",
              "  </div>\n",
              "  "
            ]
          },
          "metadata": {},
          "execution_count": 134
        }
      ]
    },
    {
      "cell_type": "code",
      "source": [
        "# Obtener un listado de los valores únicos para la columna complexión\n",
        "complexiones = df['complexion'].unique()\n",
        "complexiones"
      ],
      "metadata": {
        "colab": {
          "base_uri": "https://localhost:8080/"
        },
        "id": "FvPfgyJ0goh2",
        "outputId": "295bd9f9-bf0e-4d96-df7f-59bfc030a0ae"
      },
      "execution_count": 135,
      "outputs": [
        {
          "output_type": "execute_result",
          "data": {
            "text/plain": [
              "array(['Delgada', 'Robusta', 'Mediana', 'Obesa', 'No Especificado'],\n",
              "      dtype=object)"
            ]
          },
          "metadata": {},
          "execution_count": 135
        }
      ]
    },
    {
      "cell_type": "code",
      "source": [
        "# Generar una secuencia de números con la misma cantidad de valores que el listado, un diccionario con esa secuencia y los valores únicos de la complexión \n",
        "indices = list(range(1, len(complexiones)+1))\n",
        "complexiones_dic = dict(zip(indices, complexiones))\n",
        "complexiones_dic"
      ],
      "metadata": {
        "colab": {
          "base_uri": "https://localhost:8080/"
        },
        "id": "Qc02Kgosh537",
        "outputId": "6535d2d6-a2f3-487d-dfab-294fa9ea6c0a"
      },
      "execution_count": 136,
      "outputs": [
        {
          "output_type": "execute_result",
          "data": {
            "text/plain": [
              "{1: 'Delgada', 2: 'Robusta', 3: 'Mediana', 4: 'Obesa', 5: 'No Especificado'}"
            ]
          },
          "metadata": {},
          "execution_count": 136
        }
      ]
    },
    {
      "cell_type": "code",
      "source": [
        "# Reemplazar las etiquetas de complexión por los valores númericos del diccionario (el índice)\n",
        "df['complexion'] = df['complexion'].replace(complexiones, indices)\n",
        "df['complexion']"
      ],
      "metadata": {
        "colab": {
          "base_uri": "https://localhost:8080/"
        },
        "id": "aWelAhGDjMuj",
        "outputId": "18960f92-d686-47bf-88d0-3d624ab50954"
      },
      "execution_count": 137,
      "outputs": [
        {
          "output_type": "execute_result",
          "data": {
            "text/plain": [
              "0        1\n",
              "1        1\n",
              "2        1\n",
              "3        1\n",
              "4        1\n",
              "        ..\n",
              "35896    1\n",
              "35897    2\n",
              "35898    3\n",
              "35899    2\n",
              "35900    1\n",
              "Name: complexion, Length: 35901, dtype: int64"
            ]
          },
          "metadata": {},
          "execution_count": 137
        }
      ]
    },
    {
      "cell_type": "code",
      "source": [
        "# Obtener un listado de los valores únicos para la columna entidad\n",
        "entidades = df['entidad'].unique()\n",
        "entidades\n",
        "\n",
        "# Generar una secuencia de números con la misma cantidad de valores que el listado, un diccionario con esa secuencia y los valores únicos de la entidad \n",
        "indices = list(range(1, len(entidades)+1))\n",
        "entidades_dic = dict(zip(indices, entidades))\n",
        "entidades_dic\n",
        "\n",
        "# Reemplazar las etiquetas de entidad por los valores númericos del diccionario (el índice)\n",
        "df['entidad'] = df['entidad'].replace(entidades, indices)\n",
        "df['entidad']"
      ],
      "metadata": {
        "colab": {
          "base_uri": "https://localhost:8080/"
        },
        "id": "wrsn-by9kmbp",
        "outputId": "ad275fca-b0ed-4ebe-db6d-adc2e7ce018b"
      },
      "execution_count": 138,
      "outputs": [
        {
          "output_type": "execute_result",
          "data": {
            "text/plain": [
              "0         1\n",
              "1         2\n",
              "2         2\n",
              "3         2\n",
              "4         2\n",
              "         ..\n",
              "35896    19\n",
              "35897     5\n",
              "35898    19\n",
              "35899     5\n",
              "35900    12\n",
              "Name: entidad, Length: 35901, dtype: int64"
            ]
          },
          "metadata": {},
          "execution_count": 138
        }
      ]
    },
    {
      "cell_type": "code",
      "source": [
        "# Seleccionar la columna de sexo y almacenarla en la variable independiente 'y'\n",
        "y = df['sexo']\n",
        "\n",
        "# Eliminar las columnas que no son de interés para entrenar al modelo\n",
        "X = df.drop(columns=['anio', 'fecha', 'hora', 'dias_desaparecido', 'municipio', 'localidad', 'coordenadas', 'nacionalidad', 'sexo', 'senas_particulares', 'discapacidad', 'dependecia_origen'])"
      ],
      "metadata": {
        "id": "Rs41qWHaYmjk"
      },
      "execution_count": 139,
      "outputs": []
    },
    {
      "cell_type": "code",
      "source": [
        "# Entrenar un modelo de Regresión Logística para clasificar sexo de la persona a partir de los valores entidad, edad, estatura y complexión \n",
        "X_train, X_test, y_train, y_test = train_test_split(X, y, test_size=0.3)"
      ],
      "metadata": {
        "id": "WZYtSNweYoUk"
      },
      "execution_count": 140,
      "outputs": []
    },
    {
      "cell_type": "code",
      "source": [
        "logreg = LogisticRegression(max_iter=10000)"
      ],
      "metadata": {
        "id": "xxBWeN6rZ3sb"
      },
      "execution_count": 141,
      "outputs": []
    },
    {
      "cell_type": "markdown",
      "source": [],
      "metadata": {
        "id": "NxyvsOdKaBjh"
      }
    },
    {
      "cell_type": "code",
      "source": [
        "logreg.fit(X_train, y_train)\n"
      ],
      "metadata": {
        "colab": {
          "base_uri": "https://localhost:8080/"
        },
        "id": "B9sBIYtlZ5YT",
        "outputId": "f09ebf98-4cd4-4a9c-d666-c6194e25ef2d"
      },
      "execution_count": 142,
      "outputs": [
        {
          "output_type": "execute_result",
          "data": {
            "text/plain": [
              "LogisticRegression(max_iter=10000)"
            ]
          },
          "metadata": {},
          "execution_count": 142
        }
      ]
    },
    {
      "cell_type": "code",
      "source": [
        "LogisticRegression(C=1.0, class_weight=None, dual=False, fit_intercept=True,\n",
        "                   intercept_scaling=1, l1_ratio=None, max_iter=10000,\n",
        "                   multi_class='auto', n_jobs=None, penalty='l2',\n",
        "                   random_state=None, solver='lbfgs', tol=0.0001, verbose=0,\n",
        "                   warm_start=False)"
      ],
      "metadata": {
        "colab": {
          "base_uri": "https://localhost:8080/"
        },
        "id": "s-8oVfC9lcSc",
        "outputId": "0c601d8c-905a-44d6-cb57-0152db5610a8"
      },
      "execution_count": 143,
      "outputs": [
        {
          "output_type": "execute_result",
          "data": {
            "text/plain": [
              "LogisticRegression(max_iter=10000)"
            ]
          },
          "metadata": {},
          "execution_count": 143
        }
      ]
    },
    {
      "cell_type": "code",
      "source": [
        "# Realizar predicciones utilizando el dataset de prueba:\n",
        "y_pred = logreg.predict(X_test)\n",
        "y_pred"
      ],
      "metadata": {
        "colab": {
          "base_uri": "https://localhost:8080/"
        },
        "id": "_pA4DB5xljKs",
        "outputId": "241a46b7-0e2b-45dc-d03a-f04ac2d968c2"
      },
      "execution_count": 144,
      "outputs": [
        {
          "output_type": "execute_result",
          "data": {
            "text/plain": [
              "array([1, 1, 1, ..., 1, 1, 1])"
            ]
          },
          "metadata": {},
          "execution_count": 144
        }
      ]
    },
    {
      "cell_type": "code",
      "source": [
        "# Calcular la exactitud del modelo utilizando el método score de LogisticRegression que calcula la exactitud promedio (mean accuracy).\n",
        "# El valor de exactitud toma valores del intervalo entre 0 y 1, con 1 siendo la 'exactitud perfecta'.\n",
        "logreg.score(X_test, y_test)"
      ],
      "metadata": {
        "colab": {
          "base_uri": "https://localhost:8080/"
        },
        "id": "lYH2rR9DlnoH",
        "outputId": "568bc9a3-877b-4c2b-81c9-c641ebd1ab11"
      },
      "execution_count": 145,
      "outputs": [
        {
          "output_type": "execute_result",
          "data": {
            "text/plain": [
              "0.7525763624547396"
            ]
          },
          "metadata": {},
          "execution_count": 145
        }
      ]
    },
    {
      "cell_type": "markdown",
      "source": [
        "Se calculará una matriz de confusión para el modelo generado\n",
        "\n"
      ],
      "metadata": {
        "id": "FlQnprarombc"
      }
    },
    {
      "cell_type": "code",
      "source": [
        "import matplotlib.pyplot as plt\n",
        "from sklearn import metrics\n",
        "import seaborn as sns\n",
        "import numpy as np\n",
        "\n",
        "cnf_matrix = metrics.confusion_matrix(y_test, y_pred)\n",
        "cnf_matrix"
      ],
      "metadata": {
        "colab": {
          "base_uri": "https://localhost:8080/"
        },
        "id": "4ljXzuB9olVr",
        "outputId": "c03d4492-343c-42d8-d89d-d1048b4056d8"
      },
      "execution_count": 146,
      "outputs": [
        {
          "output_type": "execute_result",
          "data": {
            "text/plain": [
              "array([[ 374, 2435],\n",
              "       [ 230, 7732]])"
            ]
          },
          "metadata": {},
          "execution_count": 146
        }
      ]
    },
    {
      "cell_type": "code",
      "source": [
        "class_names=[0,1] # name  of classes\n",
        "fig, ax = plt.subplots(figsize=(6, 6))\n",
        "tick_marks = np.arange(len(class_names))\n",
        "plt.xticks(tick_marks, class_names)\n",
        "plt.yticks(tick_marks, class_names)\n",
        "# create heatmap\n",
        "sns.heatmap(pd.DataFrame(cnf_matrix), annot=True, cmap=\"Blues\" ,fmt='g', cbar=False, annot_kws={\"size\": 20})\n",
        "ax.xaxis.set_label_position(\"top\")\n",
        "plt.tight_layout()\n",
        "plt.ylabel('Realidad', fontsize=15, y=0.5)\n",
        "plt.xlabel('Estimado por el modelo', fontsize=15);"
      ],
      "metadata": {
        "colab": {
          "base_uri": "https://localhost:8080/",
          "height": 457
        },
        "id": "64MCxbGqo0U2",
        "outputId": "9d0975a1-9886-4976-b1ce-ae6be8b554f5"
      },
      "execution_count": 147,
      "outputs": [
        {
          "output_type": "display_data",
          "data": {
            "text/plain": [
              "<Figure size 432x432 with 1 Axes>"
            ],
            "image/png": "[encoded data removed]"
          },
          "metadata": {
            "needs_background": "light"
          }
        }
      ]
    },
    {
      "cell_type": "markdown",
      "source": [
        "Cáculo de las 4 medidas de evaluación del modelo: \n",
        "*   Precisión\n",
        "*   Exactitud\n",
        "*   Sensibilidad\n",
        "*   Especificidad"
      ],
      "metadata": {
        "id": "nJVOzpy0pa4O"
      }
    },
    {
      "cell_type": "code",
      "source": [
        "tn, fp, fn, tp = cnf_matrix.ravel()\n",
        "\n",
        "print(\"Precision:\",metrics.precision_score(y_test, y_pred))\n",
        "print(\"Exactitud:\",metrics.accuracy_score(y_test, y_pred))\n",
        "print(\"Sensibilidad:\",metrics.recall_score(y_test, y_pred))\n",
        "print(\"Especificidad:\", tn / (tn + fp))"
      ],
      "metadata": {
        "colab": {
          "base_uri": "https://localhost:8080/"
        },
        "id": "gw5vnxbBpVGA",
        "outputId": "f7869aaa-7277-4883-8106-5f4b8a79b5b0"
      },
      "execution_count": 148,
      "outputs": [
        {
          "output_type": "stream",
          "name": "stdout",
          "text": [
            "Precision: 0.7604996557489918\n",
            "Exactitud: 0.7525763624547396\n",
            "Sensibilidad: 0.971112785732228\n",
            "Especificidad: 0.13314346742613029\n"
          ]
        }
      ]
    }
  ]
}