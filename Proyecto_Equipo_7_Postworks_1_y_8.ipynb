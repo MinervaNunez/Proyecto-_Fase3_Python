{
  "nbformat": 4,
  "nbformat_minor": 0,
  "metadata": {
    "colab": {
      "provenance": [],
      "collapsed_sections": [],
      "authorship_tag": "ABX9TyM2hV33fR6WAiXVg8J0+bQS",
      "include_colab_link": true
    },
    "kernelspec": {
      "name": "python3",
      "display_name": "Python 3"
    },
    "language_info": {
      "name": "python"
    }
  },
  "cells": [
    {
      "cell_type": "markdown",
      "metadata": {
        "id": "view-in-github",
        "colab_type": "text"
      },
      "source": [
        "<a href=\"https://colab.research.google.com/github/MinervaNunez/Proyecto-_Fase3_Python/blob/rama-mateo/Proyecto_Equipo_7_Postworks_1_y_8.ipynb\" target=\"_parent\"><img src=\"https://colab.research.google.com/assets/colab-badge.svg\" alt=\"Open In Colab\"/></a>"
      ]
    },
    {
      "cell_type": "code",
      "execution_count": 2,
      "metadata": {
        "id": "HmMtG1wL3y3k"
      },
      "outputs": [],
      "source": [
        "####   ========== Estimados de Locación y Variabilidad ========== ####\n",
        "import pandas as pd\n",
        "from scipy import stats\n",
        "\n",
        "# Leemos el archivo con los datos procesados que se obtuvo del proyecto anterior\n",
        "raw = pd.read_csv('https://raw.githubusercontent.com/MinervaNunez/Proyecto-_Fase3_Python/rama-mateo/RNPEDFC_Final.csv', encoding='ISO-8859-1')\n",
        "\n",
        "# Guardamos los datos en formato CSV para leerlos con la librería pandas y crear un DataFrame\n",
        "raw.to_csv('RNPEDFC.csv', index=False, encoding='ISO-8859-1')\n",
        "df = pd.read_csv('RNPEDFC.csv', encoding='ISO-8859-1')"
      ]
    },
    {
      "cell_type": "code",
      "source": [
        "# Listamos los nombres de las columnas del DataFrame\n",
        "df.columns"
      ],
      "metadata": {
        "colab": {
          "base_uri": "https://localhost:8080/"
        },
        "id": "QALT_Iqw5lbD",
        "outputId": "2f53c502-06a3-4a32-9032-05f2c217d51e"
      },
      "execution_count": 3,
      "outputs": [
        {
          "output_type": "execute_result",
          "data": {
            "text/plain": [
              "Index(['anio', 'fecha', 'hora', 'dias_desaparecido', 'entidad', 'municipio',\n",
              "       'localidad', 'coordenadas', 'nacionalidad', 'sexo', 'edad', 'estatura',\n",
              "       'complexion', 'senas_particulares', 'discapacidad',\n",
              "       'dependecia_origen'],\n",
              "      dtype='object')"
            ]
          },
          "metadata": {},
          "execution_count": 3
        }
      ]
    },
    {
      "cell_type": "code",
      "source": [
        "# Mostramos los tipos de datos de las columnas del DataFrame\n",
        "df.dtypes"
      ],
      "metadata": {
        "colab": {
          "base_uri": "https://localhost:8080/"
        },
        "id": "he9dA1b25lyz",
        "outputId": "fc2862d1-59a9-4766-ec8e-1295b64a91d6"
      },
      "execution_count": 4,
      "outputs": [
        {
          "output_type": "execute_result",
          "data": {
            "text/plain": [
              "anio                    int64\n",
              "fecha                  object\n",
              "hora                   object\n",
              "dias_desaparecido       int64\n",
              "entidad                object\n",
              "municipio              object\n",
              "localidad              object\n",
              "coordenadas            object\n",
              "nacionalidad           object\n",
              "sexo                   object\n",
              "edad                    int64\n",
              "estatura              float64\n",
              "complexion             object\n",
              "senas_particulares     object\n",
              "discapacidad           object\n",
              "dependecia_origen      object\n",
              "dtype: object"
            ]
          },
          "metadata": {},
          "execution_count": 4
        }
      ]
    },
    {
      "cell_type": "code",
      "source": [
        "# Identifica las columnas de tu dataset que tengan datos numéricos.\n",
        "# Se observa que las columnas: año, fecha, hora, dias_desaparecido, coordenadas, edad, estatura son de tipo numérico, \n",
        "# sin embargo pandas reconoce como númericas solo año, dias_desaparecido, edad y estatura."
      ],
      "metadata": {
        "id": "-UEX6Yhc6Ibw"
      },
      "execution_count": null,
      "outputs": []
    },
    {
      "cell_type": "code",
      "source": [
        "# Convertimos la columna 'fecha' a tipo de datos datetime\n",
        "df['fecha']= pd.to_datetime(df['fecha'])"
      ],
      "metadata": {
        "id": "xJtYvxfl6aoW"
      },
      "execution_count": 5,
      "outputs": []
    },
    {
      "cell_type": "markdown",
      "source": [
        "# Calcular los estimados de locación\n",
        "*   Promedio\n",
        "*   Mediana\n",
        "*   Media Truncada"
      ],
      "metadata": {
        "id": "ghtIP07Z99bc"
      }
    },
    {
      "cell_type": "code",
      "source": [
        "# Calcular los estimados de locación\n",
        "# Promedio\n",
        "# Mediana\n",
        "# Media Truncada\n",
        "\n",
        "anios = df['anio']\n",
        "media = round(anios.mean())\n",
        "mediana = round(anios.median())\n",
        "media_truncada = round(stats.trim_mean(anios, 0.05))\n",
        "print(f'Del valor año: \\nEl promedio es {media}, \\nLa media truncada un 10% es {media_truncada} y \\nLa mediana es {mediana}')\n",
        "\n",
        "dias_desaparecido = df['dias_desaparecido']\n",
        "media = round(dias_desaparecido.mean())\n",
        "mediana = round(df['dias_desaparecido'].median())\n",
        "media_truncada = round(stats.trim_mean(df['dias_desaparecido'], 0.05))\n",
        "print(f'\\nDel valor Días Desaparecido: \\nEl promedio es {media}, \\nLa media truncada un 10%  es {media_truncada} y \\nLa mediana es {mediana}')\n",
        "\n",
        "edades = df['edad']\n",
        "media = round(edades.mean())\n",
        "mediana = round(edades.median())\n",
        "media_truncada = round(stats.trim_mean(edades, 0.05))\n",
        "print(f'\\nDel valor Edad: \\nEl promedio es {media}, \\nLa media truncada un 10%  es {media_truncada} y \\nLa mediana es {mediana}')\n",
        "\n",
        "estaturas = df['estatura']\n",
        "media = round(estaturas.mean(), 2)\n",
        "mediana = round(estaturas.median(), 2)\n",
        "media_truncada = round(stats.trim_mean(estaturas, 0.05), 2)\n",
        "print(f'\\nDel valor Estatura: \\nEl promedio es {media}, \\nLa media truncada un 10% es {media_truncada} y \\nLa mediana es {mediana}')\n",
        "       "
      ],
      "metadata": {
        "colab": {
          "base_uri": "https://localhost:8080/"
        },
        "id": "4TIzxGKA9uec",
        "outputId": "b3bf35ff-7603-44e3-8da7-729a0792792f"
      },
      "execution_count": 17,
      "outputs": [
        {
          "output_type": "stream",
          "name": "stdout",
          "text": [
            "Del valor año: \n",
            "El promedio es 2013, \n",
            "La media truncada un 10% es 2014 y \n",
            "La mediana es 2014\n",
            "\n",
            "Del valor Días Desaparecido: \n",
            "El promedio es 1606, \n",
            "La media truncada un 10%  es 1553 y \n",
            "La mediana es 1518\n",
            "\n",
            "Del valor Edad: \n",
            "El promedio es 31, \n",
            "La media truncada un 10%  es 30 y \n",
            "La mediana es 28\n",
            "\n",
            "Del valor Estatura: \n",
            "El promedio es 1.64, \n",
            "La media truncada un 10% es 1.65 y \n",
            "La mediana es 1.64\n"
          ]
        }
      ]
    },
    {
      "cell_type": "markdown",
      "source": [
        "# Calcular los estimados de variabilidad\n",
        "\n",
        "*   Desviación estándar\n",
        "*   Rango\n",
        "*   Percentiles 25 y 75\n",
        "*   Rango intercuartil"
      ],
      "metadata": {
        "id": "5CxtfbEahOh3"
      }
    },
    {
      "cell_type": "code",
      "source": [
        "# Calcular los estimados de variabilidad\n",
        "# Desviación estándar\n",
        "# Rango\n",
        "# Percentiles 25 y 75 (por lo menos)\n",
        "# Rango intercuartil\n",
        "\n",
        "anios = df['anio']\n",
        "dias_desaparecido = df['dias_desaparecido']\n",
        "edades = df['edad']\n",
        "estaturas = df['estatura']\n",
        "\n",
        "desviacion_estandar = round(anios.std(), 2)\n",
        "rango = max(anios) - min(anios)\n",
        "percentil_0 = anios.quantile(0)\n",
        "percentil_10 = anios.quantile(0.1)\n",
        "percentil_25 = anios.quantile(0.25)\n",
        "percentil_50 = anios.quantile(0.5)\n",
        "percentil_75 = anios.quantile(0.75)\n",
        "rango_intercuartil = percentil_75 - percentil_25\n",
        "\n",
        "print(f'\\nLa desviación estandar del valor Año es: {desviacion_estandar}')\n",
        "print(f'El rango del valor Año es: {rango}')\n",
        "print(f'Percentil 0: {percentil_0}')\n",
        "print(f'Percentil 10: {percentil_10}')\n",
        "print(f'Percentil 25: {percentil_25}')\n",
        "print(f'Percentil 50: {percentil_50}')\n",
        "print(f'Percentil 75: {percentil_75}')\n",
        "print(f'El rango intercuartilíco del valor Año es: {rango_intercuartil}')\n",
        "\n",
        "desviacion_estandar = round(dias_desaparecido.std(), 2)\n",
        "rango = max(dias_desaparecido) - min(dias_desaparecido)\n",
        "percentil_0 = dias_desaparecido.quantile(0)\n",
        "percentil_10 = dias_desaparecido.quantile(0.1)\n",
        "percentil_25 = dias_desaparecido.quantile(0.25)\n",
        "percentil_50 = dias_desaparecido.quantile(0.5)\n",
        "percentil_75 = dias_desaparecido.quantile(0.75)\n",
        "rango_intercuartil = percentil_75 - percentil_25\n",
        "\n",
        "print(f'\\nLa desviación estandar del valor Días Desaparecido es: {desviacion_estandar}')\n",
        "print(f'El rango del valor Días Desaparecido es: {rango}')\n",
        "print(f'Percentil 0: {percentil_0}')\n",
        "print(f'Percentil 10: {percentil_10}')\n",
        "print(f'Percentil 25: {percentil_25}')\n",
        "print(f'Percentil 50: {percentil_50}')\n",
        "print(f'Percentil 75: {percentil_75}')\n",
        "print(f'El rango intercuartilíco del valor Días Desaparecido es: {rango_intercuartil}')\n",
        "\n",
        "desviacion_estandar = round(edades.std(), 2)\n",
        "rango = max(edades) - min(edades)\n",
        "percentil_0 = edades.quantile(0)\n",
        "percentil_10 = edades.quantile(0.1)\n",
        "percentil_25 = edades.quantile(0.25)\n",
        "percentil_50 = edades.quantile(0.5)\n",
        "percentil_75 = edades.quantile(0.75)\n",
        "rango_intercuartil = percentil_75 - percentil_25\n",
        "\n",
        "print(f'\\nLa desviación estandar del valor Edad es: {desviacion_estandar}')\n",
        "print(f'El rango del valor Edad es: {rango}')\n",
        "print(f'Percentil 0: {percentil_0}')\n",
        "print(f'Percentil 10: {percentil_10}')\n",
        "print(f'Percentil 25: {percentil_25}')\n",
        "print(f'Percentil 50: {percentil_50}')\n",
        "print(f'Percentil 75: {percentil_75}')\n",
        "print(f'El rango intercuartilíco del valor Edad es: {rango_intercuartil}')\n",
        "\n",
        "desviacion_estandar = round(estaturas.std(), 2)\n",
        "rango = max(estaturas) - min(estaturas)\n",
        "percentil_0 = estaturas.quantile(0)\n",
        "percentil_10 = estaturas.quantile(0.1)\n",
        "percentil_25 = estaturas.quantile(0.25)\n",
        "percentil_50 = estaturas.quantile(0.5)\n",
        "percentil_75 = estaturas.quantile(0.75)\n",
        "rango_intercuartil = percentil_75 - percentil_25\n",
        "\n",
        "print(f'\\nLa desviación estandar del valor Estatura es: {desviacion_estandar}')\n",
        "print(f'El rango del valor Estatura es: {rango}')\n",
        "print(f'Percentil 0: {percentil_0}')\n",
        "print(f'Percentil 10: {percentil_10}')\n",
        "print(f'Percentil 25: {percentil_25}')\n",
        "print(f'Percentil 50: {percentil_50}')\n",
        "print(f'Percentil 75: {percentil_75}')\n",
        "print(f'El rango intercuartilíco del valor Estatura es: {rango_intercuartil}')\n"
      ],
      "metadata": {
        "colab": {
          "base_uri": "https://localhost:8080/"
        },
        "id": "hP5mD8p2hYXa",
        "outputId": "780425b1-51bc-4cf5-c5c1-322242feefef"
      },
      "execution_count": 26,
      "outputs": [
        {
          "output_type": "stream",
          "name": "stdout",
          "text": [
            "\n",
            "La desviación estandar del valor Año es: 3.08\n",
            "El rango del valor Año es: 50\n",
            "Percentil 0: 1968.0\n",
            "Percentil 10: 2010.0\n",
            "Percentil 25: 2011.0\n",
            "Percentil 50: 2014.0\n",
            "Percentil 75: 2016.0\n",
            "El rango intercuartilíco del valor Año es: 5.0\n",
            "\n",
            "La desviación estandar del valor Días Desaparecido es: 1123.03\n",
            "El rango del valor Días Desaparecido es: 18165\n",
            "Percentil 0: 1.0\n",
            "Percentil 10: 257.0\n",
            "Percentil 25: 647.0\n",
            "Percentil 50: 1518.0\n",
            "Percentil 75: 2455.0\n",
            "El rango intercuartilíco del valor Días Desaparecido es: 1808.0\n",
            "\n",
            "La desviación estandar del valor Edad es: 14.37\n",
            "El rango del valor Edad es: 102\n",
            "Percentil 0: 1.0\n",
            "Percentil 10: 15.0\n",
            "Percentil 25: 21.0\n",
            "Percentil 50: 28.0\n",
            "Percentil 75: 38.0\n",
            "El rango intercuartilíco del valor Edad es: 17.0\n",
            "\n",
            "La desviación estandar del valor Estatura es: 0.14\n",
            "El rango del valor Estatura es: 1.74\n",
            "Percentil 0: 0.3\n",
            "Percentil 10: 1.55\n",
            "Percentil 25: 1.62\n",
            "Percentil 50: 1.64\n",
            "Percentil 75: 1.7\n",
            "El rango intercuartilíco del valor Estatura es: 0.07999999999999985\n"
          ]
        }
      ]
    }
  ]
}