{
  "nbformat": 4,
  "nbformat_minor": 0,
  "metadata": {
    "colab": {
      "provenance": [],
      "collapsed_sections": [
        "hJuEojevKVg0",
        "mUS9S0RCRLuK",
        "ww2R9bcmoW7_",
        "FF7EgAbWzcxz",
        "9Lcx1k7Dy5xa"
      ],
      "mount_file_id": "1XieuGhPItsCJggKiREQTSZ_chbx9knEm",
      "authorship_tag": "ABX9TyNPKbzcy/wdehQtEzx/YQN1",
      "include_colab_link": true
    },
    "kernelspec": {
      "name": "python3",
      "display_name": "Python 3"
    },
    "language_info": {
      "name": "python"
    }
  },
  "cells": [
    {
      "cell_type": "markdown",
      "metadata": {
        "id": "view-in-github",
        "colab_type": "text"
      },
      "source": [
        "<a href=\"https://colab.research.google.com/github/MinervaNunez/Proyecto-_Fase3_Python/blob/rama-minerva/Proyecto_Fase_3_BEDU.ipynb\" target=\"_parent\"><img src=\"https://colab.research.google.com/assets/colab-badge.svg\" alt=\"Open In Colab\"/></a>"
      ]
    },
    {
      "cell_type": "markdown",
      "source": [
        "---\n",
        "\n",
        "## Librerías necesarias\n",
        "\n",
        "---"
      ],
      "metadata": {
        "id": "hJuEojevKVg0"
      }
    },
    {
      "cell_type": "code",
      "execution_count": 26,
      "metadata": {
        "id": "QTXb5aSNJ__v"
      },
      "outputs": [],
      "source": [
        "import seaborn as sns\n",
        "from scipy.stats import skew, kurtosis\n",
        "import matplotlib.pyplot as plt\n",
        "import pandas as pd\n",
        "import numpy as np\n",
        "import requests"
      ]
    },
    {
      "cell_type": "markdown",
      "source": [
        "\n",
        "\n",
        "---\n",
        "\n",
        "# Lectura de datos\n",
        "\n",
        "---\n",
        "\n"
      ],
      "metadata": {
        "id": "mUS9S0RCRLuK"
      }
    },
    {
      "cell_type": "markdown",
      "source": [
        "Realizamos la lectura de los datos a partir del archivo .csv obtenido en el módulo anterior.\n",
        "\n"
      ],
      "metadata": {
        "id": "BOQ_PYt8RSXf"
      }
    },
    {
      "cell_type": "code",
      "source": [
        "df = pd.read_csv('https://raw.githubusercontent.com/MinervaNunez/Proyecto-_Fase3_Python/main/RNPEDFC_Final.csv',encoding='ISO-8859-1')"
      ],
      "metadata": {
        "id": "6bqHgWL_Or4w"
      },
      "execution_count": 3,
      "outputs": []
    },
    {
      "cell_type": "markdown",
      "source": [
        "El `DataFrame` resultante se muestra a continuación."
      ],
      "metadata": {
        "id": "9OCOCoNMKiQm"
      }
    },
    {
      "cell_type": "code",
      "source": [
        "df"
      ],
      "metadata": {
        "colab": {
          "base_uri": "https://localhost:8080/",
          "height": 806
        },
        "id": "bV-bVzNvnBRz",
        "outputId": "29cdf736-f217-4df6-e97d-38a02fe5bb6a"
      },
      "execution_count": 4,
      "outputs": [
        {
          "output_type": "execute_result",
          "data": {
            "text/plain": [
              "       anio       fecha      hora  dias_desaparecido           entidad  \\\n",
              "0      2012  2012-03-18  05:00:00               2234            Sonora   \n",
              "1      2007  2007-02-05  02:00:26               4102  Estado De Mexico   \n",
              "2      2009  2009-03-14  08:30:54               3334  Estado De Mexico   \n",
              "3      2006  2006-12-23  08:00:28               4146  Estado De Mexico   \n",
              "4      2008  2008-01-11  12:00:17               3762  Estado De Mexico   \n",
              "...     ...         ...       ...                ...               ...   \n",
              "35896  2018  2018-04-26  08:00:00                  4            Puebla   \n",
              "35897  2018  2018-01-08  11:00:00                112            Colima   \n",
              "35898  2015  2015-02-02  07:00:00               1183            Puebla   \n",
              "35899  2017  2017-08-22  04:00:00                251            Colima   \n",
              "35900  2018  2018-04-11  02:00:00                 19        Nuevo Leon   \n",
              "\n",
              "                      municipio                 localidad  \\\n",
              "0                       Navojoa                   Navojoa   \n",
              "1                Valle De Bravo            Valle De Bravo   \n",
              "2                        Chalco                    Chalco   \n",
              "3           Tlalnepantla De Baz       Tlalnepantla De Baz   \n",
              "4                        Toluca                    Toluca   \n",
              "...                         ...                       ...   \n",
              "35896                    Puebla                    Puebla   \n",
              "35897          Villa De Alvarez          Villa De Alvarez   \n",
              "35898                     Chila      Chilas De Las Flores   \n",
              "35899          Villa De Alvarez          Villa De Alvarez   \n",
              "35900  San Nicolas De Los Garza  San Nicolas De Los Garza   \n",
              "\n",
              "                  coordenadas nacionalidad    sexo  edad  estatura complexion  \\\n",
              "0      27.069053, -109.439423     Mexicana   Mujer     7      1.10    Delgada   \n",
              "1       19.16368, -100.134684     Mexicana   Mujer     4      1.10    Delgada   \n",
              "2         19.266337, -98.8978     Mexicana  Hombre     6      1.10    Delgada   \n",
              "3       19.547512, -99.193851     Mexicana  Hombre    10      1.10    Delgada   \n",
              "4            18.078, -91.6552     Mexicana  Hombre     4      1.10    Delgada   \n",
              "...                       ...          ...     ...   ...       ...        ...   \n",
              "35896   19.051201, -98.212116     Mexicana  Hombre    22      1.60    Delgada   \n",
              "35897       19.25, -103.73333     Mexicana   Mujer    27      1.70    Robusta   \n",
              "35898   17.965896, -97.864616     Mexicana   Mujer    86      1.77    Mediana   \n",
              "35899       19.25, -103.73333     Mexicana  Hombre    41      1.76    Robusta   \n",
              "35900  25.738505, -100.280753     Mexicana   Mujer    14      1.60    Delgada   \n",
              "\n",
              "                                      senas_particulares discapacidad  \\\n",
              "0      Tiene Una Cicatriz En La Rodilla Izquierda Por...      Ninguno   \n",
              "1                                        No Especificado      Ninguno   \n",
              "2      Manchas, Parte Superior De Pierna Derecha, Cic...      Ninguno   \n",
              "3      Lunares, A La Altura De La Cinturaforma De Man...      Ninguno   \n",
              "4                                        No Especificado      Ninguno   \n",
              "...                                                  ...          ...   \n",
              "35896  Lunar En La Mejilla Y Tatuaje En El Cuello En ...      Ninguno   \n",
              "35897  El Ojo Izquierdo Tiene Un Enfermedad Como Tic,...      Ninguno   \n",
              "35898                                    No Especificado      Ninguno   \n",
              "35899  Tatuaje En El Brazo Izquierdo Con La Imagen De...      Ninguno   \n",
              "35900                                    No Especificado      Ninguno   \n",
              "\n",
              "            dependecia_origen  \n",
              "0                FGE - Sonora  \n",
              "1      FGJ - Estado De Mexico  \n",
              "2      FGJ - Estado De Mexico  \n",
              "3      FGJ - Estado De Mexico  \n",
              "4      FGJ - Estado De Mexico  \n",
              "...                       ...  \n",
              "35896            FGE - Puebla  \n",
              "35897            PGJ - Colima  \n",
              "35898            FGE - Puebla  \n",
              "35899            PGJ - Colima  \n",
              "35900        PGJ - Nuevo Leon  \n",
              "\n",
              "[35901 rows x 16 columns]"
            ],
            "text/html": [
              "\n",
              "  <div id=\"df-7bff3854-9983-49d3-b411-5bac62f7c57f\">\n",
              "    <div class=\"colab-df-container\">\n",
              "      <div>\n",
              "<style scoped>\n",
              "    .dataframe tbody tr th:only-of-type {\n",
              "        vertical-align: middle;\n",
              "    }\n",
              "\n",
              "    .dataframe tbody tr th {\n",
              "        vertical-align: top;\n",
              "    }\n",
              "\n",
              "    .dataframe thead th {\n",
              "        text-align: right;\n",
              "    }\n",
              "</style>\n",
              "<table border=\"1\" class=\"dataframe\">\n",
              "  <thead>\n",
              "    <tr style=\"text-align: right;\">\n",
              "      <th></th>\n",
              "      <th>anio</th>\n",
              "      <th>fecha</th>\n",
              "      <th>hora</th>\n",
              "      <th>dias_desaparecido</th>\n",
              "      <th>entidad</th>\n",
              "      <th>municipio</th>\n",
              "      <th>localidad</th>\n",
              "      <th>coordenadas</th>\n",
              "      <th>nacionalidad</th>\n",
              "      <th>sexo</th>\n",
              "      <th>edad</th>\n",
              "      <th>estatura</th>\n",
              "      <th>complexion</th>\n",
              "      <th>senas_particulares</th>\n",
              "      <th>discapacidad</th>\n",
              "      <th>dependecia_origen</th>\n",
              "    </tr>\n",
              "  </thead>\n",
              "  <tbody>\n",
              "    <tr>\n",
              "      <th>0</th>\n",
              "      <td>2012</td>\n",
              "      <td>2012-03-18</td>\n",
              "      <td>05:00:00</td>\n",
              "      <td>2234</td>\n",
              "      <td>Sonora</td>\n",
              "      <td>Navojoa</td>\n",
              "      <td>Navojoa</td>\n",
              "      <td>27.069053, -109.439423</td>\n",
              "      <td>Mexicana</td>\n",
              "      <td>Mujer</td>\n",
              "      <td>7</td>\n",
              "      <td>1.10</td>\n",
              "      <td>Delgada</td>\n",
              "      <td>Tiene Una Cicatriz En La Rodilla Izquierda Por...</td>\n",
              "      <td>Ninguno</td>\n",
              "      <td>FGE - Sonora</td>\n",
              "    </tr>\n",
              "    <tr>\n",
              "      <th>1</th>\n",
              "      <td>2007</td>\n",
              "      <td>2007-02-05</td>\n",
              "      <td>02:00:26</td>\n",
              "      <td>4102</td>\n",
              "      <td>Estado De Mexico</td>\n",
              "      <td>Valle De Bravo</td>\n",
              "      <td>Valle De Bravo</td>\n",
              "      <td>19.16368, -100.134684</td>\n",
              "      <td>Mexicana</td>\n",
              "      <td>Mujer</td>\n",
              "      <td>4</td>\n",
              "      <td>1.10</td>\n",
              "      <td>Delgada</td>\n",
              "      <td>No Especificado</td>\n",
              "      <td>Ninguno</td>\n",
              "      <td>FGJ - Estado De Mexico</td>\n",
              "    </tr>\n",
              "    <tr>\n",
              "      <th>2</th>\n",
              "      <td>2009</td>\n",
              "      <td>2009-03-14</td>\n",
              "      <td>08:30:54</td>\n",
              "      <td>3334</td>\n",
              "      <td>Estado De Mexico</td>\n",
              "      <td>Chalco</td>\n",
              "      <td>Chalco</td>\n",
              "      <td>19.266337, -98.8978</td>\n",
              "      <td>Mexicana</td>\n",
              "      <td>Hombre</td>\n",
              "      <td>6</td>\n",
              "      <td>1.10</td>\n",
              "      <td>Delgada</td>\n",
              "      <td>Manchas, Parte Superior De Pierna Derecha, Cic...</td>\n",
              "      <td>Ninguno</td>\n",
              "      <td>FGJ - Estado De Mexico</td>\n",
              "    </tr>\n",
              "    <tr>\n",
              "      <th>3</th>\n",
              "      <td>2006</td>\n",
              "      <td>2006-12-23</td>\n",
              "      <td>08:00:28</td>\n",
              "      <td>4146</td>\n",
              "      <td>Estado De Mexico</td>\n",
              "      <td>Tlalnepantla De Baz</td>\n",
              "      <td>Tlalnepantla De Baz</td>\n",
              "      <td>19.547512, -99.193851</td>\n",
              "      <td>Mexicana</td>\n",
              "      <td>Hombre</td>\n",
              "      <td>10</td>\n",
              "      <td>1.10</td>\n",
              "      <td>Delgada</td>\n",
              "      <td>Lunares, A La Altura De La Cinturaforma De Man...</td>\n",
              "      <td>Ninguno</td>\n",
              "      <td>FGJ - Estado De Mexico</td>\n",
              "    </tr>\n",
              "    <tr>\n",
              "      <th>4</th>\n",
              "      <td>2008</td>\n",
              "      <td>2008-01-11</td>\n",
              "      <td>12:00:17</td>\n",
              "      <td>3762</td>\n",
              "      <td>Estado De Mexico</td>\n",
              "      <td>Toluca</td>\n",
              "      <td>Toluca</td>\n",
              "      <td>18.078, -91.6552</td>\n",
              "      <td>Mexicana</td>\n",
              "      <td>Hombre</td>\n",
              "      <td>4</td>\n",
              "      <td>1.10</td>\n",
              "      <td>Delgada</td>\n",
              "      <td>No Especificado</td>\n",
              "      <td>Ninguno</td>\n",
              "      <td>FGJ - Estado De Mexico</td>\n",
              "    </tr>\n",
              "    <tr>\n",
              "      <th>...</th>\n",
              "      <td>...</td>\n",
              "      <td>...</td>\n",
              "      <td>...</td>\n",
              "      <td>...</td>\n",
              "      <td>...</td>\n",
              "      <td>...</td>\n",
              "      <td>...</td>\n",
              "      <td>...</td>\n",
              "      <td>...</td>\n",
              "      <td>...</td>\n",
              "      <td>...</td>\n",
              "      <td>...</td>\n",
              "      <td>...</td>\n",
              "      <td>...</td>\n",
              "      <td>...</td>\n",
              "      <td>...</td>\n",
              "    </tr>\n",
              "    <tr>\n",
              "      <th>35896</th>\n",
              "      <td>2018</td>\n",
              "      <td>2018-04-26</td>\n",
              "      <td>08:00:00</td>\n",
              "      <td>4</td>\n",
              "      <td>Puebla</td>\n",
              "      <td>Puebla</td>\n",
              "      <td>Puebla</td>\n",
              "      <td>19.051201, -98.212116</td>\n",
              "      <td>Mexicana</td>\n",
              "      <td>Hombre</td>\n",
              "      <td>22</td>\n",
              "      <td>1.60</td>\n",
              "      <td>Delgada</td>\n",
              "      <td>Lunar En La Mejilla Y Tatuaje En El Cuello En ...</td>\n",
              "      <td>Ninguno</td>\n",
              "      <td>FGE - Puebla</td>\n",
              "    </tr>\n",
              "    <tr>\n",
              "      <th>35897</th>\n",
              "      <td>2018</td>\n",
              "      <td>2018-01-08</td>\n",
              "      <td>11:00:00</td>\n",
              "      <td>112</td>\n",
              "      <td>Colima</td>\n",
              "      <td>Villa De Alvarez</td>\n",
              "      <td>Villa De Alvarez</td>\n",
              "      <td>19.25, -103.73333</td>\n",
              "      <td>Mexicana</td>\n",
              "      <td>Mujer</td>\n",
              "      <td>27</td>\n",
              "      <td>1.70</td>\n",
              "      <td>Robusta</td>\n",
              "      <td>El Ojo Izquierdo Tiene Un Enfermedad Como Tic,...</td>\n",
              "      <td>Ninguno</td>\n",
              "      <td>PGJ - Colima</td>\n",
              "    </tr>\n",
              "    <tr>\n",
              "      <th>35898</th>\n",
              "      <td>2015</td>\n",
              "      <td>2015-02-02</td>\n",
              "      <td>07:00:00</td>\n",
              "      <td>1183</td>\n",
              "      <td>Puebla</td>\n",
              "      <td>Chila</td>\n",
              "      <td>Chilas De Las Flores</td>\n",
              "      <td>17.965896, -97.864616</td>\n",
              "      <td>Mexicana</td>\n",
              "      <td>Mujer</td>\n",
              "      <td>86</td>\n",
              "      <td>1.77</td>\n",
              "      <td>Mediana</td>\n",
              "      <td>No Especificado</td>\n",
              "      <td>Ninguno</td>\n",
              "      <td>FGE - Puebla</td>\n",
              "    </tr>\n",
              "    <tr>\n",
              "      <th>35899</th>\n",
              "      <td>2017</td>\n",
              "      <td>2017-08-22</td>\n",
              "      <td>04:00:00</td>\n",
              "      <td>251</td>\n",
              "      <td>Colima</td>\n",
              "      <td>Villa De Alvarez</td>\n",
              "      <td>Villa De Alvarez</td>\n",
              "      <td>19.25, -103.73333</td>\n",
              "      <td>Mexicana</td>\n",
              "      <td>Hombre</td>\n",
              "      <td>41</td>\n",
              "      <td>1.76</td>\n",
              "      <td>Robusta</td>\n",
              "      <td>Tatuaje En El Brazo Izquierdo Con La Imagen De...</td>\n",
              "      <td>Ninguno</td>\n",
              "      <td>PGJ - Colima</td>\n",
              "    </tr>\n",
              "    <tr>\n",
              "      <th>35900</th>\n",
              "      <td>2018</td>\n",
              "      <td>2018-04-11</td>\n",
              "      <td>02:00:00</td>\n",
              "      <td>19</td>\n",
              "      <td>Nuevo Leon</td>\n",
              "      <td>San Nicolas De Los Garza</td>\n",
              "      <td>San Nicolas De Los Garza</td>\n",
              "      <td>25.738505, -100.280753</td>\n",
              "      <td>Mexicana</td>\n",
              "      <td>Mujer</td>\n",
              "      <td>14</td>\n",
              "      <td>1.60</td>\n",
              "      <td>Delgada</td>\n",
              "      <td>No Especificado</td>\n",
              "      <td>Ninguno</td>\n",
              "      <td>PGJ - Nuevo Leon</td>\n",
              "    </tr>\n",
              "  </tbody>\n",
              "</table>\n",
              "<p>35901 rows × 16 columns</p>\n",
              "</div>\n",
              "      <button class=\"colab-df-convert\" onclick=\"convertToInteractive('df-7bff3854-9983-49d3-b411-5bac62f7c57f')\"\n",
              "              title=\"Convert this dataframe to an interactive table.\"\n",
              "              style=\"display:none;\">\n",
              "        \n",
              "  <svg xmlns=\"http://www.w3.org/2000/svg\" height=\"24px\"viewBox=\"0 0 24 24\"\n",
              "       width=\"24px\">\n",
              "    <path d=\"M0 0h24v24H0V0z\" fill=\"none\"/>\n",
              "    <path d=\"M18.56 5.44l.94 2.06.94-2.06 2.06-.94-2.06-.94-.94-2.06-.94 2.06-2.06.94zm-11 1L8.5 8.5l.94-2.06 2.06-.94-2.06-.94L8.5 2.5l-.94 2.06-2.06.94zm10 10l.94 2.06.94-2.06 2.06-.94-2.06-.94-.94-2.06-.94 2.06-2.06.94z\"/><path d=\"M17.41 7.96l-1.37-1.37c-.4-.4-.92-.59-1.43-.59-.52 0-1.04.2-1.43.59L10.3 9.45l-7.72 7.72c-.78.78-.78 2.05 0 2.83L4 21.41c.39.39.9.59 1.41.59.51 0 1.02-.2 1.41-.59l7.78-7.78 2.81-2.81c.8-.78.8-2.07 0-2.86zM5.41 20L4 18.59l7.72-7.72 1.47 1.35L5.41 20z\"/>\n",
              "  </svg>\n",
              "      </button>\n",
              "      \n",
              "  <style>\n",
              "    .colab-df-container {\n",
              "      display:flex;\n",
              "      flex-wrap:wrap;\n",
              "      gap: 12px;\n",
              "    }\n",
              "\n",
              "    .colab-df-convert {\n",
              "      background-color: #E8F0FE;\n",
              "      border: none;\n",
              "      border-radius: 50%;\n",
              "      cursor: pointer;\n",
              "      display: none;\n",
              "      fill: #1967D2;\n",
              "      height: 32px;\n",
              "      padding: 0 0 0 0;\n",
              "      width: 32px;\n",
              "    }\n",
              "\n",
              "    .colab-df-convert:hover {\n",
              "      background-color: #E2EBFA;\n",
              "      box-shadow: 0px 1px 2px rgba(60, 64, 67, 0.3), 0px 1px 3px 1px rgba(60, 64, 67, 0.15);\n",
              "      fill: #174EA6;\n",
              "    }\n",
              "\n",
              "    [theme=dark] .colab-df-convert {\n",
              "      background-color: #3B4455;\n",
              "      fill: #D2E3FC;\n",
              "    }\n",
              "\n",
              "    [theme=dark] .colab-df-convert:hover {\n",
              "      background-color: #434B5C;\n",
              "      box-shadow: 0px 1px 3px 1px rgba(0, 0, 0, 0.15);\n",
              "      filter: drop-shadow(0px 1px 2px rgba(0, 0, 0, 0.3));\n",
              "      fill: #FFFFFF;\n",
              "    }\n",
              "  </style>\n",
              "\n",
              "      <script>\n",
              "        const buttonEl =\n",
              "          document.querySelector('#df-7bff3854-9983-49d3-b411-5bac62f7c57f button.colab-df-convert');\n",
              "        buttonEl.style.display =\n",
              "          google.colab.kernel.accessAllowed ? 'block' : 'none';\n",
              "\n",
              "        async function convertToInteractive(key) {\n",
              "          const element = document.querySelector('#df-7bff3854-9983-49d3-b411-5bac62f7c57f');\n",
              "          const dataTable =\n",
              "            await google.colab.kernel.invokeFunction('convertToInteractive',\n",
              "                                                     [key], {});\n",
              "          if (!dataTable) return;\n",
              "\n",
              "          const docLinkHtml = 'Like what you see? Visit the ' +\n",
              "            '<a target=\"_blank\" href=https://colab.research.google.com/notebooks/data_table.ipynb>data table notebook</a>'\n",
              "            + ' to learn more about interactive tables.';\n",
              "          element.innerHTML = '';\n",
              "          dataTable['output_type'] = 'display_data';\n",
              "          await google.colab.output.renderOutput(dataTable, element);\n",
              "          const docLink = document.createElement('div');\n",
              "          docLink.innerHTML = docLinkHtml;\n",
              "          element.appendChild(docLink);\n",
              "        }\n",
              "      </script>\n",
              "    </div>\n",
              "  </div>\n",
              "  "
            ]
          },
          "metadata": {},
          "execution_count": 4
        }
      ]
    },
    {
      "cell_type": "markdown",
      "source": [
        "\n",
        "\n",
        "---\n",
        "\n",
        "# Distribuciones\n",
        "\n",
        "---\n",
        "\n"
      ],
      "metadata": {
        "id": "ww2R9bcmoW7_"
      }
    },
    {
      "cell_type": "markdown",
      "source": [
        "El `DataFrame` tiene el siguiente tipo de variables:\n",
        "\n"
      ],
      "metadata": {
        "id": "EhKRX-Bkon7Q"
      }
    },
    {
      "cell_type": "code",
      "source": [
        "df.dtypes"
      ],
      "metadata": {
        "colab": {
          "base_uri": "https://localhost:8080/"
        },
        "id": "Y-kvUoaJpk8U",
        "outputId": "252fa616-6c38-4098-8cf1-415ef411033b"
      },
      "execution_count": 5,
      "outputs": [
        {
          "output_type": "execute_result",
          "data": {
            "text/plain": [
              "anio                    int64\n",
              "fecha                  object\n",
              "hora                   object\n",
              "dias_desaparecido       int64\n",
              "entidad                object\n",
              "municipio              object\n",
              "localidad              object\n",
              "coordenadas            object\n",
              "nacionalidad           object\n",
              "sexo                   object\n",
              "edad                    int64\n",
              "estatura              float64\n",
              "complexion             object\n",
              "senas_particulares     object\n",
              "discapacidad           object\n",
              "dependecia_origen      object\n",
              "dtype: object"
            ]
          },
          "metadata": {},
          "execution_count": 5
        }
      ]
    },
    {
      "cell_type": "markdown",
      "source": [
        "\n",
        "\n",
        "> Gracias a `dtypes` podemos ver que hay tres variables de tipo `int64` y una variable de tipo `float64`.\n",
        "\n"
      ],
      "metadata": {
        "id": "TxX3AMekpxUW"
      }
    },
    {
      "cell_type": "markdown",
      "source": [
        "#Boxplot"
      ],
      "metadata": {
        "id": "FF7EgAbWzcxz"
      }
    },
    {
      "cell_type": "markdown",
      "source": [
        "\n",
        "Hay cuatro variables numéricas en nuestro dataset: año, días de desaparecido, edad, y estatura. Podemos ver la distribución de cada una mediante un boxplot.\n"
      ],
      "metadata": {
        "id": "nhUAB5-9qfl7"
      }
    },
    {
      "cell_type": "code",
      "source": [
        "sns.set(style=\"whitegrid\")\n",
        "sns.boxplot(x=df['anio'])"
      ],
      "metadata": {
        "colab": {
          "base_uri": "https://localhost:8080/",
          "height": 302
        },
        "id": "k7w3J0EXsDFw",
        "outputId": "71273e43-25cb-4640-f7d3-e4aa2715ab21"
      },
      "execution_count": 6,
      "outputs": [
        {
          "output_type": "execute_result",
          "data": {
            "text/plain": [
              "<matplotlib.axes._subplots.AxesSubplot at 0x7fe318ffb890>"
            ]
          },
          "metadata": {},
          "execution_count": 6
        },
        {
          "output_type": "display_data",
          "data": {
            "text/plain": [
              "<Figure size 432x288 with 1 Axes>"
            ],
            "image/png": "[encoded data removed]"
          },
          "metadata": {}
        }
      ]
    },
    {
      "cell_type": "markdown",
      "source": [
        "\n",
        "\n",
        "> Podemos ver que la mayor parte de los casos de personas desaparecidas se han dado en los años más recientes dado que la distribución tiende a los malores más altos del conjunto de datos. También se puede ver que los datos atípicos se extienden a la izquierda de la gráfica.\n",
        "\n"
      ],
      "metadata": {
        "id": "alWAL8rdsN8U"
      }
    },
    {
      "cell_type": "code",
      "source": [
        "sns.set(style=\"whitegrid\")\n",
        "sns.boxplot(x=df['dias_desaparecido'])"
      ],
      "metadata": {
        "colab": {
          "base_uri": "https://localhost:8080/",
          "height": 302
        },
        "id": "7fTPCez9s3wO",
        "outputId": "113b9e34-61b9-42bf-ebfd-27ec39945ee9"
      },
      "execution_count": 7,
      "outputs": [
        {
          "output_type": "execute_result",
          "data": {
            "text/plain": [
              "<matplotlib.axes._subplots.AxesSubplot at 0x7fe318f62d50>"
            ]
          },
          "metadata": {},
          "execution_count": 7
        },
        {
          "output_type": "display_data",
          "data": {
            "text/plain": [
              "<Figure size 432x288 with 1 Axes>"
            ],
            "image/png": "[encoded data removed]"
          },
          "metadata": {}
        }
      ]
    },
    {
      "cell_type": "markdown",
      "source": [
        "\n",
        "\n",
        "> La distribución de los días que lleva la víctima desaparecida tiende a los valores pequeños del conjunto de datos. Los valores atípicos se extienden a la derecha del gráfico.\n",
        "\n"
      ],
      "metadata": {
        "id": "Jdxka22ctI25"
      }
    },
    {
      "cell_type": "code",
      "source": [
        "sns.set(style=\"whitegrid\")\n",
        "sns.boxplot(x=df['edad'])"
      ],
      "metadata": {
        "colab": {
          "base_uri": "https://localhost:8080/",
          "height": 302
        },
        "id": "HzNivVEotAkE",
        "outputId": "b6c57a12-6f0f-4f48-e400-23528f49502c"
      },
      "execution_count": 8,
      "outputs": [
        {
          "output_type": "execute_result",
          "data": {
            "text/plain": [
              "<matplotlib.axes._subplots.AxesSubplot at 0x7fe318e64090>"
            ]
          },
          "metadata": {},
          "execution_count": 8
        },
        {
          "output_type": "display_data",
          "data": {
            "text/plain": [
              "<Figure size 432x288 with 1 Axes>"
            ],
            "image/png": "[encoded data removed]"
          },
          "metadata": {}
        }
      ]
    },
    {
      "cell_type": "markdown",
      "source": [
        "\n",
        "\n",
        "> El 50% de los datos acerca de la edad registrada en el set de datos pertenece al rango de 20-40 años aproximadamente, teniendo una distribución que tiende a los valores pequeños del conjunto de datos. La distribución que se muestra para esta variable es más dispersa que las mostradas anteriormente.\n",
        "\n"
      ],
      "metadata": {
        "id": "EzLEZzv4tnqL"
      }
    },
    {
      "cell_type": "code",
      "source": [
        "sns.set(style=\"whitegrid\")\n",
        "sns.boxplot(x=df['estatura'])"
      ],
      "metadata": {
        "colab": {
          "base_uri": "https://localhost:8080/",
          "height": 302
        },
        "id": "uTQ_L57xtENu",
        "outputId": "c0fffaf8-bf80-4414-dd8a-1127f6572a8d"
      },
      "execution_count": 9,
      "outputs": [
        {
          "output_type": "execute_result",
          "data": {
            "text/plain": [
              "<matplotlib.axes._subplots.AxesSubplot at 0x7fe3188e3b50>"
            ]
          },
          "metadata": {},
          "execution_count": 9
        },
        {
          "output_type": "display_data",
          "data": {
            "text/plain": [
              "<Figure size 432x288 with 1 Axes>"
            ],
            "image/png": "[encoded data removed]"
          },
          "metadata": {}
        }
      ]
    },
    {
      "cell_type": "markdown",
      "source": [
        "\n",
        "\n",
        "> La estatura es la variable que tiene más valores atípicos comparada con las anteriores. Tiene valores atípicos en ambos extremos de la cola. Los datos se concentran en los valores más altos del conjunto de datos.\n",
        "\n"
      ],
      "metadata": {
        "id": "NrDo_wY4uMi0"
      }
    },
    {
      "cell_type": "markdown",
      "source": [
        "A pesar de que nuestras variables numéricas tienen \"valores atípicos\", no serán filtrados del conjunto de datos. Los datos que están fuera del boxplot son casos registrados oficialmente como personas desaparecidas, por lo que bajo el contexto del set de datos sabemos que no son errores o valores anormales. "
      ],
      "metadata": {
        "id": "7UdBnqc1ulcf"
      }
    },
    {
      "cell_type": "markdown",
      "source": [
        "#Tabla de Frecuencias"
      ],
      "metadata": {
        "id": "9Lcx1k7Dy5xa"
      }
    },
    {
      "cell_type": "markdown",
      "source": [
        "Para obtener más información de nuestras variables numéricas podemos desarrollar otro tipo de visualizaciones. La variable de año puede darnos más información acerca de los casos de personas desaparecidas en cierto rango de tiempo mediante una tabla de frecuencias."
      ],
      "metadata": {
        "id": "UfP3y_-tydal"
      }
    },
    {
      "cell_type": "markdown",
      "source": [
        "Empezamos obteniendo el rango de nuestro conjunto de datos.\n"
      ],
      "metadata": {
        "id": "JjGUYq1vzoFj"
      }
    },
    {
      "cell_type": "code",
      "source": [
        "anios = df['anio']\n",
        "anios.max() - anios.min()"
      ],
      "metadata": {
        "colab": {
          "base_uri": "https://localhost:8080/"
        },
        "id": "oTxnSEf_zotv",
        "outputId": "a47d81d1-97c6-4829-acfd-0f9387cdfcb8"
      },
      "execution_count": 10,
      "outputs": [
        {
          "output_type": "execute_result",
          "data": {
            "text/plain": [
              "50"
            ]
          },
          "metadata": {},
          "execution_count": 10
        }
      ]
    },
    {
      "cell_type": "markdown",
      "source": [
        "\n",
        "\n",
        "> Dado que nuestro rango es muy pequeño, decidimos dividir en 10 segmentos.\n",
        "\n"
      ],
      "metadata": {
        "id": "jWMoJ64x0HK-"
      }
    },
    {
      "cell_type": "markdown",
      "source": [
        "Usando `cut` podemos segmentar nuestros datos."
      ],
      "metadata": {
        "id": "C4rylrOLz-b1"
      }
    },
    {
      "cell_type": "code",
      "source": [
        "pd.cut(anios, 10)"
      ],
      "metadata": {
        "colab": {
          "base_uri": "https://localhost:8080/"
        },
        "id": "NbhiIQ9m0eSJ",
        "outputId": "636cc423-dba1-438e-c89e-b4931ecb15c0"
      },
      "execution_count": 11,
      "outputs": [
        {
          "output_type": "execute_result",
          "data": {
            "text/plain": [
              "0        (2008.0, 2013.0]\n",
              "1        (2003.0, 2008.0]\n",
              "2        (2008.0, 2013.0]\n",
              "3        (2003.0, 2008.0]\n",
              "4        (2003.0, 2008.0]\n",
              "               ...       \n",
              "35896    (2013.0, 2018.0]\n",
              "35897    (2013.0, 2018.0]\n",
              "35898    (2013.0, 2018.0]\n",
              "35899    (2013.0, 2018.0]\n",
              "35900    (2013.0, 2018.0]\n",
              "Name: anio, Length: 35901, dtype: category\n",
              "Categories (10, interval[float64, right]): [(1967.95, 1973.0] < (1973.0, 1978.0] < (1978.0, 1983.0] <\n",
              "                                            (1983.0, 1988.0] ... (1998.0, 2003.0] <\n",
              "                                            (2003.0, 2008.0] < (2008.0, 2013.0] < (2013.0, 2018.0]]"
            ]
          },
          "metadata": {},
          "execution_count": 11
        }
      ]
    },
    {
      "cell_type": "markdown",
      "source": [
        "La serie resultante la podemos agrupar y hacer el conteo de frecuencias."
      ],
      "metadata": {
        "id": "FZmNmm_X0rmo"
      }
    },
    {
      "cell_type": "code",
      "source": [
        "segmentos = pd.cut(anios, 10)\n",
        "\n",
        "df['anio'].groupby(segmentos).count()"
      ],
      "metadata": {
        "colab": {
          "base_uri": "https://localhost:8080/"
        },
        "id": "dvhJCYoH0yPq",
        "outputId": "7d7d7ef4-c56c-4d60-af55-840e815e1b95"
      },
      "execution_count": 16,
      "outputs": [
        {
          "output_type": "execute_result",
          "data": {
            "text/plain": [
              "anio\n",
              "(1967.95, 1973.0]        3\n",
              "(1973.0, 1978.0]         4\n",
              "(1978.0, 1983.0]         4\n",
              "(1983.0, 1988.0]         7\n",
              "(1988.0, 1993.0]        11\n",
              "(1993.0, 1998.0]        25\n",
              "(1998.0, 2003.0]        73\n",
              "(2003.0, 2008.0]      1568\n",
              "(2008.0, 2013.0]     15567\n",
              "(2013.0, 2018.0]     18639\n",
              "Name: anio, dtype: int64"
            ]
          },
          "metadata": {},
          "execution_count": 16
        }
      ]
    },
    {
      "cell_type": "markdown",
      "source": [
        "\n",
        "\n",
        "> Los casos de personas desaparecidas se concentran en los últimos 10 años de la lista (2008-2018), teniendo 15,567 casos del 2008-2013 y 18,639 casos del 2013-2018.\n",
        "\n"
      ],
      "metadata": {
        "id": "KzhZJbmH1EgN"
      }
    },
    {
      "cell_type": "markdown",
      "source": [
        "#Histograma"
      ],
      "metadata": {
        "id": "C6YigXOM15nZ"
      }
    },
    {
      "cell_type": "markdown",
      "source": [
        "Las tres variables numéricas restantes pueden visualizarse en un histograma para obtener información más detallada de su distribución. "
      ],
      "metadata": {
        "id": "kZxtsaoo18jF"
      }
    },
    {
      "cell_type": "code",
      "source": [
        "sns.set(style='white')\n",
        "sns.distplot(df['dias_desaparecido'], kde=False, norm_hist=False, bins=40)"
      ],
      "metadata": {
        "colab": {
          "base_uri": "https://localhost:8080/",
          "height": 302
        },
        "id": "4mSMpHZJ3NMr",
        "outputId": "9f784b8e-321f-43be-9f21-406e2700df82"
      },
      "execution_count": 25,
      "outputs": [
        {
          "output_type": "execute_result",
          "data": {
            "text/plain": [
              "<matplotlib.axes._subplots.AxesSubplot at 0x7fe31817a550>"
            ]
          },
          "metadata": {},
          "execution_count": 25
        },
        {
          "output_type": "display_data",
          "data": {
            "text/plain": [
              "<Figure size 432x288 with 1 Axes>"
            ],
            "image/png": "[encoded data removed]"
          },
          "metadata": {}
        }
      ]
    },
    {
      "cell_type": "code",
      "source": [
        "dias_des_valores=df.dias_desaparecido.values\n",
        "print(\"kurtosis\",kurtosis(dias_des_valores))\n",
        "print(\"asimetria\",skew(dias_des_valores))"
      ],
      "metadata": {
        "colab": {
          "base_uri": "https://localhost:8080/"
        },
        "id": "dCbzxwPA4bv-",
        "outputId": "2aaad711-5929-40bb-9d29-f599d56ab22e"
      },
      "execution_count": 32,
      "outputs": [
        {
          "output_type": "stream",
          "name": "stdout",
          "text": [
            "kurtosis 9.10798077972732\n",
            "asimetria 1.2970145907278083\n"
          ]
        }
      ]
    },
    {
      "cell_type": "code",
      "source": [
        "sns.distplot(df['edad'], kde=False, norm_hist=False, bins=20)"
      ],
      "metadata": {
        "colab": {
          "base_uri": "https://localhost:8080/",
          "height": 302
        },
        "id": "nCpsUQZL3jz-",
        "outputId": "7e13ce12-efa8-4632-b33d-ddf8d0d3fe59"
      },
      "execution_count": 20,
      "outputs": [
        {
          "output_type": "execute_result",
          "data": {
            "text/plain": [
              "<matplotlib.axes._subplots.AxesSubplot at 0x7fe3184a6bd0>"
            ]
          },
          "metadata": {},
          "execution_count": 20
        },
        {
          "output_type": "display_data",
          "data": {
            "text/plain": [
              "<Figure size 432x288 with 1 Axes>"
            ],
            "image/png": "[encoded data removed]"
          },
          "metadata": {}
        }
      ]
    },
    {
      "cell_type": "code",
      "source": [
        "edades_valores=df.edad.values\n",
        "print(\"kurtosis\",kurtosis(edades_valores))\n",
        "print(\"asimetria\",skew(edades_valores))"
      ],
      "metadata": {
        "colab": {
          "base_uri": "https://localhost:8080/"
        },
        "id": "Q4SnD3On7Hb-",
        "outputId": "b866c261-018d-4656-dcb8-26f64371ae09"
      },
      "execution_count": 31,
      "outputs": [
        {
          "output_type": "stream",
          "name": "stdout",
          "text": [
            "kurtosis 1.5296287761320748\n",
            "asimetria 1.0113409801553876\n"
          ]
        }
      ]
    },
    {
      "cell_type": "code",
      "source": [
        "sns.distplot(df['estatura'], kde=False, norm_hist=False, bins=30)"
      ],
      "metadata": {
        "colab": {
          "base_uri": "https://localhost:8080/",
          "height": 305
        },
        "id": "JnMHluGk3ncX",
        "outputId": "277cf01e-89c2-44dd-f04d-7f493201397a"
      },
      "execution_count": 23,
      "outputs": [
        {
          "output_type": "execute_result",
          "data": {
            "text/plain": [
              "<matplotlib.axes._subplots.AxesSubplot at 0x7fe3185ba810>"
            ]
          },
          "metadata": {},
          "execution_count": 23
        },
        {
          "output_type": "display_data",
          "data": {
            "text/plain": [
              "<Figure size 432x288 with 1 Axes>"
            ],
            "image/png": "[encoded data removed]"
          },
          "metadata": {}
        }
      ]
    },
    {
      "cell_type": "code",
      "source": [
        "estatura_valores=df.estatura.values\n",
        "print(\"kurtosis\",kurtosis(estatura_valores))\n",
        "print(\"asimetria\",skew(estatura_valores))"
      ],
      "metadata": {
        "colab": {
          "base_uri": "https://localhost:8080/"
        },
        "id": "-F1HPR467X7Y",
        "outputId": "9ca6dcce-b61b-4723-8a59-3a2388b8d4fc"
      },
      "execution_count": 33,
      "outputs": [
        {
          "output_type": "stream",
          "name": "stdout",
          "text": [
            "kurtosis 21.791569364122182\n",
            "asimetria -3.605588838799281\n"
          ]
        }
      ]
    },
    {
      "cell_type": "markdown",
      "source": [
        "#Gráfica de densidad"
      ],
      "metadata": {
        "id": "RGtR7mgd7kU7"
      }
    }
  ]
}