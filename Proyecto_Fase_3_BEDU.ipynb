{
  "nbformat": 4,
  "nbformat_minor": 0,
  "metadata": {
    "colab": {
      "provenance": [],
      "collapsed_sections": [
        "hJuEojevKVg0",
        "mUS9S0RCRLuK",
        "ww2R9bcmoW7_",
        "FF7EgAbWzcxz",
        "9Lcx1k7Dy5xa"
      ],
      "mount_file_id": "1XieuGhPItsCJggKiREQTSZ_chbx9knEm",
      "authorship_tag": "ABX9TyPIBlpmQHPfG409CAYeyU4K",
      "include_colab_link": true
    },
    "kernelspec": {
      "name": "python3",
      "display_name": "Python 3"
    },
    "language_info": {
      "name": "python"
    }
  },
  "cells": [
    {
      "cell_type": "markdown",
      "metadata": {
        "id": "view-in-github",
        "colab_type": "text"
      },
      "source": [
        "<a href=\"https://colab.research.google.com/github/MinervaNunez/Proyecto-_Fase3_Python/blob/rama-minerva/Proyecto_Fase_3_BEDU.ipynb\" target=\"_parent\"><img src=\"https://colab.research.google.com/assets/colab-badge.svg\" alt=\"Open In Colab\"/></a>"
      ]
    },
    {
      "cell_type": "markdown",
      "source": [
        "---\n",
        "\n",
        "## Librerías necesarias\n",
        "\n",
        "---"
      ],
      "metadata": {
        "id": "hJuEojevKVg0"
      }
    },
    {
      "cell_type": "code",
      "execution_count": 3,
      "metadata": {
        "colab": {
          "base_uri": "https://localhost:8080/"
        },
        "id": "QTXb5aSNJ__v",
        "outputId": "6801f332-ccf5-4c6c-dbed-47d93686427a"
      },
      "outputs": [
        {
          "output_type": "stream",
          "name": "stdout",
          "text": [
            "Looking in indexes: https://pypi.org/simple, https://us-python.pkg.dev/colab-wheels/public/simple/\n",
            "Requirement already satisfied: geopandas in /usr/local/lib/python3.7/dist-packages (0.10.2)\n",
            "Requirement already satisfied: shapely>=1.6 in /usr/local/lib/python3.7/dist-packages (from geopandas) (1.8.5.post1)\n",
            "Requirement already satisfied: pyproj>=2.2.0 in /usr/local/lib/python3.7/dist-packages (from geopandas) (3.2.1)\n",
            "Requirement already satisfied: pandas>=0.25.0 in /usr/local/lib/python3.7/dist-packages (from geopandas) (1.3.5)\n",
            "Requirement already satisfied: fiona>=1.8 in /usr/local/lib/python3.7/dist-packages (from geopandas) (1.8.22)\n",
            "Requirement already satisfied: attrs>=17 in /usr/local/lib/python3.7/dist-packages (from fiona>=1.8->geopandas) (22.1.0)\n",
            "Requirement already satisfied: setuptools in /usr/local/lib/python3.7/dist-packages (from fiona>=1.8->geopandas) (57.4.0)\n",
            "Requirement already satisfied: six>=1.7 in /usr/local/lib/python3.7/dist-packages (from fiona>=1.8->geopandas) (1.15.0)\n",
            "Requirement already satisfied: munch in /usr/local/lib/python3.7/dist-packages (from fiona>=1.8->geopandas) (2.5.0)\n",
            "Requirement already satisfied: cligj>=0.5 in /usr/local/lib/python3.7/dist-packages (from fiona>=1.8->geopandas) (0.7.2)\n",
            "Requirement already satisfied: click>=4.0 in /usr/local/lib/python3.7/dist-packages (from fiona>=1.8->geopandas) (7.1.2)\n",
            "Requirement already satisfied: certifi in /usr/local/lib/python3.7/dist-packages (from fiona>=1.8->geopandas) (2022.9.24)\n",
            "Requirement already satisfied: click-plugins>=1.0 in /usr/local/lib/python3.7/dist-packages (from fiona>=1.8->geopandas) (1.1.1)\n",
            "Requirement already satisfied: numpy>=1.17.3 in /usr/local/lib/python3.7/dist-packages (from pandas>=0.25.0->geopandas) (1.21.6)\n",
            "Requirement already satisfied: python-dateutil>=2.7.3 in /usr/local/lib/python3.7/dist-packages (from pandas>=0.25.0->geopandas) (2.8.2)\n",
            "Requirement already satisfied: pytz>=2017.3 in /usr/local/lib/python3.7/dist-packages (from pandas>=0.25.0->geopandas) (2022.5)\n"
          ]
        }
      ],
      "source": [
        "import seaborn as sns\n",
        "from scipy.stats import skew, kurtosis\n",
        "import matplotlib.pyplot as plt\n",
        "import pandas as pd\n",
        "import numpy as np\n",
        "import folium\n",
        "!pip install geopandas\n",
        "import geopandas as gpd\n",
        "from shapely.geometry import Point, Polygon"
      ]
    },
    {
      "cell_type": "markdown",
      "source": [
        "\n",
        "\n",
        "---\n",
        "\n",
        "# Lectura de datos\n",
        "\n",
        "---\n",
        "\n"
      ],
      "metadata": {
        "id": "mUS9S0RCRLuK"
      }
    },
    {
      "cell_type": "markdown",
      "source": [
        "Realizamos la lectura de los datos a partir del archivo .csv obtenido en el módulo anterior.\n",
        "\n"
      ],
      "metadata": {
        "id": "BOQ_PYt8RSXf"
      }
    },
    {
      "cell_type": "code",
      "source": [
        "df = pd.read_csv('https://raw.githubusercontent.com/MinervaNunez/Proyecto-_Fase3_Python/main/RNPEDFC_Final.csv',encoding='ISO-8859-1')"
      ],
      "metadata": {
        "id": "6bqHgWL_Or4w"
      },
      "execution_count": 4,
      "outputs": []
    },
    {
      "cell_type": "markdown",
      "source": [
        "El `DataFrame` resultante se muestra a continuación."
      ],
      "metadata": {
        "id": "9OCOCoNMKiQm"
      }
    },
    {
      "cell_type": "code",
      "source": [
        "df"
      ],
      "metadata": {
        "colab": {
          "base_uri": "https://localhost:8080/",
          "height": 806
        },
        "id": "bV-bVzNvnBRz",
        "outputId": "d0409063-f3df-4e38-a531-5bb8d2c7d930"
      },
      "execution_count": 5,
      "outputs": [
        {
          "output_type": "execute_result",
          "data": {
            "text/plain": [
              "       anio       fecha      hora  dias_desaparecido           entidad  \\\n",
              "0      2012  2012-03-18  05:00:00               2234            Sonora   \n",
              "1      2007  2007-02-05  02:00:26               4102  Estado De Mexico   \n",
              "2      2009  2009-03-14  08:30:54               3334  Estado De Mexico   \n",
              "3      2006  2006-12-23  08:00:28               4146  Estado De Mexico   \n",
              "4      2008  2008-01-11  12:00:17               3762  Estado De Mexico   \n",
              "...     ...         ...       ...                ...               ...   \n",
              "35896  2018  2018-04-26  08:00:00                  4            Puebla   \n",
              "35897  2018  2018-01-08  11:00:00                112            Colima   \n",
              "35898  2015  2015-02-02  07:00:00               1183            Puebla   \n",
              "35899  2017  2017-08-22  04:00:00                251            Colima   \n",
              "35900  2018  2018-04-11  02:00:00                 19        Nuevo Leon   \n",
              "\n",
              "                      municipio                 localidad  \\\n",
              "0                       Navojoa                   Navojoa   \n",
              "1                Valle De Bravo            Valle De Bravo   \n",
              "2                        Chalco                    Chalco   \n",
              "3           Tlalnepantla De Baz       Tlalnepantla De Baz   \n",
              "4                        Toluca                    Toluca   \n",
              "...                         ...                       ...   \n",
              "35896                    Puebla                    Puebla   \n",
              "35897          Villa De Alvarez          Villa De Alvarez   \n",
              "35898                     Chila      Chilas De Las Flores   \n",
              "35899          Villa De Alvarez          Villa De Alvarez   \n",
              "35900  San Nicolas De Los Garza  San Nicolas De Los Garza   \n",
              "\n",
              "                  coordenadas nacionalidad    sexo  edad  estatura complexion  \\\n",
              "0      27.069053, -109.439423     Mexicana   Mujer     7      1.10    Delgada   \n",
              "1       19.16368, -100.134684     Mexicana   Mujer     4      1.10    Delgada   \n",
              "2         19.266337, -98.8978     Mexicana  Hombre     6      1.10    Delgada   \n",
              "3       19.547512, -99.193851     Mexicana  Hombre    10      1.10    Delgada   \n",
              "4            18.078, -91.6552     Mexicana  Hombre     4      1.10    Delgada   \n",
              "...                       ...          ...     ...   ...       ...        ...   \n",
              "35896   19.051201, -98.212116     Mexicana  Hombre    22      1.60    Delgada   \n",
              "35897       19.25, -103.73333     Mexicana   Mujer    27      1.70    Robusta   \n",
              "35898   17.965896, -97.864616     Mexicana   Mujer    86      1.77    Mediana   \n",
              "35899       19.25, -103.73333     Mexicana  Hombre    41      1.76    Robusta   \n",
              "35900  25.738505, -100.280753     Mexicana   Mujer    14      1.60    Delgada   \n",
              "\n",
              "                                      senas_particulares discapacidad  \\\n",
              "0      Tiene Una Cicatriz En La Rodilla Izquierda Por...      Ninguno   \n",
              "1                                        No Especificado      Ninguno   \n",
              "2      Manchas, Parte Superior De Pierna Derecha, Cic...      Ninguno   \n",
              "3      Lunares, A La Altura De La Cinturaforma De Man...      Ninguno   \n",
              "4                                        No Especificado      Ninguno   \n",
              "...                                                  ...          ...   \n",
              "35896  Lunar En La Mejilla Y Tatuaje En El Cuello En ...      Ninguno   \n",
              "35897  El Ojo Izquierdo Tiene Un Enfermedad Como Tic,...      Ninguno   \n",
              "35898                                    No Especificado      Ninguno   \n",
              "35899  Tatuaje En El Brazo Izquierdo Con La Imagen De...      Ninguno   \n",
              "35900                                    No Especificado      Ninguno   \n",
              "\n",
              "            dependecia_origen  \n",
              "0                FGE - Sonora  \n",
              "1      FGJ - Estado De Mexico  \n",
              "2      FGJ - Estado De Mexico  \n",
              "3      FGJ - Estado De Mexico  \n",
              "4      FGJ - Estado De Mexico  \n",
              "...                       ...  \n",
              "35896            FGE - Puebla  \n",
              "35897            PGJ - Colima  \n",
              "35898            FGE - Puebla  \n",
              "35899            PGJ - Colima  \n",
              "35900        PGJ - Nuevo Leon  \n",
              "\n",
              "[35901 rows x 16 columns]"
            ],
            "text/html": [
              "\n",
              "  <div id=\"df-f522beb1-bf7b-4287-bd68-b2e271eb1c40\">\n",
              "    <div class=\"colab-df-container\">\n",
              "      <div>\n",
              "<style scoped>\n",
              "    .dataframe tbody tr th:only-of-type {\n",
              "        vertical-align: middle;\n",
              "    }\n",
              "\n",
              "    .dataframe tbody tr th {\n",
              "        vertical-align: top;\n",
              "    }\n",
              "\n",
              "    .dataframe thead th {\n",
              "        text-align: right;\n",
              "    }\n",
              "</style>\n",
              "<table border=\"1\" class=\"dataframe\">\n",
              "  <thead>\n",
              "    <tr style=\"text-align: right;\">\n",
              "      <th></th>\n",
              "      <th>anio</th>\n",
              "      <th>fecha</th>\n",
              "      <th>hora</th>\n",
              "      <th>dias_desaparecido</th>\n",
              "      <th>entidad</th>\n",
              "      <th>municipio</th>\n",
              "      <th>localidad</th>\n",
              "      <th>coordenadas</th>\n",
              "      <th>nacionalidad</th>\n",
              "      <th>sexo</th>\n",
              "      <th>edad</th>\n",
              "      <th>estatura</th>\n",
              "      <th>complexion</th>\n",
              "      <th>senas_particulares</th>\n",
              "      <th>discapacidad</th>\n",
              "      <th>dependecia_origen</th>\n",
              "    </tr>\n",
              "  </thead>\n",
              "  <tbody>\n",
              "    <tr>\n",
              "      <th>0</th>\n",
              "      <td>2012</td>\n",
              "      <td>2012-03-18</td>\n",
              "      <td>05:00:00</td>\n",
              "      <td>2234</td>\n",
              "      <td>Sonora</td>\n",
              "      <td>Navojoa</td>\n",
              "      <td>Navojoa</td>\n",
              "      <td>27.069053, -109.439423</td>\n",
              "      <td>Mexicana</td>\n",
              "      <td>Mujer</td>\n",
              "      <td>7</td>\n",
              "      <td>1.10</td>\n",
              "      <td>Delgada</td>\n",
              "      <td>Tiene Una Cicatriz En La Rodilla Izquierda Por...</td>\n",
              "      <td>Ninguno</td>\n",
              "      <td>FGE - Sonora</td>\n",
              "    </tr>\n",
              "    <tr>\n",
              "      <th>1</th>\n",
              "      <td>2007</td>\n",
              "      <td>2007-02-05</td>\n",
              "      <td>02:00:26</td>\n",
              "      <td>4102</td>\n",
              "      <td>Estado De Mexico</td>\n",
              "      <td>Valle De Bravo</td>\n",
              "      <td>Valle De Bravo</td>\n",
              "      <td>19.16368, -100.134684</td>\n",
              "      <td>Mexicana</td>\n",
              "      <td>Mujer</td>\n",
              "      <td>4</td>\n",
              "      <td>1.10</td>\n",
              "      <td>Delgada</td>\n",
              "      <td>No Especificado</td>\n",
              "      <td>Ninguno</td>\n",
              "      <td>FGJ - Estado De Mexico</td>\n",
              "    </tr>\n",
              "    <tr>\n",
              "      <th>2</th>\n",
              "      <td>2009</td>\n",
              "      <td>2009-03-14</td>\n",
              "      <td>08:30:54</td>\n",
              "      <td>3334</td>\n",
              "      <td>Estado De Mexico</td>\n",
              "      <td>Chalco</td>\n",
              "      <td>Chalco</td>\n",
              "      <td>19.266337, -98.8978</td>\n",
              "      <td>Mexicana</td>\n",
              "      <td>Hombre</td>\n",
              "      <td>6</td>\n",
              "      <td>1.10</td>\n",
              "      <td>Delgada</td>\n",
              "      <td>Manchas, Parte Superior De Pierna Derecha, Cic...</td>\n",
              "      <td>Ninguno</td>\n",
              "      <td>FGJ - Estado De Mexico</td>\n",
              "    </tr>\n",
              "    <tr>\n",
              "      <th>3</th>\n",
              "      <td>2006</td>\n",
              "      <td>2006-12-23</td>\n",
              "      <td>08:00:28</td>\n",
              "      <td>4146</td>\n",
              "      <td>Estado De Mexico</td>\n",
              "      <td>Tlalnepantla De Baz</td>\n",
              "      <td>Tlalnepantla De Baz</td>\n",
              "      <td>19.547512, -99.193851</td>\n",
              "      <td>Mexicana</td>\n",
              "      <td>Hombre</td>\n",
              "      <td>10</td>\n",
              "      <td>1.10</td>\n",
              "      <td>Delgada</td>\n",
              "      <td>Lunares, A La Altura De La Cinturaforma De Man...</td>\n",
              "      <td>Ninguno</td>\n",
              "      <td>FGJ - Estado De Mexico</td>\n",
              "    </tr>\n",
              "    <tr>\n",
              "      <th>4</th>\n",
              "      <td>2008</td>\n",
              "      <td>2008-01-11</td>\n",
              "      <td>12:00:17</td>\n",
              "      <td>3762</td>\n",
              "      <td>Estado De Mexico</td>\n",
              "      <td>Toluca</td>\n",
              "      <td>Toluca</td>\n",
              "      <td>18.078, -91.6552</td>\n",
              "      <td>Mexicana</td>\n",
              "      <td>Hombre</td>\n",
              "      <td>4</td>\n",
              "      <td>1.10</td>\n",
              "      <td>Delgada</td>\n",
              "      <td>No Especificado</td>\n",
              "      <td>Ninguno</td>\n",
              "      <td>FGJ - Estado De Mexico</td>\n",
              "    </tr>\n",
              "    <tr>\n",
              "      <th>...</th>\n",
              "      <td>...</td>\n",
              "      <td>...</td>\n",
              "      <td>...</td>\n",
              "      <td>...</td>\n",
              "      <td>...</td>\n",
              "      <td>...</td>\n",
              "      <td>...</td>\n",
              "      <td>...</td>\n",
              "      <td>...</td>\n",
              "      <td>...</td>\n",
              "      <td>...</td>\n",
              "      <td>...</td>\n",
              "      <td>...</td>\n",
              "      <td>...</td>\n",
              "      <td>...</td>\n",
              "      <td>...</td>\n",
              "    </tr>\n",
              "    <tr>\n",
              "      <th>35896</th>\n",
              "      <td>2018</td>\n",
              "      <td>2018-04-26</td>\n",
              "      <td>08:00:00</td>\n",
              "      <td>4</td>\n",
              "      <td>Puebla</td>\n",
              "      <td>Puebla</td>\n",
              "      <td>Puebla</td>\n",
              "      <td>19.051201, -98.212116</td>\n",
              "      <td>Mexicana</td>\n",
              "      <td>Hombre</td>\n",
              "      <td>22</td>\n",
              "      <td>1.60</td>\n",
              "      <td>Delgada</td>\n",
              "      <td>Lunar En La Mejilla Y Tatuaje En El Cuello En ...</td>\n",
              "      <td>Ninguno</td>\n",
              "      <td>FGE - Puebla</td>\n",
              "    </tr>\n",
              "    <tr>\n",
              "      <th>35897</th>\n",
              "      <td>2018</td>\n",
              "      <td>2018-01-08</td>\n",
              "      <td>11:00:00</td>\n",
              "      <td>112</td>\n",
              "      <td>Colima</td>\n",
              "      <td>Villa De Alvarez</td>\n",
              "      <td>Villa De Alvarez</td>\n",
              "      <td>19.25, -103.73333</td>\n",
              "      <td>Mexicana</td>\n",
              "      <td>Mujer</td>\n",
              "      <td>27</td>\n",
              "      <td>1.70</td>\n",
              "      <td>Robusta</td>\n",
              "      <td>El Ojo Izquierdo Tiene Un Enfermedad Como Tic,...</td>\n",
              "      <td>Ninguno</td>\n",
              "      <td>PGJ - Colima</td>\n",
              "    </tr>\n",
              "    <tr>\n",
              "      <th>35898</th>\n",
              "      <td>2015</td>\n",
              "      <td>2015-02-02</td>\n",
              "      <td>07:00:00</td>\n",
              "      <td>1183</td>\n",
              "      <td>Puebla</td>\n",
              "      <td>Chila</td>\n",
              "      <td>Chilas De Las Flores</td>\n",
              "      <td>17.965896, -97.864616</td>\n",
              "      <td>Mexicana</td>\n",
              "      <td>Mujer</td>\n",
              "      <td>86</td>\n",
              "      <td>1.77</td>\n",
              "      <td>Mediana</td>\n",
              "      <td>No Especificado</td>\n",
              "      <td>Ninguno</td>\n",
              "      <td>FGE - Puebla</td>\n",
              "    </tr>\n",
              "    <tr>\n",
              "      <th>35899</th>\n",
              "      <td>2017</td>\n",
              "      <td>2017-08-22</td>\n",
              "      <td>04:00:00</td>\n",
              "      <td>251</td>\n",
              "      <td>Colima</td>\n",
              "      <td>Villa De Alvarez</td>\n",
              "      <td>Villa De Alvarez</td>\n",
              "      <td>19.25, -103.73333</td>\n",
              "      <td>Mexicana</td>\n",
              "      <td>Hombre</td>\n",
              "      <td>41</td>\n",
              "      <td>1.76</td>\n",
              "      <td>Robusta</td>\n",
              "      <td>Tatuaje En El Brazo Izquierdo Con La Imagen De...</td>\n",
              "      <td>Ninguno</td>\n",
              "      <td>PGJ - Colima</td>\n",
              "    </tr>\n",
              "    <tr>\n",
              "      <th>35900</th>\n",
              "      <td>2018</td>\n",
              "      <td>2018-04-11</td>\n",
              "      <td>02:00:00</td>\n",
              "      <td>19</td>\n",
              "      <td>Nuevo Leon</td>\n",
              "      <td>San Nicolas De Los Garza</td>\n",
              "      <td>San Nicolas De Los Garza</td>\n",
              "      <td>25.738505, -100.280753</td>\n",
              "      <td>Mexicana</td>\n",
              "      <td>Mujer</td>\n",
              "      <td>14</td>\n",
              "      <td>1.60</td>\n",
              "      <td>Delgada</td>\n",
              "      <td>No Especificado</td>\n",
              "      <td>Ninguno</td>\n",
              "      <td>PGJ - Nuevo Leon</td>\n",
              "    </tr>\n",
              "  </tbody>\n",
              "</table>\n",
              "<p>35901 rows × 16 columns</p>\n",
              "</div>\n",
              "      <button class=\"colab-df-convert\" onclick=\"convertToInteractive('df-f522beb1-bf7b-4287-bd68-b2e271eb1c40')\"\n",
              "              title=\"Convert this dataframe to an interactive table.\"\n",
              "              style=\"display:none;\">\n",
              "        \n",
              "  <svg xmlns=\"http://www.w3.org/2000/svg\" height=\"24px\"viewBox=\"0 0 24 24\"\n",
              "       width=\"24px\">\n",
              "    <path d=\"M0 0h24v24H0V0z\" fill=\"none\"/>\n",
              "    <path d=\"M18.56 5.44l.94 2.06.94-2.06 2.06-.94-2.06-.94-.94-2.06-.94 2.06-2.06.94zm-11 1L8.5 8.5l.94-2.06 2.06-.94-2.06-.94L8.5 2.5l-.94 2.06-2.06.94zm10 10l.94 2.06.94-2.06 2.06-.94-2.06-.94-.94-2.06-.94 2.06-2.06.94z\"/><path d=\"M17.41 7.96l-1.37-1.37c-.4-.4-.92-.59-1.43-.59-.52 0-1.04.2-1.43.59L10.3 9.45l-7.72 7.72c-.78.78-.78 2.05 0 2.83L4 21.41c.39.39.9.59 1.41.59.51 0 1.02-.2 1.41-.59l7.78-7.78 2.81-2.81c.8-.78.8-2.07 0-2.86zM5.41 20L4 18.59l7.72-7.72 1.47 1.35L5.41 20z\"/>\n",
              "  </svg>\n",
              "      </button>\n",
              "      \n",
              "  <style>\n",
              "    .colab-df-container {\n",
              "      display:flex;\n",
              "      flex-wrap:wrap;\n",
              "      gap: 12px;\n",
              "    }\n",
              "\n",
              "    .colab-df-convert {\n",
              "      background-color: #E8F0FE;\n",
              "      border: none;\n",
              "      border-radius: 50%;\n",
              "      cursor: pointer;\n",
              "      display: none;\n",
              "      fill: #1967D2;\n",
              "      height: 32px;\n",
              "      padding: 0 0 0 0;\n",
              "      width: 32px;\n",
              "    }\n",
              "\n",
              "    .colab-df-convert:hover {\n",
              "      background-color: #E2EBFA;\n",
              "      box-shadow: 0px 1px 2px rgba(60, 64, 67, 0.3), 0px 1px 3px 1px rgba(60, 64, 67, 0.15);\n",
              "      fill: #174EA6;\n",
              "    }\n",
              "\n",
              "    [theme=dark] .colab-df-convert {\n",
              "      background-color: #3B4455;\n",
              "      fill: #D2E3FC;\n",
              "    }\n",
              "\n",
              "    [theme=dark] .colab-df-convert:hover {\n",
              "      background-color: #434B5C;\n",
              "      box-shadow: 0px 1px 3px 1px rgba(0, 0, 0, 0.15);\n",
              "      filter: drop-shadow(0px 1px 2px rgba(0, 0, 0, 0.3));\n",
              "      fill: #FFFFFF;\n",
              "    }\n",
              "  </style>\n",
              "\n",
              "      <script>\n",
              "        const buttonEl =\n",
              "          document.querySelector('#df-f522beb1-bf7b-4287-bd68-b2e271eb1c40 button.colab-df-convert');\n",
              "        buttonEl.style.display =\n",
              "          google.colab.kernel.accessAllowed ? 'block' : 'none';\n",
              "\n",
              "        async function convertToInteractive(key) {\n",
              "          const element = document.querySelector('#df-f522beb1-bf7b-4287-bd68-b2e271eb1c40');\n",
              "          const dataTable =\n",
              "            await google.colab.kernel.invokeFunction('convertToInteractive',\n",
              "                                                     [key], {});\n",
              "          if (!dataTable) return;\n",
              "\n",
              "          const docLinkHtml = 'Like what you see? Visit the ' +\n",
              "            '<a target=\"_blank\" href=https://colab.research.google.com/notebooks/data_table.ipynb>data table notebook</a>'\n",
              "            + ' to learn more about interactive tables.';\n",
              "          element.innerHTML = '';\n",
              "          dataTable['output_type'] = 'display_data';\n",
              "          await google.colab.output.renderOutput(dataTable, element);\n",
              "          const docLink = document.createElement('div');\n",
              "          docLink.innerHTML = docLinkHtml;\n",
              "          element.appendChild(docLink);\n",
              "        }\n",
              "      </script>\n",
              "    </div>\n",
              "  </div>\n",
              "  "
            ]
          },
          "metadata": {},
          "execution_count": 5
        }
      ]
    },
    {
      "cell_type": "markdown",
      "source": [
        "\n",
        "\n",
        "---\n",
        "\n",
        "# Distribuciones\n",
        "\n",
        "---\n",
        "\n"
      ],
      "metadata": {
        "id": "ww2R9bcmoW7_"
      }
    },
    {
      "cell_type": "markdown",
      "source": [
        "El `DataFrame` tiene el siguiente tipo de variables:\n",
        "\n"
      ],
      "metadata": {
        "id": "EhKRX-Bkon7Q"
      }
    },
    {
      "cell_type": "code",
      "source": [
        "df.dtypes"
      ],
      "metadata": {
        "colab": {
          "base_uri": "https://localhost:8080/"
        },
        "id": "Y-kvUoaJpk8U",
        "outputId": "0d5ea7c1-bd66-4c3c-c16d-9cb537262e19"
      },
      "execution_count": 6,
      "outputs": [
        {
          "output_type": "execute_result",
          "data": {
            "text/plain": [
              "anio                    int64\n",
              "fecha                  object\n",
              "hora                   object\n",
              "dias_desaparecido       int64\n",
              "entidad                object\n",
              "municipio              object\n",
              "localidad              object\n",
              "coordenadas            object\n",
              "nacionalidad           object\n",
              "sexo                   object\n",
              "edad                    int64\n",
              "estatura              float64\n",
              "complexion             object\n",
              "senas_particulares     object\n",
              "discapacidad           object\n",
              "dependecia_origen      object\n",
              "dtype: object"
            ]
          },
          "metadata": {},
          "execution_count": 6
        }
      ]
    },
    {
      "cell_type": "markdown",
      "source": [
        "\n",
        "\n",
        "> Gracias a `dtypes` podemos ver que hay tres variables de tipo `int64` y una variable de tipo `float64`.\n",
        "\n"
      ],
      "metadata": {
        "id": "TxX3AMekpxUW"
      }
    },
    {
      "cell_type": "markdown",
      "source": [
        "#Boxplot"
      ],
      "metadata": {
        "id": "FF7EgAbWzcxz"
      }
    },
    {
      "cell_type": "markdown",
      "source": [
        "\n",
        "Hay cuatro variables numéricas en nuestro dataset: año, días de desaparecido, edad, y estatura. Podemos ver la distribución de cada una mediante un boxplot.\n"
      ],
      "metadata": {
        "id": "nhUAB5-9qfl7"
      }
    },
    {
      "cell_type": "code",
      "source": [
        "sns.set(style=\"whitegrid\")\n",
        "sns.boxplot(x=df['anio'])"
      ],
      "metadata": {
        "colab": {
          "base_uri": "https://localhost:8080/",
          "height": 105
        },
        "id": "k7w3J0EXsDFw",
        "outputId": "17781909-0572-4197-85fc-49b718ec59e7"
      },
      "execution_count": 7,
      "outputs": [
        {
          "output_type": "execute_result",
          "data": {
            "text/plain": [
              "<matplotlib.axes._subplots.AxesSubplot at 0x7fdf9f09f450>"
            ]
          },
          "metadata": {},
          "execution_count": 7
        },
        {
          "output_type": "display_data",
          "data": {
            "text/plain": [
              "<Figure size 432x288 with 1 Axes>"
            ],
            "image/png": "[encoded data removed]"
          },
          "metadata": {}
        }
      ]
    },
    {
      "cell_type": "markdown",
      "source": [
        "\n",
        "\n",
        "> Podemos ver que la mayor parte de los casos de personas desaparecidas se han dado en los años más recientes dado que la distribución tiende a los malores más altos del conjunto de datos. También se puede ver que los datos atípicos se extienden a la izquierda de la gráfica.\n",
        "\n"
      ],
      "metadata": {
        "id": "alWAL8rdsN8U"
      }
    },
    {
      "cell_type": "code",
      "source": [
        "sns.set(style=\"whitegrid\")\n",
        "sns.boxplot(x=df['dias_desaparecido'])"
      ],
      "metadata": {
        "colab": {
          "base_uri": "https://localhost:8080/",
          "height": 105
        },
        "id": "7fTPCez9s3wO",
        "outputId": "a164ac57-df3a-4482-81b5-8c5cd592a3ce"
      },
      "execution_count": 8,
      "outputs": [
        {
          "output_type": "execute_result",
          "data": {
            "text/plain": [
              "<matplotlib.axes._subplots.AxesSubplot at 0x7fdf9af9c850>"
            ]
          },
          "metadata": {},
          "execution_count": 8
        },
        {
          "output_type": "display_data",
          "data": {
            "text/plain": [
              "<Figure size 432x288 with 1 Axes>"
            ],
            "image/png": "[encoded data removed]"
          },
          "metadata": {}
        }
      ]
    },
    {
      "cell_type": "markdown",
      "source": [
        "\n",
        "\n",
        "> La distribución de los días que lleva la víctima desaparecida tiende a los valores pequeños del conjunto de datos. Los valores atípicos se extienden a la derecha del gráfico.\n",
        "\n"
      ],
      "metadata": {
        "id": "Jdxka22ctI25"
      }
    },
    {
      "cell_type": "code",
      "source": [
        "sns.set(style=\"whitegrid\")\n",
        "sns.boxplot(x=df['edad'])"
      ],
      "metadata": {
        "colab": {
          "base_uri": "https://localhost:8080/",
          "height": 105
        },
        "id": "HzNivVEotAkE",
        "outputId": "1106ec05-8e15-4d26-e395-3502107e1226"
      },
      "execution_count": 9,
      "outputs": [
        {
          "output_type": "execute_result",
          "data": {
            "text/plain": [
              "<matplotlib.axes._subplots.AxesSubplot at 0x7fdf9af6ddd0>"
            ]
          },
          "metadata": {},
          "execution_count": 9
        },
        {
          "output_type": "display_data",
          "data": {
            "text/plain": [
              "<Figure size 432x288 with 1 Axes>"
            ],
            "image/png": "[encoded data removed]"
          },
          "metadata": {}
        }
      ]
    },
    {
      "cell_type": "markdown",
      "source": [
        "\n",
        "\n",
        "> El 50% de los datos acerca de la edad registrada en el set de datos pertenece al rango de 20-40 años aproximadamente, teniendo una distribución que tiende a los valores pequeños del conjunto de datos. La distribución que se muestra para esta variable es más dispersa que las mostradas anteriormente.\n",
        "\n"
      ],
      "metadata": {
        "id": "EzLEZzv4tnqL"
      }
    },
    {
      "cell_type": "code",
      "source": [
        "sns.set(style=\"whitegrid\")\n",
        "sns.boxplot(x=df['estatura'])"
      ],
      "metadata": {
        "colab": {
          "base_uri": "https://localhost:8080/",
          "height": 105
        },
        "id": "uTQ_L57xtENu",
        "outputId": "fd28580d-537a-4d45-e9df-57edd4919462"
      },
      "execution_count": 10,
      "outputs": [
        {
          "output_type": "execute_result",
          "data": {
            "text/plain": [
              "<matplotlib.axes._subplots.AxesSubplot at 0x7fdf9afae390>"
            ]
          },
          "metadata": {},
          "execution_count": 10
        },
        {
          "output_type": "display_data",
          "data": {
            "text/plain": [
              "<Figure size 432x288 with 1 Axes>"
            ],
            "image/png": "[encoded data removed]"
          },
          "metadata": {}
        }
      ]
    },
    {
      "cell_type": "markdown",
      "source": [
        "\n",
        "\n",
        "> La estatura es la variable que tiene más valores atípicos comparada con las anteriores. Tiene valores atípicos en ambos extremos de la cola. Los datos se concentran en los valores más altos del conjunto de datos.\n",
        "\n"
      ],
      "metadata": {
        "id": "NrDo_wY4uMi0"
      }
    },
    {
      "cell_type": "markdown",
      "source": [
        "A pesar de que nuestras variables numéricas tienen \"valores atípicos\", no serán filtrados del conjunto de datos. Los datos que están fuera del boxplot son casos registrados oficialmente como personas desaparecidas, por lo que bajo el contexto del set de datos sabemos que no son errores o valores anormales. "
      ],
      "metadata": {
        "id": "7UdBnqc1ulcf"
      }
    },
    {
      "cell_type": "markdown",
      "source": [
        "#Tabla de Frecuencias"
      ],
      "metadata": {
        "id": "9Lcx1k7Dy5xa"
      }
    },
    {
      "cell_type": "markdown",
      "source": [
        "Para obtener más información de nuestras variables numéricas podemos desarrollar otro tipo de visualizaciones. La variable de año puede darnos más información acerca de los casos de personas desaparecidas en cierto rango de tiempo mediante una tabla de frecuencias."
      ],
      "metadata": {
        "id": "UfP3y_-tydal"
      }
    },
    {
      "cell_type": "markdown",
      "source": [
        "Empezamos obteniendo el rango de nuestro conjunto de datos.\n"
      ],
      "metadata": {
        "id": "JjGUYq1vzoFj"
      }
    },
    {
      "cell_type": "code",
      "source": [
        "anios = df['anio']\n",
        "anios.max() - anios.min()"
      ],
      "metadata": {
        "colab": {
          "base_uri": "https://localhost:8080/"
        },
        "id": "oTxnSEf_zotv",
        "outputId": "aeda0b4b-f2a7-4f83-e069-40269ed37b22"
      },
      "execution_count": 11,
      "outputs": [
        {
          "output_type": "execute_result",
          "data": {
            "text/plain": [
              "50"
            ]
          },
          "metadata": {},
          "execution_count": 11
        }
      ]
    },
    {
      "cell_type": "markdown",
      "source": [
        "\n",
        "\n",
        "> Dado que nuestro rango es muy pequeño, decidimos dividir en 10 segmentos.\n",
        "\n"
      ],
      "metadata": {
        "id": "jWMoJ64x0HK-"
      }
    },
    {
      "cell_type": "markdown",
      "source": [
        "Usando `cut` podemos segmentar nuestros datos."
      ],
      "metadata": {
        "id": "C4rylrOLz-b1"
      }
    },
    {
      "cell_type": "code",
      "source": [
        "pd.cut(anios, 10)"
      ],
      "metadata": {
        "colab": {
          "base_uri": "https://localhost:8080/"
        },
        "id": "NbhiIQ9m0eSJ",
        "outputId": "b8927a1a-2e14-4711-a6d3-7e4c303cb76e"
      },
      "execution_count": 12,
      "outputs": [
        {
          "output_type": "execute_result",
          "data": {
            "text/plain": [
              "0        (2008.0, 2013.0]\n",
              "1        (2003.0, 2008.0]\n",
              "2        (2008.0, 2013.0]\n",
              "3        (2003.0, 2008.0]\n",
              "4        (2003.0, 2008.0]\n",
              "               ...       \n",
              "35896    (2013.0, 2018.0]\n",
              "35897    (2013.0, 2018.0]\n",
              "35898    (2013.0, 2018.0]\n",
              "35899    (2013.0, 2018.0]\n",
              "35900    (2013.0, 2018.0]\n",
              "Name: anio, Length: 35901, dtype: category\n",
              "Categories (10, interval[float64, right]): [(1967.95, 1973.0] < (1973.0, 1978.0] < (1978.0, 1983.0] <\n",
              "                                            (1983.0, 1988.0] ... (1998.0, 2003.0] <\n",
              "                                            (2003.0, 2008.0] < (2008.0, 2013.0] < (2013.0, 2018.0]]"
            ]
          },
          "metadata": {},
          "execution_count": 12
        }
      ]
    },
    {
      "cell_type": "markdown",
      "source": [
        "La serie resultante la podemos agrupar y hacer el conteo de frecuencias."
      ],
      "metadata": {
        "id": "FZmNmm_X0rmo"
      }
    },
    {
      "cell_type": "code",
      "source": [
        "segmentos = pd.cut(anios, 10)\n",
        "\n",
        "df['anio'].groupby(segmentos).count()"
      ],
      "metadata": {
        "colab": {
          "base_uri": "https://localhost:8080/"
        },
        "id": "dvhJCYoH0yPq",
        "outputId": "e3536399-dfb7-4c38-a0e8-95e9c1242c5a"
      },
      "execution_count": 13,
      "outputs": [
        {
          "output_type": "execute_result",
          "data": {
            "text/plain": [
              "anio\n",
              "(1967.95, 1973.0]        3\n",
              "(1973.0, 1978.0]         4\n",
              "(1978.0, 1983.0]         4\n",
              "(1983.0, 1988.0]         7\n",
              "(1988.0, 1993.0]        11\n",
              "(1993.0, 1998.0]        25\n",
              "(1998.0, 2003.0]        73\n",
              "(2003.0, 2008.0]      1568\n",
              "(2008.0, 2013.0]     15567\n",
              "(2013.0, 2018.0]     18639\n",
              "Name: anio, dtype: int64"
            ]
          },
          "metadata": {},
          "execution_count": 13
        }
      ]
    },
    {
      "cell_type": "markdown",
      "source": [
        "\n",
        "\n",
        "> Los casos de personas desaparecidas se concentran en los últimos 10 años de la lista (2008-2018), teniendo 15,567 casos del 2008-2013 y 18,639 casos del 2013-2018.\n",
        "\n"
      ],
      "metadata": {
        "id": "KzhZJbmH1EgN"
      }
    },
    {
      "cell_type": "markdown",
      "source": [
        "#Histograma"
      ],
      "metadata": {
        "id": "C6YigXOM15nZ"
      }
    },
    {
      "cell_type": "markdown",
      "source": [
        "Las tres variables numéricas restantes pueden visualizarse en un histograma para obtener información más detallada de su distribución. Usando `Seaborn` podemos obtener el histograma de los días que lleva el caso abierto. "
      ],
      "metadata": {
        "id": "kZxtsaoo18jF"
      }
    },
    {
      "cell_type": "code",
      "source": [
        "sns.set(style='white')\n",
        "sns.distplot(df['dias_desaparecido'], kde=False, norm_hist=False, bins=40)"
      ],
      "metadata": {
        "colab": {
          "base_uri": "https://localhost:8080/",
          "height": 356
        },
        "id": "4mSMpHZJ3NMr",
        "outputId": "31859b25-e720-42be-d7fe-50bf54821b7e"
      },
      "execution_count": 14,
      "outputs": [
        {
          "output_type": "stream",
          "name": "stderr",
          "text": [
            "/usr/local/lib/python3.7/dist-packages/seaborn/distributions.py:2619: FutureWarning: `distplot` is a deprecated function and will be removed in a future version. Please adapt your code to use either `displot` (a figure-level function with similar flexibility) or `histplot` (an axes-level function for histograms).\n",
            "  warnings.warn(msg, FutureWarning)\n"
          ]
        },
        {
          "output_type": "execute_result",
          "data": {
            "text/plain": [
              "<matplotlib.axes._subplots.AxesSubplot at 0x7fdf9ae80b50>"
            ]
          },
          "metadata": {},
          "execution_count": 14
        },
        {
          "output_type": "display_data",
          "data": {
            "text/plain": [
              "<Figure size 432x288 with 1 Axes>"
            ],
            "image/png": "[encoded data removed]"
          },
          "metadata": {}
        }
      ]
    },
    {
      "cell_type": "markdown",
      "source": [
        "\n",
        "\n",
        "> Usando un binning de 40 para acentuar más la forma del histograma podemos ver que los datos tienen una asimetría positiva dado que la cola derecha es más larga que la izquierda. Dada la forma de los datos, es difícil inferir si es una distribución de cola corta o cola larga.\n",
        "\n"
      ],
      "metadata": {
        "id": "vj0i5qRLINa3"
      }
    },
    {
      "cell_type": "code",
      "source": [
        "dias_des_valores=df.dias_desaparecido.values\n",
        "print(\"kurtosis\",kurtosis(dias_des_valores))\n",
        "print(\"asimetria\",skew(dias_des_valores))"
      ],
      "metadata": {
        "colab": {
          "base_uri": "https://localhost:8080/"
        },
        "id": "dCbzxwPA4bv-",
        "outputId": "46cb0ad9-79f6-454e-9dc7-feba982bfa1b"
      },
      "execution_count": 15,
      "outputs": [
        {
          "output_type": "stream",
          "name": "stdout",
          "text": [
            "kurtosis 9.10798077972732\n",
            "asimetria 1.2970145907278083\n"
          ]
        }
      ]
    },
    {
      "cell_type": "markdown",
      "source": [
        "\n",
        "\n",
        "> La asimetría de los datos `dias_desaparecido` es mayor a 0 y positiva, lo cual confirma la asimetría positiva que vimos en el histograma. La curtosis es positiva y mayor a cero, lo cual indica que la distribución está achatada y dispersa alrededor del punto medio. La distribución es de cola larga.\n",
        "\n"
      ],
      "metadata": {
        "id": "HBjnSFQVI-vq"
      }
    },
    {
      "cell_type": "markdown",
      "source": [
        "El histograma de la edad de las víctimas se muestra a continuación."
      ],
      "metadata": {
        "id": "mBNpjhqSK19e"
      }
    },
    {
      "cell_type": "code",
      "source": [
        "sns.distplot(df['edad'], kde=False, norm_hist=False, bins=20)"
      ],
      "metadata": {
        "colab": {
          "base_uri": "https://localhost:8080/",
          "height": 302
        },
        "id": "nCpsUQZL3jz-",
        "outputId": "f0d17a47-ac05-4ff6-9372-61572e76c707"
      },
      "execution_count": 16,
      "outputs": [
        {
          "output_type": "execute_result",
          "data": {
            "text/plain": [
              "<matplotlib.axes._subplots.AxesSubplot at 0x7fdf9ad8f890>"
            ]
          },
          "metadata": {},
          "execution_count": 16
        },
        {
          "output_type": "display_data",
          "data": {
            "text/plain": [
              "<Figure size 432x288 with 1 Axes>"
            ],
            "image/png": "[encoded data removed]"
          },
          "metadata": {}
        }
      ]
    },
    {
      "cell_type": "markdown",
      "source": [
        "\n",
        "\n",
        "> Podemos ver que los datos tienen una ligera asimetría positiva dado que la cola derecha es más larga que la izquierda. De igual forma se puede ver que la distribución es de cola larga.\n",
        "\n"
      ],
      "metadata": {
        "id": "qemHbvebK8pJ"
      }
    },
    {
      "cell_type": "code",
      "source": [
        "edades_valores=df.edad.values\n",
        "print(\"kurtosis\",kurtosis(edades_valores))\n",
        "print(\"asimetria\",skew(edades_valores))"
      ],
      "metadata": {
        "colab": {
          "base_uri": "https://localhost:8080/"
        },
        "id": "Q4SnD3On7Hb-",
        "outputId": "f64c1579-4094-4033-80c5-7749e7de8681"
      },
      "execution_count": 17,
      "outputs": [
        {
          "output_type": "stream",
          "name": "stdout",
          "text": [
            "kurtosis 1.5296287761320748\n",
            "asimetria 1.0113409801553876\n"
          ]
        }
      ]
    },
    {
      "cell_type": "markdown",
      "source": [
        "\n",
        "\n",
        "> La asimetría de los datos `edad` es mayor a 0 y positiva, lo cual confirma la asimetría positiva que vimos en el histograma. La curtosis es positiva y mayor a cero, lo cual confirma la distribución de cola larga vista en el histograma. Ambos valores son ligeramente mayores a 0, por lo que esta distribución se acerca a la normal más que la anterior.\n",
        "\n"
      ],
      "metadata": {
        "id": "ug64YgzULS1b"
      }
    },
    {
      "cell_type": "markdown",
      "source": [
        "Finalmente, el histograma de la estatura de las víctimas se muestra a continuación."
      ],
      "metadata": {
        "id": "9-Y4ONpCLl2p"
      }
    },
    {
      "cell_type": "code",
      "source": [
        "sns.distplot(df['estatura'], kde=False, norm_hist=False, bins=30)"
      ],
      "metadata": {
        "colab": {
          "base_uri": "https://localhost:8080/",
          "height": 305
        },
        "id": "JnMHluGk3ncX",
        "outputId": "f681ac54-6250-4e0b-ec45-6b67eec9703a"
      },
      "execution_count": 18,
      "outputs": [
        {
          "output_type": "execute_result",
          "data": {
            "text/plain": [
              "<matplotlib.axes._subplots.AxesSubplot at 0x7fdf9ad3e710>"
            ]
          },
          "metadata": {},
          "execution_count": 18
        },
        {
          "output_type": "display_data",
          "data": {
            "text/plain": [
              "<Figure size 432x288 with 1 Axes>"
            ],
            "image/png": "[encoded data removed]"
          },
          "metadata": {}
        }
      ]
    },
    {
      "cell_type": "markdown",
      "source": [
        "\n",
        "\n",
        "> Podemos ver que los datos tienen una asimetría negativa dado que la cola izquierda es más larga que la derecha. De igual forma se puede ver que la distribución es de cola larga.\n",
        "\n"
      ],
      "metadata": {
        "id": "HAmGG1I3LuL-"
      }
    },
    {
      "cell_type": "code",
      "source": [
        "estatura_valores=df.estatura.values\n",
        "print(\"kurtosis\",kurtosis(estatura_valores))\n",
        "print(\"asimetria\",skew(estatura_valores))"
      ],
      "metadata": {
        "colab": {
          "base_uri": "https://localhost:8080/"
        },
        "id": "-F1HPR467X7Y",
        "outputId": "80fe1985-be57-4e73-be75-e0c1773dc811"
      },
      "execution_count": 19,
      "outputs": [
        {
          "output_type": "stream",
          "name": "stdout",
          "text": [
            "kurtosis 21.791569364122182\n",
            "asimetria -3.605588838799281\n"
          ]
        }
      ]
    },
    {
      "cell_type": "markdown",
      "source": [
        "\n",
        "\n",
        "> La asimetría de los datos `estatura` es mayor a 0 y negativa, lo cual confirma la asimetría negativa que vimos en el histograma. La curtosis es positiva y mayor a cero, lo cual confirma la distribución de cola larga vista en el histograma.\n",
        "\n"
      ],
      "metadata": {
        "id": "exFAZvk4L4QA"
      }
    },
    {
      "cell_type": "markdown",
      "source": [
        "#Gráfica de densidad"
      ],
      "metadata": {
        "id": "RGtR7mgd7kU7"
      }
    },
    {
      "cell_type": "markdown",
      "source": [
        "Para comparar distribuciónes en una misma gráfica, podemos hacer uso de los gráficos de densidad. Estos nos permiten graficar variables numéricas respecto de una variable categórico. Usando los datos de edad, estatura y sexo, podemos comparar las distribuciones de la edad y estaura según los datos de hombres y mujeres."
      ],
      "metadata": {
        "id": "s1ADr8yNMSDQ"
      }
    },
    {
      "cell_type": "code",
      "source": [
        "sns.kdeplot(data = df.query(\"sexo == 'Hombre'\"), x = 'edad', color = 'olive')\n",
        "sns.kdeplot(data = df.query(\"sexo == 'Mujer'\"), x = 'edad')"
      ],
      "metadata": {
        "colab": {
          "base_uri": "https://localhost:8080/",
          "height": 302
        },
        "id": "HOk-rPcfe1yv",
        "outputId": "8ffbdc00-c37f-47fc-9227-5dd467f1175d"
      },
      "execution_count": 20,
      "outputs": [
        {
          "output_type": "execute_result",
          "data": {
            "text/plain": [
              "<matplotlib.axes._subplots.AxesSubplot at 0x7fdf9ac4e350>"
            ]
          },
          "metadata": {},
          "execution_count": 20
        },
        {
          "output_type": "display_data",
          "data": {
            "text/plain": [
              "<Figure size 432x288 with 1 Axes>"
            ],
            "image/png": "[encoded data removed]"
          },
          "metadata": {}
        }
      ]
    },
    {
      "cell_type": "markdown",
      "source": [
        "\n",
        "\n",
        "> La línea color verde muestra la distribución de la edad para los hombres. Muestra un mayor conteo de casos en las edades de 20-40 años. La línea azul muestra la distribución de la edad para las mujeres. Sorprendentemente, la distribución actúa de manera casi bimodal, teniendo dos puntos altos antes y después de los 20 años.\n",
        "\n",
        "\n",
        "\n",
        "\n"
      ],
      "metadata": {
        "id": "eJuYpL7DM70t"
      }
    },
    {
      "cell_type": "markdown",
      "source": [
        "El gráfico de densidad para la estatura de hombre sy mujeres se muestra a continuación."
      ],
      "metadata": {
        "id": "5dPGkv0LON1e"
      }
    },
    {
      "cell_type": "code",
      "source": [
        "sns.kdeplot(data = df.query(\"sexo == 'Hombre'\"), x = 'estatura', color = 'olive')\n",
        "sns.kdeplot(data = df.query(\"sexo == 'Mujer'\"), x = 'estatura')"
      ],
      "metadata": {
        "colab": {
          "base_uri": "https://localhost:8080/",
          "height": 302
        },
        "id": "aMLB8918fENb",
        "outputId": "b340bacd-8b34-4bfd-cde3-a8412b9072e3"
      },
      "execution_count": 21,
      "outputs": [
        {
          "output_type": "execute_result",
          "data": {
            "text/plain": [
              "<matplotlib.axes._subplots.AxesSubplot at 0x7fdf9ab9ed50>"
            ]
          },
          "metadata": {},
          "execution_count": 21
        },
        {
          "output_type": "display_data",
          "data": {
            "text/plain": [
              "<Figure size 432x288 with 1 Axes>"
            ],
            "image/png": "[encoded data removed]"
          },
          "metadata": {}
        }
      ]
    },
    {
      "cell_type": "markdown",
      "source": [
        "\n",
        "\n",
        "> La línea verde muestra los datos de estatura para los hombres. Se puede ver que los datos se concentran alrededor del 1.60 m de estatura, teniendo otro pico a los 1.70 m. La línea azul muestra los datos de estatura para las mujeres, teniendo los datos concentrados alrededor de 1.60 m. \n",
        "\n"
      ],
      "metadata": {
        "id": "h2K6aWabOTAP"
      }
    },
    {
      "cell_type": "markdown",
      "source": [
        "#Scatterplot\n",
        "\n"
      ],
      "metadata": {
        "id": "T_BrfCbijl8i"
      }
    },
    {
      "cell_type": "markdown",
      "source": [
        "Como parte de la visualización avanzada, podemos hacer uso del scatterplot para visualizar la relación entre dos variables numéricas segmentadas por una variable categórica. Usando la edad y estatura como variables numéricas, y el sexo como variable categórica, el resultado es el siguiente:"
      ],
      "metadata": {
        "id": "qz_rsRhMZbTj"
      }
    },
    {
      "cell_type": "code",
      "source": [
        "sns.scatterplot(df['estatura'], df['edad'], hue=df['sexo'],style=df['sexo']);"
      ],
      "metadata": {
        "colab": {
          "base_uri": "https://localhost:8080/",
          "height": 339
        },
        "id": "tG0uUiJIj5UM",
        "outputId": "098f3b42-e791-4774-9fa5-69506447ed68"
      },
      "execution_count": 22,
      "outputs": [
        {
          "output_type": "stream",
          "name": "stderr",
          "text": [
            "/usr/local/lib/python3.7/dist-packages/seaborn/_decorators.py:43: FutureWarning: Pass the following variables as keyword args: x, y. From version 0.12, the only valid positional argument will be `data`, and passing other arguments without an explicit keyword will result in an error or misinterpretation.\n",
            "  FutureWarning\n"
          ]
        },
        {
          "output_type": "display_data",
          "data": {
            "text/plain": [
              "<Figure size 432x288 with 1 Axes>"
            ],
            "image/png": "[encoded data removed]"
          },
          "metadata": {}
        }
      ]
    },
    {
      "cell_type": "markdown",
      "source": [
        "\n",
        "\n",
        "> Los datos mostrados se concentran más en las estaturas más altas tanto para hombres como para mujeres. No obstante, no parece muy evidente la concentración de datos en las edades.\n",
        "\n"
      ],
      "metadata": {
        "id": "JMMeeFleaMr5"
      }
    },
    {
      "cell_type": "markdown",
      "source": [
        "#Binning Hexagonal"
      ],
      "metadata": {
        "id": "Lvm2i_l8rLoV"
      }
    },
    {
      "cell_type": "markdown",
      "source": [
        "Dado que es un poco difícil de visualizar la relación entre edad y estatura con el scatterplot por la densidad de los puntos, podemos usar un binnning hexagonal para tener más información al respecto."
      ],
      "metadata": {
        "id": "GyfZixQLbP1w"
      }
    },
    {
      "cell_type": "code",
      "source": [
        "sns.jointplot('estatura', 'edad', data=df, kind='hex', ratio=5, joint_kws={'gridsize': 50});"
      ],
      "metadata": {
        "colab": {
          "base_uri": "https://localhost:8080/",
          "height": 491
        },
        "id": "bZS1OCrJqNTQ",
        "outputId": "b96184f7-100c-474c-a294-4e80e7e97615"
      },
      "execution_count": 23,
      "outputs": [
        {
          "output_type": "stream",
          "name": "stderr",
          "text": [
            "/usr/local/lib/python3.7/dist-packages/seaborn/_decorators.py:43: FutureWarning: Pass the following variables as keyword args: x, y. From version 0.12, the only valid positional argument will be `data`, and passing other arguments without an explicit keyword will result in an error or misinterpretation.\n",
            "  FutureWarning\n"
          ]
        },
        {
          "output_type": "display_data",
          "data": {
            "text/plain": [
              "<Figure size 432x432 with 3 Axes>"
            ],
            "image/png": "[encoded data removed]"
          },
          "metadata": {}
        }
      ]
    },
    {
      "cell_type": "markdown",
      "source": [
        "\n",
        "\n",
        "> El binning hexagonal confirma las primeras características que vimos con el scatterplot. La estatura más común en los datos está alrededor del 1.60 m, no obstante también nos dice que la edad más común está alrededor de los 25 años. \n",
        "\n"
      ],
      "metadata": {
        "id": "Gv5mNqYRbfu3"
      }
    },
    {
      "cell_type": "markdown",
      "source": [
        "# Mapa"
      ],
      "metadata": {
        "id": "u0i9jirqJbaG"
      }
    },
    {
      "cell_type": "markdown",
      "source": [
        "Ya que nuestro `DataFrame` contiene datos de las coordenadas en donde se vio por última vez a la persona, podemos desarrollar un mapa que señale la densidad de los casos a lo largo de la República Mexicana. Primero debemos obtener las coordenadas de latitud y longitud por separado."
      ],
      "metadata": {
        "id": "wo3FH6dicAk9"
      }
    },
    {
      "cell_type": "code",
      "source": [
        "df_coordenadas= df['coordenadas'].str.split(', ',expand=True)\n",
        "df_coordenadas= df_coordenadas.rename(columns = {1:'longitud'})\n",
        "df_coordenadas= df_coordenadas.rename(columns = {0:'latitud'})\n",
        "df_coordenadas"
      ],
      "metadata": {
        "colab": {
          "base_uri": "https://localhost:8080/",
          "height": 419
        },
        "id": "lJBkulFQ5Eny",
        "outputId": "48fcc998-0566-4e95-ab20-573ef0098c3b"
      },
      "execution_count": 24,
      "outputs": [
        {
          "output_type": "execute_result",
          "data": {
            "text/plain": [
              "         latitud     longitud\n",
              "0      27.069053  -109.439423\n",
              "1       19.16368  -100.134684\n",
              "2      19.266337     -98.8978\n",
              "3      19.547512   -99.193851\n",
              "4         18.078     -91.6552\n",
              "...          ...          ...\n",
              "35896  19.051201   -98.212116\n",
              "35897      19.25   -103.73333\n",
              "35898  17.965896   -97.864616\n",
              "35899      19.25   -103.73333\n",
              "35900  25.738505  -100.280753\n",
              "\n",
              "[35901 rows x 2 columns]"
            ],
            "text/html": [
              "\n",
              "  <div id=\"df-b4195515-4b30-4742-9b9e-82ce217162c9\">\n",
              "    <div class=\"colab-df-container\">\n",
              "      <div>\n",
              "<style scoped>\n",
              "    .dataframe tbody tr th:only-of-type {\n",
              "        vertical-align: middle;\n",
              "    }\n",
              "\n",
              "    .dataframe tbody tr th {\n",
              "        vertical-align: top;\n",
              "    }\n",
              "\n",
              "    .dataframe thead th {\n",
              "        text-align: right;\n",
              "    }\n",
              "</style>\n",
              "<table border=\"1\" class=\"dataframe\">\n",
              "  <thead>\n",
              "    <tr style=\"text-align: right;\">\n",
              "      <th></th>\n",
              "      <th>latitud</th>\n",
              "      <th>longitud</th>\n",
              "    </tr>\n",
              "  </thead>\n",
              "  <tbody>\n",
              "    <tr>\n",
              "      <th>0</th>\n",
              "      <td>27.069053</td>\n",
              "      <td>-109.439423</td>\n",
              "    </tr>\n",
              "    <tr>\n",
              "      <th>1</th>\n",
              "      <td>19.16368</td>\n",
              "      <td>-100.134684</td>\n",
              "    </tr>\n",
              "    <tr>\n",
              "      <th>2</th>\n",
              "      <td>19.266337</td>\n",
              "      <td>-98.8978</td>\n",
              "    </tr>\n",
              "    <tr>\n",
              "      <th>3</th>\n",
              "      <td>19.547512</td>\n",
              "      <td>-99.193851</td>\n",
              "    </tr>\n",
              "    <tr>\n",
              "      <th>4</th>\n",
              "      <td>18.078</td>\n",
              "      <td>-91.6552</td>\n",
              "    </tr>\n",
              "    <tr>\n",
              "      <th>...</th>\n",
              "      <td>...</td>\n",
              "      <td>...</td>\n",
              "    </tr>\n",
              "    <tr>\n",
              "      <th>35896</th>\n",
              "      <td>19.051201</td>\n",
              "      <td>-98.212116</td>\n",
              "    </tr>\n",
              "    <tr>\n",
              "      <th>35897</th>\n",
              "      <td>19.25</td>\n",
              "      <td>-103.73333</td>\n",
              "    </tr>\n",
              "    <tr>\n",
              "      <th>35898</th>\n",
              "      <td>17.965896</td>\n",
              "      <td>-97.864616</td>\n",
              "    </tr>\n",
              "    <tr>\n",
              "      <th>35899</th>\n",
              "      <td>19.25</td>\n",
              "      <td>-103.73333</td>\n",
              "    </tr>\n",
              "    <tr>\n",
              "      <th>35900</th>\n",
              "      <td>25.738505</td>\n",
              "      <td>-100.280753</td>\n",
              "    </tr>\n",
              "  </tbody>\n",
              "</table>\n",
              "<p>35901 rows × 2 columns</p>\n",
              "</div>\n",
              "      <button class=\"colab-df-convert\" onclick=\"convertToInteractive('df-b4195515-4b30-4742-9b9e-82ce217162c9')\"\n",
              "              title=\"Convert this dataframe to an interactive table.\"\n",
              "              style=\"display:none;\">\n",
              "        \n",
              "  <svg xmlns=\"http://www.w3.org/2000/svg\" height=\"24px\"viewBox=\"0 0 24 24\"\n",
              "       width=\"24px\">\n",
              "    <path d=\"M0 0h24v24H0V0z\" fill=\"none\"/>\n",
              "    <path d=\"M18.56 5.44l.94 2.06.94-2.06 2.06-.94-2.06-.94-.94-2.06-.94 2.06-2.06.94zm-11 1L8.5 8.5l.94-2.06 2.06-.94-2.06-.94L8.5 2.5l-.94 2.06-2.06.94zm10 10l.94 2.06.94-2.06 2.06-.94-2.06-.94-.94-2.06-.94 2.06-2.06.94z\"/><path d=\"M17.41 7.96l-1.37-1.37c-.4-.4-.92-.59-1.43-.59-.52 0-1.04.2-1.43.59L10.3 9.45l-7.72 7.72c-.78.78-.78 2.05 0 2.83L4 21.41c.39.39.9.59 1.41.59.51 0 1.02-.2 1.41-.59l7.78-7.78 2.81-2.81c.8-.78.8-2.07 0-2.86zM5.41 20L4 18.59l7.72-7.72 1.47 1.35L5.41 20z\"/>\n",
              "  </svg>\n",
              "      </button>\n",
              "      \n",
              "  <style>\n",
              "    .colab-df-container {\n",
              "      display:flex;\n",
              "      flex-wrap:wrap;\n",
              "      gap: 12px;\n",
              "    }\n",
              "\n",
              "    .colab-df-convert {\n",
              "      background-color: #E8F0FE;\n",
              "      border: none;\n",
              "      border-radius: 50%;\n",
              "      cursor: pointer;\n",
              "      display: none;\n",
              "      fill: #1967D2;\n",
              "      height: 32px;\n",
              "      padding: 0 0 0 0;\n",
              "      width: 32px;\n",
              "    }\n",
              "\n",
              "    .colab-df-convert:hover {\n",
              "      background-color: #E2EBFA;\n",
              "      box-shadow: 0px 1px 2px rgba(60, 64, 67, 0.3), 0px 1px 3px 1px rgba(60, 64, 67, 0.15);\n",
              "      fill: #174EA6;\n",
              "    }\n",
              "\n",
              "    [theme=dark] .colab-df-convert {\n",
              "      background-color: #3B4455;\n",
              "      fill: #D2E3FC;\n",
              "    }\n",
              "\n",
              "    [theme=dark] .colab-df-convert:hover {\n",
              "      background-color: #434B5C;\n",
              "      box-shadow: 0px 1px 3px 1px rgba(0, 0, 0, 0.15);\n",
              "      filter: drop-shadow(0px 1px 2px rgba(0, 0, 0, 0.3));\n",
              "      fill: #FFFFFF;\n",
              "    }\n",
              "  </style>\n",
              "\n",
              "      <script>\n",
              "        const buttonEl =\n",
              "          document.querySelector('#df-b4195515-4b30-4742-9b9e-82ce217162c9 button.colab-df-convert');\n",
              "        buttonEl.style.display =\n",
              "          google.colab.kernel.accessAllowed ? 'block' : 'none';\n",
              "\n",
              "        async function convertToInteractive(key) {\n",
              "          const element = document.querySelector('#df-b4195515-4b30-4742-9b9e-82ce217162c9');\n",
              "          const dataTable =\n",
              "            await google.colab.kernel.invokeFunction('convertToInteractive',\n",
              "                                                     [key], {});\n",
              "          if (!dataTable) return;\n",
              "\n",
              "          const docLinkHtml = 'Like what you see? Visit the ' +\n",
              "            '<a target=\"_blank\" href=https://colab.research.google.com/notebooks/data_table.ipynb>data table notebook</a>'\n",
              "            + ' to learn more about interactive tables.';\n",
              "          element.innerHTML = '';\n",
              "          dataTable['output_type'] = 'display_data';\n",
              "          await google.colab.output.renderOutput(dataTable, element);\n",
              "          const docLink = document.createElement('div');\n",
              "          docLink.innerHTML = docLinkHtml;\n",
              "          element.appendChild(docLink);\n",
              "        }\n",
              "      </script>\n",
              "    </div>\n",
              "  </div>\n",
              "  "
            ]
          },
          "metadata": {},
          "execution_count": 24
        }
      ]
    },
    {
      "cell_type": "markdown",
      "source": [
        "\n",
        "\n",
        "> Usando `str.split` en la columna de coordenadas, podemos separar los datos señalando la coma como el separador. Esto lo guardamos en un nuevo `DataFrame`.\n",
        "\n"
      ],
      "metadata": {
        "id": "hXIx8TMQciQV"
      }
    },
    {
      "cell_type": "markdown",
      "source": [
        "Al obtener las coordenadas en diferentes columnas, debemos señalar que los datos contenidos son variables numéricas."
      ],
      "metadata": {
        "id": "KqIWKoNOc1q6"
      }
    },
    {
      "cell_type": "code",
      "source": [
        "df_coordenadas= df_coordenadas[['longitud','latitud']].astype(float)\n"
      ],
      "metadata": {
        "id": "p8SfjW1a_E-z"
      },
      "execution_count": 25,
      "outputs": []
    },
    {
      "cell_type": "markdown",
      "source": [
        "Ya que los datos son identificados de tipo `float`, podemos quitar aquellos datos que tengan una latitud y longitud de 0, dado que son valores que no poseen ningún valor en el gráfico que se realizará."
      ],
      "metadata": {
        "id": "a1aRi7RYdBGR"
      }
    },
    {
      "cell_type": "code",
      "source": [
        "df_coordenadas= df_coordenadas.loc[~(df_coordenadas==0).all(axis=1)]\n"
      ],
      "metadata": {
        "id": "fnSiaq20dAm9"
      },
      "execution_count": 26,
      "outputs": []
    },
    {
      "cell_type": "markdown",
      "source": [
        "Usando `GeoPandas` y `shapely.geometry` podemos graficar los datos obtenidos como puntos en un gráfico de longitud vs. latitud."
      ],
      "metadata": {
        "id": "5V7SJ4icdPs9"
      }
    },
    {
      "cell_type": "code",
      "source": [
        "crs={'init':'epsg:4326'}\n",
        "geometry=[Point(xy) for xy in zip(df_coordenadas['longitud'], df_coordenadas['latitud'])]\n",
        "geodata=gpd.GeoDataFrame(df_coordenadas,crs=crs, geometry=geometry)\n",
        "geodata.plot()"
      ],
      "metadata": {
        "colab": {
          "base_uri": "https://localhost:8080/",
          "height": 338
        },
        "id": "yGHhbY_swgIl",
        "outputId": "b7ff0929-af1d-46e9-87dd-1e0fed495894"
      },
      "execution_count": 27,
      "outputs": [
        {
          "output_type": "stream",
          "name": "stderr",
          "text": [
            "/usr/local/lib/python3.7/dist-packages/pyproj/crs/crs.py:131: FutureWarning: '+init=<authority>:<code>' syntax is deprecated. '<authority>:<code>' is the preferred initialization method. When making the change, be mindful of axis order changes: https://pyproj4.github.io/pyproj/stable/gotchas.html#axis-order-changes-in-proj-6\n",
            "  in_crs_string = _prepare_from_proj_string(in_crs_string)\n"
          ]
        },
        {
          "output_type": "execute_result",
          "data": {
            "text/plain": [
              "<matplotlib.axes._subplots.AxesSubplot at 0x7fdf968e8c90>"
            ]
          },
          "metadata": {},
          "execution_count": 27
        },
        {
          "output_type": "display_data",
          "data": {
            "text/plain": [
              "<Figure size 432x288 with 1 Axes>"
            ],
            "image/png": "[encoded data removed]"
          },
          "metadata": {}
        }
      ]
    },
    {
      "cell_type": "markdown",
      "source": [
        "\n",
        "\n",
        "> Podemos ver que sin una imagen de referencia, el gráfico toma la forma de la República Méxicana.\n",
        "\n"
      ],
      "metadata": {
        "id": "M74ajK_rdjuI"
      }
    },
    {
      "cell_type": "markdown",
      "source": [
        "Para tener mejor claridad de en qué estados sucedieron los casos, importamos un archivo tipo `.shp` que será útil para graficar los puntos encima de la imágen de referencia."
      ],
      "metadata": {
        "id": "bBb-c4-qdtZm"
      }
    },
    {
      "cell_type": "code",
      "source": [
        "mexico_shapefile = gpd.read_file('/vsicurl/https://github.com/MinervaNunez/Proyecto-_Fase3_Python/raw/main/Mexico_States.shp')"
      ],
      "metadata": {
        "id": "4F5csBrNFwx0"
      },
      "execution_count": 28,
      "outputs": []
    },
    {
      "cell_type": "code",
      "source": [
        "fig, ax = plt.subplots(figsize=(7,7))\n",
        "\n",
        "mexico_shapefile.plot(ax=ax, facecolor='Grey', edgecolor='k',alpha=1,linewidth=1,cmap=\"cividis\")\n",
        "\n",
        "\n",
        "geodata.plot(ax=ax, color='red', markersize=5);\n",
        "\n",
        "\n",
        "\n",
        "fig.suptitle('Casos de personas desaparecidas en México', fontsize=12)\n",
        "ax.set_xlabel('Longitud', fontsize=10)\n",
        "ax.set_ylabel('Latitud', fontsize='medium')"
      ],
      "metadata": {
        "colab": {
          "base_uri": "https://localhost:8080/",
          "height": 450
        },
        "id": "UvdxQ9McH4c-",
        "outputId": "5b17ebc0-2531-4c04-a482-0dd600b2d8a4"
      },
      "execution_count": 29,
      "outputs": [
        {
          "output_type": "execute_result",
          "data": {
            "text/plain": [
              "Text(25.125, 0.5, 'Latitud')"
            ]
          },
          "metadata": {},
          "execution_count": 29
        },
        {
          "output_type": "display_data",
          "data": {
            "text/plain": [
              "<Figure size 504x504 with 1 Axes>"
            ],
            "image/png": "[encoded data removed]"
          },
          "metadata": {}
        }
      ]
    },
    {
      "cell_type": "markdown",
      "source": [
        "\n",
        "\n",
        "> Podemos ver que muchos de los casos suceden al centro y noreste del país.\n",
        "\n"
      ],
      "metadata": {
        "id": "iXyw3u4Pd-jS"
      }
    }
  ]
}